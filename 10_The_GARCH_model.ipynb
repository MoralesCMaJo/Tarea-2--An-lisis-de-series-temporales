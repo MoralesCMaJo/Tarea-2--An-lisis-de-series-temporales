{
  "nbformat": 4,
  "nbformat_minor": 0,
  "metadata": {
    "colab": {
      "provenance": [],
      "authorship_tag": "ABX9TyONl74pVPl1iQne8UjW006Y",
      "include_colab_link": true
    },
    "kernelspec": {
      "name": "python3",
      "display_name": "Python 3"
    },
    "language_info": {
      "name": "python"
    }
  },
  "cells": [
    {
      "cell_type": "markdown",
      "metadata": {
        "id": "view-in-github",
        "colab_type": "text"
      },
      "source": [
        "<a href=\"https://colab.research.google.com/github/MoralesCMaJo/Tarea-2--An-lisis-de-series-temporales/blob/main/10_The_GARCH_model.ipynb\" target=\"_parent\"><img src=\"https://colab.research.google.com/assets/colab-badge.svg\" alt=\"Open In Colab\"/></a>"
      ]
    },
    {
      "cell_type": "markdown",
      "source": [
        "Importing the relevant packages\n"
      ],
      "metadata": {
        "id": "KyOCB7L4yLix"
      }
    },
    {
      "cell_type": "code",
      "source": [
        "!pip install arch\n",
        "import pandas as pd\n",
        "import numpy as np\n",
        "import matplotlib.pyplot as plt\n",
        "import statsmodels.graphics.tsaplots as sgt\n",
        "import statsmodels.tsa.stattools as sts\n",
        "from statsmodels.tsa.arima_model import ARIMA\n",
        "from scipy.stats.distributions import chi2\n",
        "from arch import arch_model\n",
        "from math import sqrt\n",
        "import seaborn as sns\n",
        "sns.set()"
      ],
      "metadata": {
        "colab": {
          "base_uri": "https://localhost:8080/"
        },
        "id": "tJtKFKviyNnX",
        "outputId": "d063be1a-89a5-4f93-ae56-2cffbf0542c1"
      },
      "execution_count": null,
      "outputs": [
        {
          "output_type": "stream",
          "name": "stdout",
          "text": [
            "Collecting arch\n",
            "  Downloading arch-6.2.0-cp310-cp310-manylinux_2_17_x86_64.manylinux2014_x86_64.whl (981 kB)\n",
            "\u001b[2K     \u001b[90m━━━━━━━━━━━━━━━━━━━━━━━━━━━━━━━━━━━━━━━━\u001b[0m \u001b[32m981.7/981.7 kB\u001b[0m \u001b[31m10.7 MB/s\u001b[0m eta \u001b[36m0:00:00\u001b[0m\n",
            "\u001b[?25hRequirement already satisfied: numpy>=1.19 in /usr/local/lib/python3.10/dist-packages (from arch) (1.23.5)\n",
            "Requirement already satisfied: scipy>=1.5 in /usr/local/lib/python3.10/dist-packages (from arch) (1.11.3)\n",
            "Requirement already satisfied: pandas>=1.1 in /usr/local/lib/python3.10/dist-packages (from arch) (1.5.3)\n",
            "Requirement already satisfied: statsmodels>=0.12 in /usr/local/lib/python3.10/dist-packages (from arch) (0.14.0)\n",
            "Requirement already satisfied: python-dateutil>=2.8.1 in /usr/local/lib/python3.10/dist-packages (from pandas>=1.1->arch) (2.8.2)\n",
            "Requirement already satisfied: pytz>=2020.1 in /usr/local/lib/python3.10/dist-packages (from pandas>=1.1->arch) (2023.3.post1)\n",
            "Requirement already satisfied: patsy>=0.5.2 in /usr/local/lib/python3.10/dist-packages (from statsmodels>=0.12->arch) (0.5.3)\n",
            "Requirement already satisfied: packaging>=21.3 in /usr/local/lib/python3.10/dist-packages (from statsmodels>=0.12->arch) (23.2)\n",
            "Requirement already satisfied: six in /usr/local/lib/python3.10/dist-packages (from patsy>=0.5.2->statsmodels>=0.12->arch) (1.16.0)\n",
            "Installing collected packages: arch\n",
            "Successfully installed arch-6.2.0\n"
          ]
        }
      ]
    },
    {
      "cell_type": "markdown",
      "source": [
        "Importing the Data and Pre-processing"
      ],
      "metadata": {
        "id": "ZpzT64Xhy85p"
      }
    },
    {
      "cell_type": "code",
      "source": [
        "from google.colab import drive\n",
        "drive.mount('/content/drive')\n",
        "import shutil\n",
        "# Ruta del archivo en Google Drive\n",
        "ruta_drive = \"/content/drive/My Drive/Index_2023.csv\"\n",
        "# Ruta de destino en Google Colab\n",
        "ruta_colab = \"/content/Index_2023.csv\"\n",
        "# Copia el archivo desde Google Drive a Google Colab\n",
        "shutil.copy(ruta_drive, ruta_colab)\n",
        "\n",
        "#Importación de datos y preprocesamiento\n",
        "raw_csv_data = pd.read_csv(\"Index_2023.csv\")\n",
        "df_comp=raw_csv_data.copy()\n",
        "df_comp.Date = pd.to_datetime(df_comp.Date, dayfirst = True)\n",
        "df_comp.set_index(\"Date\", inplace=True)\n",
        "df_comp=df_comp.asfreq('b')\n",
        "df_comp=df_comp.fillna(method='ffill')"
      ],
      "metadata": {
        "colab": {
          "base_uri": "https://localhost:8080/"
        },
        "id": "PmnKvmYFzArI",
        "outputId": "e820225e-eb09-4ef7-8343-141a9d00a6c3"
      },
      "execution_count": null,
      "outputs": [
        {
          "output_type": "stream",
          "name": "stdout",
          "text": [
            "Mounted at /content/drive\n"
          ]
        }
      ]
    },
    {
      "cell_type": "code",
      "source": [
        "df_comp['market_value']=df_comp.ftse\n",
        "\n"
      ],
      "metadata": {
        "id": "xkcEuFqdziWH"
      },
      "execution_count": null,
      "outputs": []
    },
    {
      "cell_type": "code",
      "source": [
        "del df_comp['spx']\n",
        "del df_comp['dax']\n",
        "del df_comp['ftse']\n",
        "del df_comp['nikkei']\n",
        "size = int(len(df_comp)*0.8)\n",
        "df, df_test = df_comp.iloc[:size], df_comp.iloc[size:]\n",
        "import warnings\n",
        "warnings.filterwarnings(\"ignore\")"
      ],
      "metadata": {
        "id": "vfHopCTazlaV"
      },
      "execution_count": null,
      "outputs": []
    },
    {
      "cell_type": "markdown",
      "source": [
        "The LLR Test"
      ],
      "metadata": {
        "id": "BaYQ7ST0zsQx"
      }
    },
    {
      "cell_type": "code",
      "source": [
        "def LLR_test(mod_1, mod_2, DF = 1):\n",
        "    L1 = mod_1.fit(start_ar_lags = 11).llf\n",
        "    L2 = mod_2.fit(start_ar_lags = 11).llf\n",
        "    LR = (2*(L2-L1))\n",
        "    p = chi2.sf(LR, DF).round(3)\n",
        "    return p"
      ],
      "metadata": {
        "id": "HUYfESZOztDb"
      },
      "execution_count": null,
      "outputs": []
    },
    {
      "cell_type": "markdown",
      "source": [
        "Creating Returns"
      ],
      "metadata": {
        "id": "S8hZhs4Lzy84"
      }
    },
    {
      "cell_type": "code",
      "source": [
        "df['returns'] = df.market_value.pct_change(1)*100\n"
      ],
      "metadata": {
        "id": "n8ClJRXxzzgZ"
      },
      "execution_count": null,
      "outputs": []
    },
    {
      "cell_type": "markdown",
      "source": [
        "The Simple GARCH Model"
      ],
      "metadata": {
        "id": "sshT7pOzz4fN"
      }
    },
    {
      "cell_type": "code",
      "source": [
        "model_garch_1_1 = arch_model(df.returns[1:], mean = \"Constant\", vol = \"GARCH\", p = 1, q = 1)\n",
        "results_garch_1_1 = model_garch_1_1.fit(update_freq = 5)\n",
        "results_garch_1_1.summary()"
      ],
      "metadata": {
        "colab": {
          "base_uri": "https://localhost:8080/",
          "height": 541
        },
        "id": "PswDMYnWz5QV",
        "outputId": "8cc6ac39-a182-4132-d1c9-c9f4a6da052c"
      },
      "execution_count": null,
      "outputs": [
        {
          "output_type": "stream",
          "name": "stdout",
          "text": [
            "Iteration:      5,   Func. Count:     35,   Neg. LLF: 8364.108094821579\n",
            "Iteration:     10,   Func. Count:     65,   Neg. LLF: 8357.41091025245\n",
            "Optimization terminated successfully    (Exit mode 0)\n",
            "            Current function value: 8357.41091025245\n",
            "            Iterations: 11\n",
            "            Function evaluations: 69\n",
            "            Gradient evaluations: 11\n"
          ]
        },
        {
          "output_type": "execute_result",
          "data": {
            "text/plain": [
              "<class 'statsmodels.iolib.summary.Summary'>\n",
              "\"\"\"\n",
              "                     Constant Mean - GARCH Model Results                      \n",
              "==============================================================================\n",
              "Dep. Variable:                returns   R-squared:                       0.000\n",
              "Mean Model:             Constant Mean   Adj. R-squared:                  0.000\n",
              "Vol Model:                      GARCH   Log-Likelihood:               -8357.41\n",
              "Distribution:                  Normal   AIC:                           16722.8\n",
              "Method:            Maximum Likelihood   BIC:                           16749.8\n",
              "                                        No. Observations:                 6199\n",
              "Date:                Sat, Oct 14 2023   Df Residuals:                     6198\n",
              "Time:                        06:11:33   Df Model:                            1\n",
              "                                 Mean Model                                 \n",
              "============================================================================\n",
              "                 coef    std err          t      P>|t|      95.0% Conf. Int.\n",
              "----------------------------------------------------------------------------\n",
              "mu             0.0431  1.048e-02      4.113  3.909e-05 [2.255e-02,6.361e-02]\n",
              "                              Volatility Model                              \n",
              "============================================================================\n",
              "                 coef    std err          t      P>|t|      95.0% Conf. Int.\n",
              "----------------------------------------------------------------------------\n",
              "omega          0.0132  3.437e-03      3.839  1.233e-04 [6.460e-03,1.993e-02]\n",
              "alpha[1]       0.0890  1.149e-02      7.746  9.511e-15   [6.645e-02,  0.111]\n",
              "beta[1]        0.9002  1.297e-02     69.401      0.000     [  0.875,  0.926]\n",
              "============================================================================\n",
              "\n",
              "Covariance estimator: robust\n",
              "\"\"\""
            ],
            "text/html": [
              "<table class=\"simpletable\">\n",
              "<caption>Constant Mean - GARCH Model Results</caption>\n",
              "<tr>\n",
              "  <th>Dep. Variable:</th>       <td>returns</td>      <th>  R-squared:         </th>  <td>   0.000</td> \n",
              "</tr>\n",
              "<tr>\n",
              "  <th>Mean Model:</th>       <td>Constant Mean</td>   <th>  Adj. R-squared:    </th>  <td>   0.000</td> \n",
              "</tr>\n",
              "<tr>\n",
              "  <th>Vol Model:</th>            <td>GARCH</td>       <th>  Log-Likelihood:    </th> <td>  -8357.41</td>\n",
              "</tr>\n",
              "<tr>\n",
              "  <th>Distribution:</th>        <td>Normal</td>       <th>  AIC:               </th> <td>   16722.8</td>\n",
              "</tr>\n",
              "<tr>\n",
              "  <th>Method:</th>        <td>Maximum Likelihood</td> <th>  BIC:               </th> <td>   16749.8</td>\n",
              "</tr>\n",
              "<tr>\n",
              "  <th></th>                        <td></td>          <th>  No. Observations:  </th>    <td>6199</td>   \n",
              "</tr>\n",
              "<tr>\n",
              "  <th>Date:</th>           <td>Sat, Oct 14 2023</td>  <th>  Df Residuals:      </th>    <td>6198</td>   \n",
              "</tr>\n",
              "<tr>\n",
              "  <th>Time:</th>               <td>06:11:33</td>      <th>  Df Model:          </th>      <td>1</td>    \n",
              "</tr>\n",
              "</table>\n",
              "<table class=\"simpletable\">\n",
              "<caption>Mean Model</caption>\n",
              "<tr>\n",
              "   <td></td>     <th>coef</th>     <th>std err</th>      <th>t</th>       <th>P>|t|</th>     <th>95.0% Conf. Int.</th>   \n",
              "</tr>\n",
              "<tr>\n",
              "  <th>mu</th> <td>    0.0431</td> <td>1.048e-02</td> <td>    4.113</td> <td>3.909e-05</td> <td>[2.255e-02,6.361e-02]</td>\n",
              "</tr>\n",
              "</table>\n",
              "<table class=\"simpletable\">\n",
              "<caption>Volatility Model</caption>\n",
              "<tr>\n",
              "      <td></td>        <th>coef</th>     <th>std err</th>      <th>t</th>       <th>P>|t|</th>     <th>95.0% Conf. Int.</th>   \n",
              "</tr>\n",
              "<tr>\n",
              "  <th>omega</th>    <td>    0.0132</td> <td>3.437e-03</td> <td>    3.839</td> <td>1.233e-04</td> <td>[6.460e-03,1.993e-02]</td>\n",
              "</tr>\n",
              "<tr>\n",
              "  <th>alpha[1]</th> <td>    0.0890</td> <td>1.149e-02</td> <td>    7.746</td> <td>9.511e-15</td>  <td>[6.645e-02,  0.111]</td> \n",
              "</tr>\n",
              "<tr>\n",
              "  <th>beta[1]</th>  <td>    0.9002</td> <td>1.297e-02</td> <td>   69.401</td>   <td>0.000</td>     <td>[  0.875,  0.926]</td>  \n",
              "</tr>\n",
              "</table><br/><br/>Covariance estimator: robust"
            ],
            "text/latex": "\\begin{center}\n\\begin{tabular}{lclc}\n\\toprule\n\\textbf{Dep. Variable:} &      returns       & \\textbf{  R-squared:         } &     0.000   \\\\\n\\textbf{Mean Model:}    &   Constant Mean    & \\textbf{  Adj. R-squared:    } &     0.000   \\\\\n\\textbf{Vol Model:}     &       GARCH        & \\textbf{  Log-Likelihood:    } &   -8357.41  \\\\\n\\textbf{Distribution:}  &       Normal       & \\textbf{  AIC:               } &    16722.8  \\\\\n\\textbf{Method:}        & Maximum Likelihood & \\textbf{  BIC:               } &    16749.8  \\\\\n\\textbf{}               &                    & \\textbf{  No. Observations:  } &    6199     \\\\\n\\textbf{Date:}          &  Sat, Oct 14 2023  & \\textbf{  Df Residuals:      } &    6198     \\\\\n\\textbf{Time:}          &      06:11:33      & \\textbf{  Df Model:          } &     1       \\\\\n\\bottomrule\n\\end{tabular}\n\\begin{tabular}{lccccc}\n            & \\textbf{coef} & \\textbf{std err} & \\textbf{t} & \\textbf{P$> |$t$|$} & \\textbf{95.0\\% Conf. Int.}  \\\\\n\\midrule\n\\textbf{mu} &       0.0431  &    1.048e-02     &     4.113  &      3.909e-05       &   [2.255e-02,6.361e-02]     \\\\\n                  & \\textbf{coef} & \\textbf{std err} & \\textbf{t} & \\textbf{P$> |$t$|$} & \\textbf{95.0\\% Conf. Int.}  \\\\\n\\midrule\n\\textbf{omega}    &       0.0132  &    3.437e-03     &     3.839  &      1.233e-04       &   [6.460e-03,1.993e-02]     \\\\\n\\textbf{alpha[1]} &       0.0890  &    1.149e-02     &     7.746  &      9.511e-15       &    [6.645e-02,  0.111]      \\\\\n\\textbf{beta[1]}  &       0.9002  &    1.297e-02     &    69.401  &        0.000         &     [  0.875,  0.926]       \\\\\n\\bottomrule\n\\end{tabular}\n%\\caption{Constant Mean - GARCH Model Results}\n\\end{center}\n\nCovariance estimator: robust"
          },
          "metadata": {},
          "execution_count": 9
        }
      ]
    },
    {
      "cell_type": "markdown",
      "source": [
        "Higher-Lag GARCH Models"
      ],
      "metadata": {
        "id": "zhaJbs780AAk"
      }
    },
    {
      "cell_type": "code",
      "source": [
        "model_garch_1_2 = arch_model(df.returns[1:], mean = \"Constant\",  vol = \"GARCH\", p = 1, q = 2)\n",
        "results_garch_1_2 = model_garch_1_2.fit(update_freq = 5)\n",
        "results_garch_1_2.summary()"
      ],
      "metadata": {
        "colab": {
          "base_uri": "https://localhost:8080/",
          "height": 562
        },
        "id": "gqi6fuqM0Ak9",
        "outputId": "940c5a38-c108-491d-b39a-f7b9944cc045"
      },
      "execution_count": null,
      "outputs": [
        {
          "output_type": "stream",
          "name": "stdout",
          "text": [
            "Iteration:      5,   Func. Count:     40,   Neg. LLF: 8368.276321909765\n",
            "Iteration:     10,   Func. Count:     72,   Neg. LLF: 8357.413559632852\n",
            "Optimization terminated successfully    (Exit mode 0)\n",
            "            Current function value: 8357.410910333732\n",
            "            Iterations: 14\n",
            "            Function evaluations: 95\n",
            "            Gradient evaluations: 14\n"
          ]
        },
        {
          "output_type": "execute_result",
          "data": {
            "text/plain": [
              "<class 'statsmodels.iolib.summary.Summary'>\n",
              "\"\"\"\n",
              "                     Constant Mean - GARCH Model Results                      \n",
              "==============================================================================\n",
              "Dep. Variable:                returns   R-squared:                       0.000\n",
              "Mean Model:             Constant Mean   Adj. R-squared:                  0.000\n",
              "Vol Model:                      GARCH   Log-Likelihood:               -8357.41\n",
              "Distribution:                  Normal   AIC:                           16724.8\n",
              "Method:            Maximum Likelihood   BIC:                           16758.5\n",
              "                                        No. Observations:                 6199\n",
              "Date:                Sat, Oct 14 2023   Df Residuals:                     6198\n",
              "Time:                        06:12:06   Df Model:                            1\n",
              "                                 Mean Model                                 \n",
              "============================================================================\n",
              "                 coef    std err          t      P>|t|      95.0% Conf. Int.\n",
              "----------------------------------------------------------------------------\n",
              "mu             0.0431  1.047e-02      4.116  3.854e-05 [2.257e-02,6.360e-02]\n",
              "                              Volatility Model                              \n",
              "============================================================================\n",
              "                 coef    std err          t      P>|t|      95.0% Conf. Int.\n",
              "----------------------------------------------------------------------------\n",
              "omega          0.0132  3.297e-03      4.003  6.265e-05 [6.735e-03,1.966e-02]\n",
              "alpha[1]       0.0890  1.368e-02      6.501  7.976e-11   [6.214e-02,  0.116]\n",
              "beta[1]        0.9002      0.206      4.374  1.218e-05     [  0.497,  1.304]\n",
              "beta[2]    3.6238e-12      0.196  1.846e-11      1.000     [ -0.385,  0.385]\n",
              "============================================================================\n",
              "\n",
              "Covariance estimator: robust\n",
              "\"\"\""
            ],
            "text/html": [
              "<table class=\"simpletable\">\n",
              "<caption>Constant Mean - GARCH Model Results</caption>\n",
              "<tr>\n",
              "  <th>Dep. Variable:</th>       <td>returns</td>      <th>  R-squared:         </th>  <td>   0.000</td> \n",
              "</tr>\n",
              "<tr>\n",
              "  <th>Mean Model:</th>       <td>Constant Mean</td>   <th>  Adj. R-squared:    </th>  <td>   0.000</td> \n",
              "</tr>\n",
              "<tr>\n",
              "  <th>Vol Model:</th>            <td>GARCH</td>       <th>  Log-Likelihood:    </th> <td>  -8357.41</td>\n",
              "</tr>\n",
              "<tr>\n",
              "  <th>Distribution:</th>        <td>Normal</td>       <th>  AIC:               </th> <td>   16724.8</td>\n",
              "</tr>\n",
              "<tr>\n",
              "  <th>Method:</th>        <td>Maximum Likelihood</td> <th>  BIC:               </th> <td>   16758.5</td>\n",
              "</tr>\n",
              "<tr>\n",
              "  <th></th>                        <td></td>          <th>  No. Observations:  </th>    <td>6199</td>   \n",
              "</tr>\n",
              "<tr>\n",
              "  <th>Date:</th>           <td>Sat, Oct 14 2023</td>  <th>  Df Residuals:      </th>    <td>6198</td>   \n",
              "</tr>\n",
              "<tr>\n",
              "  <th>Time:</th>               <td>06:12:06</td>      <th>  Df Model:          </th>      <td>1</td>    \n",
              "</tr>\n",
              "</table>\n",
              "<table class=\"simpletable\">\n",
              "<caption>Mean Model</caption>\n",
              "<tr>\n",
              "   <td></td>     <th>coef</th>     <th>std err</th>      <th>t</th>       <th>P>|t|</th>     <th>95.0% Conf. Int.</th>   \n",
              "</tr>\n",
              "<tr>\n",
              "  <th>mu</th> <td>    0.0431</td> <td>1.047e-02</td> <td>    4.116</td> <td>3.854e-05</td> <td>[2.257e-02,6.360e-02]</td>\n",
              "</tr>\n",
              "</table>\n",
              "<table class=\"simpletable\">\n",
              "<caption>Volatility Model</caption>\n",
              "<tr>\n",
              "      <td></td>        <th>coef</th>     <th>std err</th>      <th>t</th>       <th>P>|t|</th>     <th>95.0% Conf. Int.</th>   \n",
              "</tr>\n",
              "<tr>\n",
              "  <th>omega</th>    <td>    0.0132</td> <td>3.297e-03</td> <td>    4.003</td> <td>6.265e-05</td> <td>[6.735e-03,1.966e-02]</td>\n",
              "</tr>\n",
              "<tr>\n",
              "  <th>alpha[1]</th> <td>    0.0890</td> <td>1.368e-02</td> <td>    6.501</td> <td>7.976e-11</td>  <td>[6.214e-02,  0.116]</td> \n",
              "</tr>\n",
              "<tr>\n",
              "  <th>beta[1]</th>  <td>    0.9002</td> <td>    0.206</td> <td>    4.374</td> <td>1.218e-05</td>   <td>[  0.497,  1.304]</td>  \n",
              "</tr>\n",
              "<tr>\n",
              "  <th>beta[2]</th>  <td>3.6238e-12</td> <td>    0.196</td> <td>1.846e-11</td> <td>    1.000</td>   <td>[ -0.385,  0.385]</td>  \n",
              "</tr>\n",
              "</table><br/><br/>Covariance estimator: robust"
            ],
            "text/latex": "\\begin{center}\n\\begin{tabular}{lclc}\n\\toprule\n\\textbf{Dep. Variable:} &      returns       & \\textbf{  R-squared:         } &     0.000   \\\\\n\\textbf{Mean Model:}    &   Constant Mean    & \\textbf{  Adj. R-squared:    } &     0.000   \\\\\n\\textbf{Vol Model:}     &       GARCH        & \\textbf{  Log-Likelihood:    } &   -8357.41  \\\\\n\\textbf{Distribution:}  &       Normal       & \\textbf{  AIC:               } &    16724.8  \\\\\n\\textbf{Method:}        & Maximum Likelihood & \\textbf{  BIC:               } &    16758.5  \\\\\n\\textbf{}               &                    & \\textbf{  No. Observations:  } &    6199     \\\\\n\\textbf{Date:}          &  Sat, Oct 14 2023  & \\textbf{  Df Residuals:      } &    6198     \\\\\n\\textbf{Time:}          &      06:12:06      & \\textbf{  Df Model:          } &     1       \\\\\n\\bottomrule\n\\end{tabular}\n\\begin{tabular}{lccccc}\n            & \\textbf{coef} & \\textbf{std err} & \\textbf{t} & \\textbf{P$> |$t$|$} & \\textbf{95.0\\% Conf. Int.}  \\\\\n\\midrule\n\\textbf{mu} &       0.0431  &    1.047e-02     &     4.116  &      3.854e-05       &   [2.257e-02,6.360e-02]     \\\\\n                  & \\textbf{coef} & \\textbf{std err} & \\textbf{t} & \\textbf{P$> |$t$|$} & \\textbf{95.0\\% Conf. Int.}  \\\\\n\\midrule\n\\textbf{omega}    &       0.0132  &    3.297e-03     &     4.003  &      6.265e-05       &   [6.735e-03,1.966e-02]     \\\\\n\\textbf{alpha[1]} &       0.0890  &    1.368e-02     &     6.501  &      7.976e-11       &    [6.214e-02,  0.116]      \\\\\n\\textbf{beta[1]}  &       0.9002  &        0.206     &     4.374  &      1.218e-05       &     [  0.497,  1.304]       \\\\\n\\textbf{beta[2]}  &   3.6238e-12  &        0.196     & 1.846e-11  &          1.000       &     [ -0.385,  0.385]       \\\\\n\\bottomrule\n\\end{tabular}\n%\\caption{Constant Mean - GARCH Model Results}\n\\end{center}\n\nCovariance estimator: robust"
          },
          "metadata": {},
          "execution_count": 10
        }
      ]
    },
    {
      "cell_type": "code",
      "source": [
        "model_garch_1_3 = arch_model(df.returns[1:], mean = \"Constant\",  vol = \"GARCH\", p = 1, q = 3)\n",
        "results_garch_1_3 = model_garch_1_3.fit(update_freq = 5)\n",
        "results_garch_1_3.summary()"
      ],
      "metadata": {
        "colab": {
          "base_uri": "https://localhost:8080/",
          "height": 600
        },
        "id": "mXzIsCOG0IIt",
        "outputId": "e13165f5-e44f-43e5-8c0a-6344c07c71ac"
      },
      "execution_count": null,
      "outputs": [
        {
          "output_type": "stream",
          "name": "stdout",
          "text": [
            "Iteration:      5,   Func. Count:     47,   Neg. LLF: 8493.565054337927\n",
            "Iteration:     10,   Func. Count:     87,   Neg. LLF: 8357.593961897674\n",
            "Iteration:     15,   Func. Count:    122,   Neg. LLF: 8357.410910206818\n",
            "Optimization terminated successfully    (Exit mode 0)\n",
            "            Current function value: 8357.410910206818\n",
            "            Iterations: 15\n",
            "            Function evaluations: 122\n",
            "            Gradient evaluations: 15\n"
          ]
        },
        {
          "output_type": "execute_result",
          "data": {
            "text/plain": [
              "<class 'statsmodels.iolib.summary.Summary'>\n",
              "\"\"\"\n",
              "                     Constant Mean - GARCH Model Results                      \n",
              "==============================================================================\n",
              "Dep. Variable:                returns   R-squared:                       0.000\n",
              "Mean Model:             Constant Mean   Adj. R-squared:                  0.000\n",
              "Vol Model:                      GARCH   Log-Likelihood:               -8357.41\n",
              "Distribution:                  Normal   AIC:                           16726.8\n",
              "Method:            Maximum Likelihood   BIC:                           16767.2\n",
              "                                        No. Observations:                 6199\n",
              "Date:                Sat, Oct 14 2023   Df Residuals:                     6198\n",
              "Time:                        06:12:26   Df Model:                            1\n",
              "                                 Mean Model                                 \n",
              "============================================================================\n",
              "                 coef    std err          t      P>|t|      95.0% Conf. Int.\n",
              "----------------------------------------------------------------------------\n",
              "mu             0.0431  2.143e-02      2.011  4.436e-02 [1.087e-03,8.508e-02]\n",
              "                            Volatility Model                            \n",
              "========================================================================\n",
              "                 coef    std err          t      P>|t|  95.0% Conf. Int.\n",
              "------------------------------------------------------------------------\n",
              "omega          0.0132  6.723e-02      0.196      0.844 [ -0.119,  0.145]\n",
              "alpha[1]       0.0890      0.467      0.190      0.849 [ -0.827,  1.005]\n",
              "beta[1]        0.9002     13.766  6.539e-02      0.948 [-26.081, 27.882]\n",
              "beta[2]    7.5260e-11     20.991  3.585e-12      1.000 [-41.142, 41.142]\n",
              "beta[3]        0.0000      7.745      0.000      1.000 [-15.180, 15.180]\n",
              "========================================================================\n",
              "\n",
              "Covariance estimator: robust\n",
              "\"\"\""
            ],
            "text/html": [
              "<table class=\"simpletable\">\n",
              "<caption>Constant Mean - GARCH Model Results</caption>\n",
              "<tr>\n",
              "  <th>Dep. Variable:</th>       <td>returns</td>      <th>  R-squared:         </th>  <td>   0.000</td> \n",
              "</tr>\n",
              "<tr>\n",
              "  <th>Mean Model:</th>       <td>Constant Mean</td>   <th>  Adj. R-squared:    </th>  <td>   0.000</td> \n",
              "</tr>\n",
              "<tr>\n",
              "  <th>Vol Model:</th>            <td>GARCH</td>       <th>  Log-Likelihood:    </th> <td>  -8357.41</td>\n",
              "</tr>\n",
              "<tr>\n",
              "  <th>Distribution:</th>        <td>Normal</td>       <th>  AIC:               </th> <td>   16726.8</td>\n",
              "</tr>\n",
              "<tr>\n",
              "  <th>Method:</th>        <td>Maximum Likelihood</td> <th>  BIC:               </th> <td>   16767.2</td>\n",
              "</tr>\n",
              "<tr>\n",
              "  <th></th>                        <td></td>          <th>  No. Observations:  </th>    <td>6199</td>   \n",
              "</tr>\n",
              "<tr>\n",
              "  <th>Date:</th>           <td>Sat, Oct 14 2023</td>  <th>  Df Residuals:      </th>    <td>6198</td>   \n",
              "</tr>\n",
              "<tr>\n",
              "  <th>Time:</th>               <td>06:12:26</td>      <th>  Df Model:          </th>      <td>1</td>    \n",
              "</tr>\n",
              "</table>\n",
              "<table class=\"simpletable\">\n",
              "<caption>Mean Model</caption>\n",
              "<tr>\n",
              "   <td></td>     <th>coef</th>     <th>std err</th>      <th>t</th>       <th>P>|t|</th>     <th>95.0% Conf. Int.</th>   \n",
              "</tr>\n",
              "<tr>\n",
              "  <th>mu</th> <td>    0.0431</td> <td>2.143e-02</td> <td>    2.011</td> <td>4.436e-02</td> <td>[1.087e-03,8.508e-02]</td>\n",
              "</tr>\n",
              "</table>\n",
              "<table class=\"simpletable\">\n",
              "<caption>Volatility Model</caption>\n",
              "<tr>\n",
              "      <td></td>        <th>coef</th>     <th>std err</th>      <th>t</th>       <th>P>|t|</th>   <th>95.0% Conf. Int.</th> \n",
              "</tr>\n",
              "<tr>\n",
              "  <th>omega</th>    <td>    0.0132</td> <td>6.723e-02</td> <td>    0.196</td> <td>    0.844</td> <td>[ -0.119,  0.145]</td>\n",
              "</tr>\n",
              "<tr>\n",
              "  <th>alpha[1]</th> <td>    0.0890</td> <td>    0.467</td> <td>    0.190</td> <td>    0.849</td> <td>[ -0.827,  1.005]</td>\n",
              "</tr>\n",
              "<tr>\n",
              "  <th>beta[1]</th>  <td>    0.9002</td> <td>   13.766</td> <td>6.539e-02</td> <td>    0.948</td> <td>[-26.081, 27.882]</td>\n",
              "</tr>\n",
              "<tr>\n",
              "  <th>beta[2]</th>  <td>7.5260e-11</td> <td>   20.991</td> <td>3.585e-12</td> <td>    1.000</td> <td>[-41.142, 41.142]</td>\n",
              "</tr>\n",
              "<tr>\n",
              "  <th>beta[3]</th>    <td>0.0000</td>   <td>    7.745</td>   <td>0.000</td>   <td>    1.000</td> <td>[-15.180, 15.180]</td>\n",
              "</tr>\n",
              "</table><br/><br/>Covariance estimator: robust"
            ],
            "text/latex": "\\begin{center}\n\\begin{tabular}{lclc}\n\\toprule\n\\textbf{Dep. Variable:} &      returns       & \\textbf{  R-squared:         } &     0.000   \\\\\n\\textbf{Mean Model:}    &   Constant Mean    & \\textbf{  Adj. R-squared:    } &     0.000   \\\\\n\\textbf{Vol Model:}     &       GARCH        & \\textbf{  Log-Likelihood:    } &   -8357.41  \\\\\n\\textbf{Distribution:}  &       Normal       & \\textbf{  AIC:               } &    16726.8  \\\\\n\\textbf{Method:}        & Maximum Likelihood & \\textbf{  BIC:               } &    16767.2  \\\\\n\\textbf{}               &                    & \\textbf{  No. Observations:  } &    6199     \\\\\n\\textbf{Date:}          &  Sat, Oct 14 2023  & \\textbf{  Df Residuals:      } &    6198     \\\\\n\\textbf{Time:}          &      06:12:26      & \\textbf{  Df Model:          } &     1       \\\\\n\\bottomrule\n\\end{tabular}\n\\begin{tabular}{lccccc}\n            & \\textbf{coef} & \\textbf{std err} & \\textbf{t} & \\textbf{P$> |$t$|$} & \\textbf{95.0\\% Conf. Int.}  \\\\\n\\midrule\n\\textbf{mu} &       0.0431  &    2.143e-02     &     2.011  &      4.436e-02       &   [1.087e-03,8.508e-02]     \\\\\n                  & \\textbf{coef} & \\textbf{std err} & \\textbf{t} & \\textbf{P$> |$t$|$} & \\textbf{95.0\\% Conf. Int.}  \\\\\n\\midrule\n\\textbf{omega}    &       0.0132  &    6.723e-02     &     0.196  &          0.844       &     [ -0.119,  0.145]       \\\\\n\\textbf{alpha[1]} &       0.0890  &        0.467     &     0.190  &          0.849       &     [ -0.827,  1.005]       \\\\\n\\textbf{beta[1]}  &       0.9002  &       13.766     & 6.539e-02  &          0.948       &     [-26.081, 27.882]       \\\\\n\\textbf{beta[2]}  &   7.5260e-11  &       20.991     & 3.585e-12  &          1.000       &     [-41.142, 41.142]       \\\\\n\\textbf{beta[3]}  &     0.0000    &        7.745     &   0.000    &          1.000       &     [-15.180, 15.180]       \\\\\n\\bottomrule\n\\end{tabular}\n%\\caption{Constant Mean - GARCH Model Results}\n\\end{center}\n\nCovariance estimator: robust"
          },
          "metadata": {},
          "execution_count": 11
        }
      ]
    },
    {
      "cell_type": "code",
      "source": [
        "model_garch_2_1 = arch_model(df.returns[1:], mean = \"Constant\",  vol = \"GARCH\", p = 2, q = 1)\n",
        "results_garch_2_1 = model_garch_2_1.fit(update_freq = 5)\n",
        "results_garch_2_1.summary()"
      ],
      "metadata": {
        "colab": {
          "base_uri": "https://localhost:8080/",
          "height": 562
        },
        "id": "M797XyLb0Md9",
        "outputId": "73b0206e-ee7f-4bbf-8cab-c3a7397fc806"
      },
      "execution_count": null,
      "outputs": [
        {
          "output_type": "stream",
          "name": "stdout",
          "text": [
            "Iteration:      5,   Func. Count:     41,   Neg. LLF: 8374.272287037737\n",
            "Iteration:     10,   Func. Count:     76,   Neg. LLF: 8358.744149762155\n",
            "Optimization terminated successfully    (Exit mode 0)\n",
            "            Current function value: 8356.28400637422\n",
            "            Iterations: 14\n",
            "            Function evaluations: 100\n",
            "            Gradient evaluations: 14\n"
          ]
        },
        {
          "output_type": "execute_result",
          "data": {
            "text/plain": [
              "<class 'statsmodels.iolib.summary.Summary'>\n",
              "\"\"\"\n",
              "                     Constant Mean - GARCH Model Results                      \n",
              "==============================================================================\n",
              "Dep. Variable:                returns   R-squared:                       0.000\n",
              "Mean Model:             Constant Mean   Adj. R-squared:                  0.000\n",
              "Vol Model:                      GARCH   Log-Likelihood:               -8356.28\n",
              "Distribution:                  Normal   AIC:                           16722.6\n",
              "Method:            Maximum Likelihood   BIC:                           16756.2\n",
              "                                        No. Observations:                 6199\n",
              "Date:                Sat, Oct 14 2023   Df Residuals:                     6198\n",
              "Time:                        06:12:45   Df Model:                            1\n",
              "                                 Mean Model                                 \n",
              "============================================================================\n",
              "                 coef    std err          t      P>|t|      95.0% Conf. Int.\n",
              "----------------------------------------------------------------------------\n",
              "mu             0.0428  1.051e-02      4.075  4.605e-05 [2.224e-02,6.345e-02]\n",
              "                               Volatility Model                              \n",
              "=============================================================================\n",
              "                 coef    std err          t      P>|t|       95.0% Conf. Int.\n",
              "-----------------------------------------------------------------------------\n",
              "omega          0.0150  4.700e-03      3.197  1.387e-03  [5.816e-03,2.424e-02]\n",
              "alpha[1]       0.0710  1.720e-02      4.129  3.645e-05    [3.732e-02,  0.105]\n",
              "alpha[2]       0.0259  2.449e-02      1.057      0.290 [-2.210e-02,7.389e-02]\n",
              "beta[1]        0.8908  1.928e-02     46.212      0.000      [  0.853,  0.929]\n",
              "=============================================================================\n",
              "\n",
              "Covariance estimator: robust\n",
              "\"\"\""
            ],
            "text/html": [
              "<table class=\"simpletable\">\n",
              "<caption>Constant Mean - GARCH Model Results</caption>\n",
              "<tr>\n",
              "  <th>Dep. Variable:</th>       <td>returns</td>      <th>  R-squared:         </th>  <td>   0.000</td> \n",
              "</tr>\n",
              "<tr>\n",
              "  <th>Mean Model:</th>       <td>Constant Mean</td>   <th>  Adj. R-squared:    </th>  <td>   0.000</td> \n",
              "</tr>\n",
              "<tr>\n",
              "  <th>Vol Model:</th>            <td>GARCH</td>       <th>  Log-Likelihood:    </th> <td>  -8356.28</td>\n",
              "</tr>\n",
              "<tr>\n",
              "  <th>Distribution:</th>        <td>Normal</td>       <th>  AIC:               </th> <td>   16722.6</td>\n",
              "</tr>\n",
              "<tr>\n",
              "  <th>Method:</th>        <td>Maximum Likelihood</td> <th>  BIC:               </th> <td>   16756.2</td>\n",
              "</tr>\n",
              "<tr>\n",
              "  <th></th>                        <td></td>          <th>  No. Observations:  </th>    <td>6199</td>   \n",
              "</tr>\n",
              "<tr>\n",
              "  <th>Date:</th>           <td>Sat, Oct 14 2023</td>  <th>  Df Residuals:      </th>    <td>6198</td>   \n",
              "</tr>\n",
              "<tr>\n",
              "  <th>Time:</th>               <td>06:12:45</td>      <th>  Df Model:          </th>      <td>1</td>    \n",
              "</tr>\n",
              "</table>\n",
              "<table class=\"simpletable\">\n",
              "<caption>Mean Model</caption>\n",
              "<tr>\n",
              "   <td></td>     <th>coef</th>     <th>std err</th>      <th>t</th>       <th>P>|t|</th>     <th>95.0% Conf. Int.</th>   \n",
              "</tr>\n",
              "<tr>\n",
              "  <th>mu</th> <td>    0.0428</td> <td>1.051e-02</td> <td>    4.075</td> <td>4.605e-05</td> <td>[2.224e-02,6.345e-02]</td>\n",
              "</tr>\n",
              "</table>\n",
              "<table class=\"simpletable\">\n",
              "<caption>Volatility Model</caption>\n",
              "<tr>\n",
              "      <td></td>        <th>coef</th>     <th>std err</th>      <th>t</th>       <th>P>|t|</th>      <th>95.0% Conf. Int.</th>   \n",
              "</tr>\n",
              "<tr>\n",
              "  <th>omega</th>    <td>    0.0150</td> <td>4.700e-03</td> <td>    3.197</td> <td>1.387e-03</td>  <td>[5.816e-03,2.424e-02]</td>\n",
              "</tr>\n",
              "<tr>\n",
              "  <th>alpha[1]</th> <td>    0.0710</td> <td>1.720e-02</td> <td>    4.129</td> <td>3.645e-05</td>   <td>[3.732e-02,  0.105]</td> \n",
              "</tr>\n",
              "<tr>\n",
              "  <th>alpha[2]</th> <td>    0.0259</td> <td>2.449e-02</td> <td>    1.057</td> <td>    0.290</td> <td>[-2.210e-02,7.389e-02]</td>\n",
              "</tr>\n",
              "<tr>\n",
              "  <th>beta[1]</th>  <td>    0.8908</td> <td>1.928e-02</td> <td>   46.212</td>   <td>0.000</td>      <td>[  0.853,  0.929]</td>  \n",
              "</tr>\n",
              "</table><br/><br/>Covariance estimator: robust"
            ],
            "text/latex": "\\begin{center}\n\\begin{tabular}{lclc}\n\\toprule\n\\textbf{Dep. Variable:} &      returns       & \\textbf{  R-squared:         } &     0.000   \\\\\n\\textbf{Mean Model:}    &   Constant Mean    & \\textbf{  Adj. R-squared:    } &     0.000   \\\\\n\\textbf{Vol Model:}     &       GARCH        & \\textbf{  Log-Likelihood:    } &   -8356.28  \\\\\n\\textbf{Distribution:}  &       Normal       & \\textbf{  AIC:               } &    16722.6  \\\\\n\\textbf{Method:}        & Maximum Likelihood & \\textbf{  BIC:               } &    16756.2  \\\\\n\\textbf{}               &                    & \\textbf{  No. Observations:  } &    6199     \\\\\n\\textbf{Date:}          &  Sat, Oct 14 2023  & \\textbf{  Df Residuals:      } &    6198     \\\\\n\\textbf{Time:}          &      06:12:45      & \\textbf{  Df Model:          } &     1       \\\\\n\\bottomrule\n\\end{tabular}\n\\begin{tabular}{lccccc}\n            & \\textbf{coef} & \\textbf{std err} & \\textbf{t} & \\textbf{P$> |$t$|$} & \\textbf{95.0\\% Conf. Int.}  \\\\\n\\midrule\n\\textbf{mu} &       0.0428  &    1.051e-02     &     4.075  &      4.605e-05       &   [2.224e-02,6.345e-02]     \\\\\n                  & \\textbf{coef} & \\textbf{std err} & \\textbf{t} & \\textbf{P$> |$t$|$} & \\textbf{95.0\\% Conf. Int.}  \\\\\n\\midrule\n\\textbf{omega}    &       0.0150  &    4.700e-03     &     3.197  &      1.387e-03       &   [5.816e-03,2.424e-02]     \\\\\n\\textbf{alpha[1]} &       0.0710  &    1.720e-02     &     4.129  &      3.645e-05       &    [3.732e-02,  0.105]      \\\\\n\\textbf{alpha[2]} &       0.0259  &    2.449e-02     &     1.057  &          0.290       &   [-2.210e-02,7.389e-02]    \\\\\n\\textbf{beta[1]}  &       0.8908  &    1.928e-02     &    46.212  &        0.000         &     [  0.853,  0.929]       \\\\\n\\bottomrule\n\\end{tabular}\n%\\caption{Constant Mean - GARCH Model Results}\n\\end{center}\n\nCovariance estimator: robust"
          },
          "metadata": {},
          "execution_count": 12
        }
      ]
    },
    {
      "cell_type": "code",
      "source": [
        "model_garch_3_1 = arch_model(df.returns[1:], mean = \"Constant\",  vol = \"GARCH\", p = 3, q = 1)\n",
        "results_garch_3_1 = model_garch_3_1.fit(update_freq = 5)\n",
        "results_garch_3_1.summary()"
      ],
      "metadata": {
        "colab": {
          "base_uri": "https://localhost:8080/",
          "height": 600
        },
        "id": "d7FnFoJE0RXE",
        "outputId": "a8056edb-eab1-4bef-ca53-0181c4891160"
      },
      "execution_count": null,
      "outputs": [
        {
          "output_type": "stream",
          "name": "stdout",
          "text": [
            "Iteration:      5,   Func. Count:     45,   Neg. LLF: 15715.489255304889\n",
            "Iteration:     10,   Func. Count:     85,   Neg. LLF: 8356.314622239566\n",
            "Iteration:     15,   Func. Count:    119,   Neg. LLF: 8356.284006323696\n",
            "Optimization terminated successfully    (Exit mode 0)\n",
            "            Current function value: 8356.284006321966\n",
            "            Iterations: 15\n",
            "            Function evaluations: 119\n",
            "            Gradient evaluations: 15\n"
          ]
        },
        {
          "output_type": "execute_result",
          "data": {
            "text/plain": [
              "<class 'statsmodels.iolib.summary.Summary'>\n",
              "\"\"\"\n",
              "                     Constant Mean - GARCH Model Results                      \n",
              "==============================================================================\n",
              "Dep. Variable:                returns   R-squared:                       0.000\n",
              "Mean Model:             Constant Mean   Adj. R-squared:                  0.000\n",
              "Vol Model:                      GARCH   Log-Likelihood:               -8356.28\n",
              "Distribution:                  Normal   AIC:                           16724.6\n",
              "Method:            Maximum Likelihood   BIC:                           16765.0\n",
              "                                        No. Observations:                 6199\n",
              "Date:                Sat, Oct 14 2023   Df Residuals:                     6198\n",
              "Time:                        06:13:04   Df Model:                            1\n",
              "                                 Mean Model                                 \n",
              "============================================================================\n",
              "                 coef    std err          t      P>|t|      95.0% Conf. Int.\n",
              "----------------------------------------------------------------------------\n",
              "mu             0.0428  1.055e-02      4.060  4.909e-05 [2.216e-02,6.353e-02]\n",
              "                               Volatility Model                              \n",
              "=============================================================================\n",
              "                 coef    std err          t      P>|t|       95.0% Conf. Int.\n",
              "-----------------------------------------------------------------------------\n",
              "omega          0.0150  5.936e-03      2.532  1.135e-02  [3.394e-03,2.666e-02]\n",
              "alpha[1]       0.0710  1.720e-02      4.129  3.637e-05    [3.732e-02,  0.105]\n",
              "alpha[2]       0.0259  2.463e-02      1.051      0.293 [-2.238e-02,7.415e-02]\n",
              "alpha[3]       0.0000  2.632e-02      0.000      1.000 [-5.159e-02,5.159e-02]\n",
              "beta[1]        0.8908  2.687e-02     33.145 6.764e-241      [  0.838,  0.943]\n",
              "=============================================================================\n",
              "\n",
              "Covariance estimator: robust\n",
              "\"\"\""
            ],
            "text/html": [
              "<table class=\"simpletable\">\n",
              "<caption>Constant Mean - GARCH Model Results</caption>\n",
              "<tr>\n",
              "  <th>Dep. Variable:</th>       <td>returns</td>      <th>  R-squared:         </th>  <td>   0.000</td> \n",
              "</tr>\n",
              "<tr>\n",
              "  <th>Mean Model:</th>       <td>Constant Mean</td>   <th>  Adj. R-squared:    </th>  <td>   0.000</td> \n",
              "</tr>\n",
              "<tr>\n",
              "  <th>Vol Model:</th>            <td>GARCH</td>       <th>  Log-Likelihood:    </th> <td>  -8356.28</td>\n",
              "</tr>\n",
              "<tr>\n",
              "  <th>Distribution:</th>        <td>Normal</td>       <th>  AIC:               </th> <td>   16724.6</td>\n",
              "</tr>\n",
              "<tr>\n",
              "  <th>Method:</th>        <td>Maximum Likelihood</td> <th>  BIC:               </th> <td>   16765.0</td>\n",
              "</tr>\n",
              "<tr>\n",
              "  <th></th>                        <td></td>          <th>  No. Observations:  </th>    <td>6199</td>   \n",
              "</tr>\n",
              "<tr>\n",
              "  <th>Date:</th>           <td>Sat, Oct 14 2023</td>  <th>  Df Residuals:      </th>    <td>6198</td>   \n",
              "</tr>\n",
              "<tr>\n",
              "  <th>Time:</th>               <td>06:13:04</td>      <th>  Df Model:          </th>      <td>1</td>    \n",
              "</tr>\n",
              "</table>\n",
              "<table class=\"simpletable\">\n",
              "<caption>Mean Model</caption>\n",
              "<tr>\n",
              "   <td></td>     <th>coef</th>     <th>std err</th>      <th>t</th>       <th>P>|t|</th>     <th>95.0% Conf. Int.</th>   \n",
              "</tr>\n",
              "<tr>\n",
              "  <th>mu</th> <td>    0.0428</td> <td>1.055e-02</td> <td>    4.060</td> <td>4.909e-05</td> <td>[2.216e-02,6.353e-02]</td>\n",
              "</tr>\n",
              "</table>\n",
              "<table class=\"simpletable\">\n",
              "<caption>Volatility Model</caption>\n",
              "<tr>\n",
              "      <td></td>        <th>coef</th>     <th>std err</th>      <th>t</th>        <th>P>|t|</th>      <th>95.0% Conf. Int.</th>   \n",
              "</tr>\n",
              "<tr>\n",
              "  <th>omega</th>    <td>    0.0150</td> <td>5.936e-03</td> <td>    2.532</td>  <td>1.135e-02</td>  <td>[3.394e-03,2.666e-02]</td>\n",
              "</tr>\n",
              "<tr>\n",
              "  <th>alpha[1]</th> <td>    0.0710</td> <td>1.720e-02</td> <td>    4.129</td>  <td>3.637e-05</td>   <td>[3.732e-02,  0.105]</td> \n",
              "</tr>\n",
              "<tr>\n",
              "  <th>alpha[2]</th> <td>    0.0259</td> <td>2.463e-02</td> <td>    1.051</td>  <td>    0.293</td> <td>[-2.238e-02,7.415e-02]</td>\n",
              "</tr>\n",
              "<tr>\n",
              "  <th>alpha[3]</th>   <td>0.0000</td>   <td>2.632e-02</td>   <td>0.000</td>    <td>    1.000</td> <td>[-5.159e-02,5.159e-02]</td>\n",
              "</tr>\n",
              "<tr>\n",
              "  <th>beta[1]</th>  <td>    0.8908</td> <td>2.687e-02</td> <td>   33.145</td> <td>6.764e-241</td>    <td>[  0.838,  0.943]</td>  \n",
              "</tr>\n",
              "</table><br/><br/>Covariance estimator: robust"
            ],
            "text/latex": "\\begin{center}\n\\begin{tabular}{lclc}\n\\toprule\n\\textbf{Dep. Variable:} &      returns       & \\textbf{  R-squared:         } &     0.000   \\\\\n\\textbf{Mean Model:}    &   Constant Mean    & \\textbf{  Adj. R-squared:    } &     0.000   \\\\\n\\textbf{Vol Model:}     &       GARCH        & \\textbf{  Log-Likelihood:    } &   -8356.28  \\\\\n\\textbf{Distribution:}  &       Normal       & \\textbf{  AIC:               } &    16724.6  \\\\\n\\textbf{Method:}        & Maximum Likelihood & \\textbf{  BIC:               } &    16765.0  \\\\\n\\textbf{}               &                    & \\textbf{  No. Observations:  } &    6199     \\\\\n\\textbf{Date:}          &  Sat, Oct 14 2023  & \\textbf{  Df Residuals:      } &    6198     \\\\\n\\textbf{Time:}          &      06:13:04      & \\textbf{  Df Model:          } &     1       \\\\\n\\bottomrule\n\\end{tabular}\n\\begin{tabular}{lccccc}\n            & \\textbf{coef} & \\textbf{std err} & \\textbf{t} & \\textbf{P$> |$t$|$} & \\textbf{95.0\\% Conf. Int.}  \\\\\n\\midrule\n\\textbf{mu} &       0.0428  &    1.055e-02     &     4.060  &      4.909e-05       &   [2.216e-02,6.353e-02]     \\\\\n                  & \\textbf{coef} & \\textbf{std err} & \\textbf{t} & \\textbf{P$> |$t$|$} & \\textbf{95.0\\% Conf. Int.}  \\\\\n\\midrule\n\\textbf{omega}    &       0.0150  &    5.936e-03     &     2.532  &      1.135e-02       &   [3.394e-03,2.666e-02]     \\\\\n\\textbf{alpha[1]} &       0.0710  &    1.720e-02     &     4.129  &      3.637e-05       &    [3.732e-02,  0.105]      \\\\\n\\textbf{alpha[2]} &       0.0259  &    2.463e-02     &     1.051  &          0.293       &   [-2.238e-02,7.415e-02]    \\\\\n\\textbf{alpha[3]} &     0.0000    &    2.632e-02     &   0.000    &          1.000       &   [-5.159e-02,5.159e-02]    \\\\\n\\textbf{beta[1]}  &       0.8908  &    2.687e-02     &    33.145  &      6.764e-241      &     [  0.838,  0.943]       \\\\\n\\bottomrule\n\\end{tabular}\n%\\caption{Constant Mean - GARCH Model Results}\n\\end{center}\n\nCovariance estimator: robust"
          },
          "metadata": {},
          "execution_count": 13
        }
      ]
    }
  ]
}