{
  "nbformat": 4,
  "nbformat_minor": 0,
  "metadata": {
    "colab": {
      "provenance": [],
      "include_colab_link": true
    },
    "kernelspec": {
      "name": "python3",
      "display_name": "Python 3"
    },
    "language_info": {
      "name": "python"
    }
  },
  "cells": [
    {
      "cell_type": "markdown",
      "metadata": {
        "id": "view-in-github",
        "colab_type": "text"
      },
      "source": [
        "<a href=\"https://colab.research.google.com/github/MoralesCMaJo/Tarea-2--An-lisis-de-series-temporales/blob/main/8_The_ARIMA_and_SARIMAX_model.ipynb\" target=\"_parent\"><img src=\"https://colab.research.google.com/assets/colab-badge.svg\" alt=\"Open In Colab\"/></a>"
      ]
    },
    {
      "cell_type": "code",
      "execution_count": null,
      "metadata": {
        "colab": {
          "base_uri": "https://localhost:8080/"
        },
        "id": "60q4qbcTfZMc",
        "outputId": "84c1ebb5-ea15-42e7-e80e-46ad52f133e8"
      },
      "outputs": [
        {
          "output_type": "stream",
          "name": "stdout",
          "text": [
            "Requirement already satisfied: pandas in /usr/local/lib/python3.10/dist-packages (1.5.3)\n",
            "Requirement already satisfied: yfinance in /usr/local/lib/python3.10/dist-packages (0.2.31)\n",
            "Requirement already satisfied: matplotlib in /usr/local/lib/python3.10/dist-packages (3.7.1)\n",
            "Requirement already satisfied: numpy in /usr/local/lib/python3.10/dist-packages (1.23.5)\n",
            "Requirement already satisfied: python-dateutil>=2.8.1 in /usr/local/lib/python3.10/dist-packages (from pandas) (2.8.2)\n",
            "Requirement already satisfied: pytz>=2020.1 in /usr/local/lib/python3.10/dist-packages (from pandas) (2023.3.post1)\n",
            "Requirement already satisfied: requests>=2.31 in /usr/local/lib/python3.10/dist-packages (from yfinance) (2.31.0)\n",
            "Requirement already satisfied: multitasking>=0.0.7 in /usr/local/lib/python3.10/dist-packages (from yfinance) (0.0.11)\n",
            "Requirement already satisfied: lxml>=4.9.1 in /usr/local/lib/python3.10/dist-packages (from yfinance) (4.9.3)\n",
            "Requirement already satisfied: appdirs>=1.4.4 in /usr/local/lib/python3.10/dist-packages (from yfinance) (1.4.4)\n",
            "Requirement already satisfied: frozendict>=2.3.4 in /usr/local/lib/python3.10/dist-packages (from yfinance) (2.3.8)\n",
            "Requirement already satisfied: peewee>=3.16.2 in /usr/local/lib/python3.10/dist-packages (from yfinance) (3.16.3)\n",
            "Requirement already satisfied: beautifulsoup4>=4.11.1 in /usr/local/lib/python3.10/dist-packages (from yfinance) (4.11.2)\n",
            "Requirement already satisfied: html5lib>=1.1 in /usr/local/lib/python3.10/dist-packages (from yfinance) (1.1)\n",
            "Requirement already satisfied: contourpy>=1.0.1 in /usr/local/lib/python3.10/dist-packages (from matplotlib) (1.1.1)\n",
            "Requirement already satisfied: cycler>=0.10 in /usr/local/lib/python3.10/dist-packages (from matplotlib) (0.12.1)\n",
            "Requirement already satisfied: fonttools>=4.22.0 in /usr/local/lib/python3.10/dist-packages (from matplotlib) (4.43.1)\n",
            "Requirement already satisfied: kiwisolver>=1.0.1 in /usr/local/lib/python3.10/dist-packages (from matplotlib) (1.4.5)\n",
            "Requirement already satisfied: packaging>=20.0 in /usr/local/lib/python3.10/dist-packages (from matplotlib) (23.2)\n",
            "Requirement already satisfied: pillow>=6.2.0 in /usr/local/lib/python3.10/dist-packages (from matplotlib) (9.4.0)\n",
            "Requirement already satisfied: pyparsing>=2.3.1 in /usr/local/lib/python3.10/dist-packages (from matplotlib) (3.1.1)\n",
            "Requirement already satisfied: soupsieve>1.2 in /usr/local/lib/python3.10/dist-packages (from beautifulsoup4>=4.11.1->yfinance) (2.5)\n",
            "Requirement already satisfied: six>=1.9 in /usr/local/lib/python3.10/dist-packages (from html5lib>=1.1->yfinance) (1.16.0)\n",
            "Requirement already satisfied: webencodings in /usr/local/lib/python3.10/dist-packages (from html5lib>=1.1->yfinance) (0.5.1)\n",
            "Requirement already satisfied: charset-normalizer<4,>=2 in /usr/local/lib/python3.10/dist-packages (from requests>=2.31->yfinance) (3.3.0)\n",
            "Requirement already satisfied: idna<4,>=2.5 in /usr/local/lib/python3.10/dist-packages (from requests>=2.31->yfinance) (3.4)\n",
            "Requirement already satisfied: urllib3<3,>=1.21.1 in /usr/local/lib/python3.10/dist-packages (from requests>=2.31->yfinance) (2.0.6)\n",
            "Requirement already satisfied: certifi>=2017.4.17 in /usr/local/lib/python3.10/dist-packages (from requests>=2.31->yfinance) (2023.7.22)\n"
          ]
        }
      ],
      "source": [
        "pip install pandas yfinance matplotlib numpy"
      ]
    },
    {
      "cell_type": "code",
      "source": [
        "#Importando los paquetes relevantes\n",
        "import pandas as pd\n",
        "import numpy as np\n",
        "import matplotlib.pyplot as plt\n",
        "import statsmodels.graphics.tsaplots as sgt\n",
        "from statsmodels.tsa.arima.model import ARIMA\n",
        "from scipy.stats.distributions import chi2\n",
        "import statsmodels.tsa.stattools as sts\n",
        "import seaborn as sns\n",
        "sns.set()"
      ],
      "metadata": {
        "id": "hZmLDRoWhJie"
      },
      "execution_count": null,
      "outputs": []
    },
    {
      "cell_type": "code",
      "source": [
        "from google.colab import drive\n",
        "drive.mount('/content/drive')\n",
        "\n",
        "import shutil\n",
        "\n",
        "# Ruta del archivo en Google Drive\n",
        "ruta_drive = \"/content/drive/My Drive/Index_2023.csv\"\n",
        "\n",
        "# Ruta de destino en Google Colab\n",
        "ruta_colab = \"/content/Index_2023.csv\"\n",
        "\n",
        "# Copia el archivo desde Google Drive a Google Colab\n",
        "shutil.copy(ruta_drive, ruta_colab)#Importación de datos y preprocesamiento\n",
        "raw_csv_data = pd.read_csv(\"Index_2023.csv\")\n",
        "df_comp = raw_csv_data.copy()\n",
        "df_comp['Date'] = pd.to_datetime(df_comp['Date'], format='%Y-%m-%d', dayfirst=True)\n",
        "df_comp.set_index(\"Date\", inplace=True)\n",
        "df_comp = df_comp.asfreq('b')\n",
        "df_comp = df_comp.ffill()\n",
        "df_comp['market_value']=df_comp.ftse\n",
        "del df_comp['spx']\n",
        "del df_comp['dax']\n",
        "del df_comp['ftse']\n",
        "del df_comp['nikkei']\n",
        "size = int(len(df_comp)*0.8)\n",
        "df, df_test = df_comp.iloc[:size], df_comp.iloc[size:]\n"
      ],
      "metadata": {
        "colab": {
          "base_uri": "https://localhost:8080/"
        },
        "id": "3Qnw2ENVhOaf",
        "outputId": "ef4c40bf-9919-4df5-c091-ad419a6131d2"
      },
      "execution_count": null,
      "outputs": [
        {
          "output_type": "stream",
          "name": "stdout",
          "text": [
            "Mounted at /content/drive\n"
          ]
        }
      ]
    },
    {
      "cell_type": "code",
      "source": [
        "import pandas as pd\n",
        "import numpy as np\n",
        "import matplotlib.pyplot as plt\n",
        "import statsmodels.api as sm\n",
        "import seaborn as sns\n",
        "from scipy.stats import chi2"
      ],
      "metadata": {
        "id": "xEqC6IPHk9o2"
      },
      "execution_count": null,
      "outputs": []
    },
    {
      "cell_type": "code",
      "source": [
        "# Función de prueba de razón de verosimilitud (LLR)\n",
        "def LLR_test(mod_1, mod_2, DF=1):\n",
        "    L1 = mod_1.fit().llf\n",
        "    L2 = mod_2.fit().llf\n",
        "    LR = 2 * (L2 - L1)\n",
        "    p = chi2.sf(LR, DF).round(3)\n",
        "    return p"
      ],
      "metadata": {
        "id": "eDVchYRnhfsO"
      },
      "execution_count": null,
      "outputs": []
    },
    {
      "cell_type": "code",
      "source": [
        "# Creación de retornos\n",
        "df['returns'] = df['market_value'].pct_change(1) * 100"
      ],
      "metadata": {
        "colab": {
          "base_uri": "https://localhost:8080/"
        },
        "id": "mwoIIY34k8rh",
        "outputId": "41b98936-54a5-4fc9-c42f-30c1853b2f66"
      },
      "execution_count": null,
      "outputs": [
        {
          "output_type": "stream",
          "name": "stderr",
          "text": [
            "<ipython-input-14-46e93ab11afd>:2: SettingWithCopyWarning: \n",
            "A value is trying to be set on a copy of a slice from a DataFrame.\n",
            "Try using .loc[row_indexer,col_indexer] = value instead\n",
            "\n",
            "See the caveats in the documentation: https://pandas.pydata.org/pandas-docs/stable/user_guide/indexing.html#returning-a-view-versus-a-copy\n",
            "  df['returns'] = df['market_value'].pct_change(1) * 100\n"
          ]
        }
      ]
    },
    {
      "cell_type": "code",
      "source": [
        "# Modelo ARIMA(1,1,1)\n",
        "model_ar_1_i_1_ma_1 = sm.tsa.ARIMA(df['market_value'], order=(1, 1, 1))\n",
        "results_ar_1_i_1_ma_1 = model_ar_1_i_1_ma_1.fit()\n",
        "print(results_ar_1_i_1_ma_1.summary())"
      ],
      "metadata": {
        "colab": {
          "base_uri": "https://localhost:8080/"
        },
        "id": "oA-F6h4vovrY",
        "outputId": "cee8b90e-6f71-4cdf-e46e-2be9c453976c"
      },
      "execution_count": null,
      "outputs": [
        {
          "output_type": "stream",
          "name": "stderr",
          "text": [
            "/usr/local/lib/python3.10/dist-packages/statsmodels/tsa/statespace/sarimax.py:966: UserWarning: Non-stationary starting autoregressive parameters found. Using zeros as starting parameters.\n",
            "  warn('Non-stationary starting autoregressive parameters'\n",
            "/usr/local/lib/python3.10/dist-packages/statsmodels/tsa/statespace/sarimax.py:978: UserWarning: Non-invertible starting MA parameters found. Using zeros as starting parameters.\n",
            "  warn('Non-invertible starting MA parameters found.'\n"
          ]
        },
        {
          "output_type": "stream",
          "name": "stdout",
          "text": [
            "                               SARIMAX Results                                \n",
            "==============================================================================\n",
            "Dep. Variable:           market_value   No. Observations:                 6200\n",
            "Model:                 ARIMA(1, 1, 1)   Log Likelihood              -34020.745\n",
            "Date:                Sun, 15 Oct 2023   AIC                          68047.491\n",
            "Time:                        00:01:23   BIC                          68067.687\n",
            "Sample:                    01-07-1994   HQIC                         68054.493\n",
            "                         - 10-12-2017                                         \n",
            "Covariance Type:                  opg                                         \n",
            "==============================================================================\n",
            "                 coef    std err          z      P>|z|      [0.025      0.975]\n",
            "------------------------------------------------------------------------------\n",
            "ar.L1          0.8293      0.042     19.867      0.000       0.748       0.911\n",
            "ma.L1         -0.8644      0.037    -23.226      0.000      -0.937      -0.791\n",
            "sigma2      3423.1174     36.794     93.035      0.000    3351.002    3495.232\n",
            "===================================================================================\n",
            "Ljung-Box (L1) (Q):                   2.89   Jarque-Bera (JB):              3628.96\n",
            "Prob(Q):                              0.09   Prob(JB):                         0.00\n",
            "Heteroskedasticity (H):               1.07   Skew:                            -0.32\n",
            "Prob(H) (two-sided):                  0.12   Kurtosis:                         6.69\n",
            "===================================================================================\n",
            "\n",
            "Warnings:\n",
            "[1] Covariance matrix calculated using the outer product of gradients (complex-step).\n"
          ]
        }
      ]
    },
    {
      "cell_type": "code",
      "source": [
        "# Residuales del ARIMA(1,1,1)\n",
        "df['res_ar_1_i_1_ma_1'] = results_ar_1_i_1_ma_1.resid\n",
        "sgt.plot_acf(df['res_ar_1_i_1_ma_1'], zero=False, lags=40)\n",
        "plt.title(\"ACF Of Residuals for ARIMA(1,1,1)\", size=20)\n",
        "plt.show()"
      ],
      "metadata": {
        "colab": {
          "base_uri": "https://localhost:8080/",
          "height": 569
        },
        "id": "rdEFZmYMpEL6",
        "outputId": "6ae3b63d-a5fa-4a34-c09f-a53ee76d6de7"
      },
      "execution_count": null,
      "outputs": [
        {
          "output_type": "stream",
          "name": "stderr",
          "text": [
            "<ipython-input-26-0b0c2909d13e>:2: SettingWithCopyWarning: \n",
            "A value is trying to be set on a copy of a slice from a DataFrame.\n",
            "Try using .loc[row_indexer,col_indexer] = value instead\n",
            "\n",
            "See the caveats in the documentation: https://pandas.pydata.org/pandas-docs/stable/user_guide/indexing.html#returning-a-view-versus-a-copy\n",
            "  df['res_ar_1_i_1_ma_1'] = results_ar_1_i_1_ma_1.resid\n"
          ]
        },
        {
          "output_type": "display_data",
          "data": {
            "text/plain": [
              "<Figure size 640x480 with 1 Axes>"
            ],
            "image/png": "[encoded data removed]"
          },
          "metadata": {}
        }
      ]
    },
    {
      "cell_type": "code",
      "source": [
        "df['res_ar_1_i_1_ma_1'] = results_ar_1_i_1_ma_1.resid\n",
        "sgt.plot_acf(df['res_ar_1_i_1_ma_1'][1:], zero=False, lags=40)\n",
        "plt.title(\"ACF Of Residuals for ARIMA(1,1,1)\", size=20)\n",
        "plt.show()\n"
      ],
      "metadata": {
        "colab": {
          "base_uri": "https://localhost:8080/",
          "height": 569
        },
        "id": "PXWUQ1f-pbjB",
        "outputId": "047de41c-abb1-4554-bf6f-2405be4f6ac3"
      },
      "execution_count": null,
      "outputs": [
        {
          "output_type": "stream",
          "name": "stderr",
          "text": [
            "<ipython-input-27-c9024a904c87>:1: SettingWithCopyWarning: \n",
            "A value is trying to be set on a copy of a slice from a DataFrame.\n",
            "Try using .loc[row_indexer,col_indexer] = value instead\n",
            "\n",
            "See the caveats in the documentation: https://pandas.pydata.org/pandas-docs/stable/user_guide/indexing.html#returning-a-view-versus-a-copy\n",
            "  df['res_ar_1_i_1_ma_1'] = results_ar_1_i_1_ma_1.resid\n"
          ]
        },
        {
          "output_type": "display_data",
          "data": {
            "text/plain": [
              "<Figure size 640x480 with 1 Axes>"
            ],
            "image/png": "[encoded data removed]"
          },
          "metadata": {}
        }
      ]
    },
    {
      "cell_type": "code",
      "source": [
        "# Modelos ARIMA con diferentes órdenes\n",
        "model_ar_1_i_1_ma_2 = sm.tsa.ARIMA(df['market_value'], order=(1, 1, 2))\n",
        "results_ar_1_i_1_ma_2 = model_ar_1_i_1_ma_2.fit()\n",
        "\n",
        "model_ar_1_i_1_ma_3 = sm.tsa.ARIMA(df['market_value'], order=(1, 1, 3))\n",
        "results_ar_1_i_1_ma_3 = model_ar_1_i_1_ma_3.fit()\n",
        "\n",
        "model_ar_2_i_1_ma_1 = sm.tsa.ARIMA(df['market_value'], order=(2, 1, 1))\n",
        "results_ar_2_i_1_ma_1 = model_ar_2_i_1_ma_1.fit()\n",
        "\n",
        "model_ar_3_i_1_ma_1 = sm.tsa.ARIMA(df['market_value'], order=(3, 1, 1))\n",
        "results_ar_3_i_1_ma_1 = model_ar_3_i_1_ma_1.fit()\n",
        "\n",
        "model_ar_3_i_1_ma_2 = sm.tsa.ARIMA(df['market_value'], order=(3, 1, 2))\n",
        "results_ar_3_i_1_ma_2 = model_ar_3_i_1_ma_2.fit()\n",
        "\n",
        "print(\"ARIMA(1,1,1):  \\t LL = \", results_ar_1_i_1_ma_1.llf, \"\\t AIC = \", results_ar_1_i_1_ma_1.aic)\n",
        "print(\"ARIMA(1,1,2):  \\t LL = \", results_ar_1_i_1_ma_2.llf, \"\\t AIC = \", results_ar_1_i_1_ma_2.aic)\n",
        "print(\"ARIMA(1,1,3):  \\t LL = \", results_ar_1_i_1_ma_3.llf, \"\\t AIC = \", results_ar_1_i_1_ma_3.aic)\n",
        "print(\"ARIMA(2,1,1):  \\t LL = \", results_ar_2_i_1_ma_1.llf, \"\\t AIC = \", results_ar_2_i_1_ma_1.aic)\n",
        "print(\"ARIMA(3,1,1):  \\t LL = \", results_ar_3_i_1_ma_1.llf, \"\\t AIC = \", results_ar_3_i_1_ma_1.aic)\n",
        "print(\"ARIMA(3,1,2):  \\t LL = \", results_ar_3_i_1_ma_2.llf, \"\\t AIC = \", results_ar_3_i_1_ma_2.aic)\n"
      ],
      "metadata": {
        "colab": {
          "base_uri": "https://localhost:8080/"
        },
        "id": "BPA33Xw3p3TF",
        "outputId": "8116ef9a-14e5-4e32-947d-7f5388434747"
      },
      "execution_count": null,
      "outputs": [
        {
          "output_type": "stream",
          "name": "stderr",
          "text": [
            "/usr/local/lib/python3.10/dist-packages/statsmodels/tsa/statespace/sarimax.py:966: UserWarning: Non-stationary starting autoregressive parameters found. Using zeros as starting parameters.\n",
            "  warn('Non-stationary starting autoregressive parameters'\n",
            "/usr/local/lib/python3.10/dist-packages/statsmodels/tsa/statespace/sarimax.py:978: UserWarning: Non-invertible starting MA parameters found. Using zeros as starting parameters.\n",
            "  warn('Non-invertible starting MA parameters found.'\n",
            "/usr/local/lib/python3.10/dist-packages/statsmodels/tsa/statespace/sarimax.py:966: UserWarning: Non-stationary starting autoregressive parameters found. Using zeros as starting parameters.\n",
            "  warn('Non-stationary starting autoregressive parameters'\n",
            "/usr/local/lib/python3.10/dist-packages/statsmodels/tsa/statespace/sarimax.py:978: UserWarning: Non-invertible starting MA parameters found. Using zeros as starting parameters.\n",
            "  warn('Non-invertible starting MA parameters found.'\n"
          ]
        },
        {
          "output_type": "stream",
          "name": "stdout",
          "text": [
            "ARIMA(1,1,1):  \t LL =  -34020.74533877311 \t AIC =  68047.49067754622\n",
            "ARIMA(1,1,2):  \t LL =  -34016.705228529216 \t AIC =  68041.41045705843\n",
            "ARIMA(1,1,3):  \t LL =  -34014.00312782079 \t AIC =  68038.00625564158\n",
            "ARIMA(2,1,1):  \t LL =  -34016.54713736105 \t AIC =  68041.0942747221\n",
            "ARIMA(3,1,1):  \t LL =  -34015.49626654049 \t AIC =  68040.99253308098\n",
            "ARIMA(3,1,2):  \t LL =  -34013.89882734741 \t AIC =  68039.79765469482\n"
          ]
        }
      ]
    },
    {
      "cell_type": "code",
      "source": [
        "# Prueba de razón de verosimilitud LLR\n",
        "llf_model_1_i_1_ma_2 = results_ar_1_i_1_ma_2.llf\n",
        "llf_model_1_i_1_ma_3 = results_ar_1_i_1_ma_3.llf\n",
        "\n",
        "df_model_1_i_1_ma_2 = results_ar_1_i_1_ma_2.df_model\n",
        "df_model_1_i_1_ma_3 = results_ar_1_i_1_ma_3.df_model\n",
        "\n",
        "lr_statistic = -2 * (llf_model_1_i_1_ma_2 - llf_model_1_i_1_ma_3)\n",
        "p_value = chi2.sf(lr_statistic, df_model_1_i_1_ma_3 - df_model_1_i_1_ma_2)\n",
        "\n",
        "print(\"\\nLLR test p-value = \" + str(p_value))\n"
      ],
      "metadata": {
        "colab": {
          "base_uri": "https://localhost:8080/"
        },
        "id": "eRyDeMQaq2fu",
        "outputId": "454601b8-bef6-464f-9176-0647abfb0cb1"
      },
      "execution_count": null,
      "outputs": [
        {
          "output_type": "stream",
          "name": "stdout",
          "text": [
            "\n",
            "LLR test p-value = 0.020088337284099107\n"
          ]
        }
      ]
    },
    {
      "cell_type": "code",
      "source": [
        "# Prueba de razón de verosimilitud LLR con DF = 2\n",
        "df_model_1_i_1_ma_1 = results_ar_1_i_1_ma_1.df_model\n",
        "df_model_1_i_1_ma_3 = results_ar_1_i_1_ma_3.df_model\n",
        "lr_statistic = -2 * (results_ar_1_i_1_ma_1.llf - results_ar_1_i_1_ma_3.llf)\n",
        "p_value = chi2.sf(lr_statistic, 2)\n",
        "\n",
        "print(\"\\nLLR test p-value = \" + str(p_value))"
      ],
      "metadata": {
        "colab": {
          "base_uri": "https://localhost:8080/"
        },
        "id": "Rbogu9HrrD-p",
        "outputId": "d6be0d2a-e33a-49c8-8851-d52cd0e9b407"
      },
      "execution_count": null,
      "outputs": [
        {
          "output_type": "stream",
          "name": "stdout",
          "text": [
            "\n",
            "LLR test p-value = 0.0011800352685875642\n"
          ]
        }
      ]
    },
    {
      "cell_type": "code",
      "source": [
        "df['res_ar_1_i_1_ma_3'] = results_ar_1_i_1_ma_3.resid\n",
        "sgt.plot_acf(df['res_ar_1_i_1_ma_3'][1:], zero=False, lags=40)\n",
        "plt.title(\"ACF Of Residuals for ARIMA(1,1,3)\", size=20)\n",
        "plt.show()\n"
      ],
      "metadata": {
        "colab": {
          "base_uri": "https://localhost:8080/",
          "height": 569
        },
        "id": "b8vAdtURsGHQ",
        "outputId": "b30ccf3c-eca0-49ca-d205-9624b4c1dff2"
      },
      "execution_count": null,
      "outputs": [
        {
          "output_type": "stream",
          "name": "stderr",
          "text": [
            "<ipython-input-36-8137f614fdd3>:1: SettingWithCopyWarning: \n",
            "A value is trying to be set on a copy of a slice from a DataFrame.\n",
            "Try using .loc[row_indexer,col_indexer] = value instead\n",
            "\n",
            "See the caveats in the documentation: https://pandas.pydata.org/pandas-docs/stable/user_guide/indexing.html#returning-a-view-versus-a-copy\n",
            "  df['res_ar_1_i_1_ma_3'] = results_ar_1_i_1_ma_3.resid\n"
          ]
        },
        {
          "output_type": "display_data",
          "data": {
            "text/plain": [
              "<Figure size 640x480 with 1 Axes>"
            ],
            "image/png": "[encoded data removed]"
          },
          "metadata": {}
        }
      ]
    },
    {
      "cell_type": "code",
      "source": [
        "model_ar_5_i_1_ma_1 = ARIMA(df.market_value, order=(5, 1, 1))\n",
        "results_ar_5_i_1_ma_1 = model_ar_5_i_1_ma_1.fit()\n",
        "\n",
        "model_ar_6_i_1_ma_3 = ARIMA(df.market_value, order=(6, 1, 3))\n",
        "results_ar_6_i_1_ma_3 = model_ar_6_i_1_ma_3.fit()\n"
      ],
      "metadata": {
        "colab": {
          "base_uri": "https://localhost:8080/"
        },
        "id": "LYIq796TnBwJ",
        "outputId": "e08d3692-2b90-4239-94cc-1eaf5eab2dc1"
      },
      "execution_count": null,
      "outputs": [
        {
          "output_type": "stream",
          "name": "stderr",
          "text": [
            "/usr/local/lib/python3.10/dist-packages/statsmodels/tsa/statespace/sarimax.py:966: UserWarning: Non-stationary starting autoregressive parameters found. Using zeros as starting parameters.\n",
            "  warn('Non-stationary starting autoregressive parameters'\n",
            "/usr/local/lib/python3.10/dist-packages/statsmodels/tsa/statespace/sarimax.py:978: UserWarning: Non-invertible starting MA parameters found. Using zeros as starting parameters.\n",
            "  warn('Non-invertible starting MA parameters found.'\n"
          ]
        }
      ]
    },
    {
      "cell_type": "code",
      "source": [
        "print(results_ar_5_i_1_ma_1.summary())\n"
      ],
      "metadata": {
        "colab": {
          "base_uri": "https://localhost:8080/"
        },
        "id": "D34D1nTYtWa0",
        "outputId": "834401dc-ad37-4339-e21a-11eb04b0d6ee"
      },
      "execution_count": null,
      "outputs": [
        {
          "output_type": "stream",
          "name": "stdout",
          "text": [
            "                               SARIMAX Results                                \n",
            "==============================================================================\n",
            "Dep. Variable:           market_value   No. Observations:                 6200\n",
            "Model:                 ARIMA(5, 1, 1)   Log Likelihood              -34009.844\n",
            "Date:                Sun, 15 Oct 2023   AIC                          68033.689\n",
            "Time:                        00:21:18   BIC                          68080.814\n",
            "Sample:                    01-07-1994   HQIC                         68050.027\n",
            "                         - 10-12-2017                                         \n",
            "Covariance Type:                  opg                                         \n",
            "==============================================================================\n",
            "                 coef    std err          z      P>|z|      [0.025      0.975]\n",
            "------------------------------------------------------------------------------\n",
            "ar.L1          0.3650      0.162      2.257      0.024       0.048       0.682\n",
            "ar.L2         -0.0457      0.009     -4.847      0.000      -0.064      -0.027\n",
            "ar.L3         -0.0384      0.012     -3.204      0.001      -0.062      -0.015\n",
            "ar.L4          0.0281      0.013      2.205      0.027       0.003       0.053\n",
            "ar.L5         -0.0448      0.008     -5.327      0.000      -0.061      -0.028\n",
            "ma.L1         -0.3770      0.162     -2.327      0.020      -0.695      -0.059\n",
            "sigma2      3414.4329     37.480     91.101      0.000    3340.974    3487.892\n",
            "===================================================================================\n",
            "Ljung-Box (L1) (Q):                   0.00   Jarque-Bera (JB):              3388.19\n",
            "Prob(Q):                              0.97   Prob(JB):                         0.00\n",
            "Heteroskedasticity (H):               1.09   Skew:                            -0.30\n",
            "Prob(H) (two-sided):                  0.06   Kurtosis:                         6.57\n",
            "===================================================================================\n",
            "\n",
            "Warnings:\n",
            "[1] Covariance matrix calculated using the outer product of gradients (complex-step).\n"
          ]
        }
      ]
    },
    {
      "cell_type": "code",
      "source": [
        "print(\"ARIMA(1,1,3):  \\t LL = \", results_ar_1_i_1_ma_3.llf, \"\\t AIC = \", results_ar_1_i_1_ma_3.aic)\n",
        "print(\"ARIMA(5,1,1):  \\t LL = \", results_ar_5_i_1_ma_1.llf, \"\\t AIC = \", results_ar_5_i_1_ma_1.aic)\n",
        "print(\"ARIMA(6,1,3):  \\t LL = \", results_ar_6_i_1_ma_3.llf, \"\\t AIC = \", results_ar_6_i_1_ma_3.aic)\n"
      ],
      "metadata": {
        "colab": {
          "base_uri": "https://localhost:8080/"
        },
        "id": "J-7SnEQGuDLu",
        "outputId": "d844b168-fff0-469e-893a-8d30309b95eb"
      },
      "execution_count": null,
      "outputs": [
        {
          "output_type": "stream",
          "name": "stdout",
          "text": [
            "ARIMA(1,1,3):  \t LL =  -34014.00312782079 \t AIC =  68038.00625564158\n",
            "ARIMA(5,1,1):  \t LL =  -34009.84437144462 \t AIC =  68033.68874288924\n",
            "ARIMA(6,1,3):  \t LL =  -34008.37608720226 \t AIC =  68036.75217440452\n"
          ]
        }
      ]
    },
    {
      "cell_type": "code",
      "source": [
        "df_model_1_i_1_ma_1 = results_ar_1_i_1_ma_1.df_model\n",
        "df_model_1_i_1_ma_3 = results_ar_1_i_1_ma_3.df_model\n",
        "lr_statistic = -2 * (results_ar_1_i_1_ma_1.llf - results_ar_1_i_1_ma_3.llf)\n",
        "p_value = chi2.sf(lr_statistic, 5)  # Usar DF=5\n",
        "\n",
        "print(\"\\nLLR test p-value = \" + str(p_value))\n"
      ],
      "metadata": {
        "colab": {
          "base_uri": "https://localhost:8080/"
        },
        "id": "WHa_3f0VugnP",
        "outputId": "f46e965c-0fb4-4564-843a-3b1e077223eb"
      },
      "execution_count": null,
      "outputs": [
        {
          "output_type": "stream",
          "name": "stdout",
          "text": [
            "\n",
            "LLR test p-value = 0.019238368451208448\n"
          ]
        }
      ]
    },
    {
      "cell_type": "code",
      "source": [
        "df_model_5_i_1_ma_1 = results_ar_5_i_1_ma_1.df_model\n",
        "df_model_6_i_1_ma_3 = results_ar_6_i_1_ma_3.df_model\n",
        "lr_statistic = -2 * (results_ar_5_i_1_ma_1.llf - results_ar_6_i_1_ma_3.llf)\n",
        "p_value = chi2.sf(lr_statistic, 3)\n",
        "\n",
        "print(\"\\nLLR test p-value = \" + str(p_value))\n"
      ],
      "metadata": {
        "colab": {
          "base_uri": "https://localhost:8080/"
        },
        "id": "if80OXnuupOl",
        "outputId": "497e683e-1703-4d5c-919b-d2aaf123cb6b"
      },
      "execution_count": null,
      "outputs": [
        {
          "output_type": "stream",
          "name": "stdout",
          "text": [
            "\n",
            "LLR test p-value = 0.4015088188826931\n"
          ]
        }
      ]
    },
    {
      "cell_type": "code",
      "source": [
        "df['res_ar_5_i_1_ma_1'] = results_ar_5_i_1_ma_1.resid\n",
        "sgt.plot_acf(df['res_ar_5_i_1_ma_1'][1:], zero=False, lags=40)\n",
        "plt.title(\"ACF Of Residuals for ARIMA(5,1,1)\", size=20)\n",
        "plt.show()\n"
      ],
      "metadata": {
        "colab": {
          "base_uri": "https://localhost:8080/",
          "height": 569
        },
        "id": "rEHAqonFvGuW",
        "outputId": "71367213-b682-4de9-fe90-788c6159b68e"
      },
      "execution_count": null,
      "outputs": [
        {
          "output_type": "stream",
          "name": "stderr",
          "text": [
            "<ipython-input-50-d839424ec404>:1: SettingWithCopyWarning: \n",
            "A value is trying to be set on a copy of a slice from a DataFrame.\n",
            "Try using .loc[row_indexer,col_indexer] = value instead\n",
            "\n",
            "See the caveats in the documentation: https://pandas.pydata.org/pandas-docs/stable/user_guide/indexing.html#returning-a-view-versus-a-copy\n",
            "  df['res_ar_5_i_1_ma_1'] = results_ar_5_i_1_ma_1.resid\n"
          ]
        },
        {
          "output_type": "display_data",
          "data": {
            "text/plain": [
              "<Figure size 640x480 with 1 Axes>"
            ],
            "image/png": "[encoded data removed]"
          },
          "metadata": {}
        }
      ]
    },
    {
      "cell_type": "code",
      "source": [
        "df['delta_prices'] = df.market_value.diff(1)\n",
        "model_delta_ar_1_i_1_ma_1 = ARIMA(df['delta_prices'][1:], order=(1,1,1))  # Asegúrate de utilizar (1,1,1) para reflejar la integración de primer orden\n",
        "results_delta_ar_1_i_1_ma_1 = model_delta_ar_1_i_1_ma_1.fit()\n",
        "results_delta_ar_1_i_1_ma_1.summary()\n"
      ],
      "metadata": {
        "colab": {
          "base_uri": "https://localhost:8080/",
          "height": 534
        },
        "id": "uz3D8kDdwhV1",
        "outputId": "29d89133-44cc-4749-cc51-aef7c650a77d"
      },
      "execution_count": null,
      "outputs": [
        {
          "output_type": "stream",
          "name": "stderr",
          "text": [
            "<ipython-input-51-4f9d85f6a6c5>:1: SettingWithCopyWarning: \n",
            "A value is trying to be set on a copy of a slice from a DataFrame.\n",
            "Try using .loc[row_indexer,col_indexer] = value instead\n",
            "\n",
            "See the caveats in the documentation: https://pandas.pydata.org/pandas-docs/stable/user_guide/indexing.html#returning-a-view-versus-a-copy\n",
            "  df['delta_prices'] = df.market_value.diff(1)\n"
          ]
        },
        {
          "output_type": "execute_result",
          "data": {
            "text/plain": [
              "<class 'statsmodels.iolib.summary.Summary'>\n",
              "\"\"\"\n",
              "                               SARIMAX Results                                \n",
              "==============================================================================\n",
              "Dep. Variable:           delta_prices   No. Observations:                 6199\n",
              "Model:                 ARIMA(1, 1, 1)   Log Likelihood              -34031.610\n",
              "Date:                Sun, 15 Oct 2023   AIC                          68069.220\n",
              "Time:                        00:35:18   BIC                          68089.416\n",
              "Sample:                    01-10-1994   HQIC                         68076.222\n",
              "                         - 10-12-2017                                         \n",
              "Covariance Type:                  opg                                         \n",
              "==============================================================================\n",
              "                 coef    std err          z      P>|z|      [0.025      0.975]\n",
              "------------------------------------------------------------------------------\n",
              "ar.L1         -0.0090      0.009     -1.011      0.312      -0.026       0.008\n",
              "ma.L1         -1.0000      0.010   -102.178      0.000      -1.019      -0.981\n",
              "sigma2      3436.5490     48.446     70.936      0.000    3341.597    3531.501\n",
              "===================================================================================\n",
              "Ljung-Box (L1) (Q):                   0.00   Jarque-Bera (JB):              3577.73\n",
              "Prob(Q):                              0.96   Prob(JB):                         0.00\n",
              "Heteroskedasticity (H):               1.07   Skew:                            -0.21\n",
              "Prob(H) (two-sided):                  0.13   Kurtosis:                         6.70\n",
              "===================================================================================\n",
              "\n",
              "Warnings:\n",
              "[1] Covariance matrix calculated using the outer product of gradients (complex-step).\n",
              "\"\"\""
            ],
            "text/html": [
              "<table class=\"simpletable\">\n",
              "<caption>SARIMAX Results</caption>\n",
              "<tr>\n",
              "  <th>Dep. Variable:</th>     <td>delta_prices</td>   <th>  No. Observations:  </th>    <td>6199</td>   \n",
              "</tr>\n",
              "<tr>\n",
              "  <th>Model:</th>            <td>ARIMA(1, 1, 1)</td>  <th>  Log Likelihood     </th> <td>-34031.610</td>\n",
              "</tr>\n",
              "<tr>\n",
              "  <th>Date:</th>            <td>Sun, 15 Oct 2023</td> <th>  AIC                </th>  <td>68069.220</td>\n",
              "</tr>\n",
              "<tr>\n",
              "  <th>Time:</th>                <td>00:35:18</td>     <th>  BIC                </th>  <td>68089.416</td>\n",
              "</tr>\n",
              "<tr>\n",
              "  <th>Sample:</th>             <td>01-10-1994</td>    <th>  HQIC               </th>  <td>68076.222</td>\n",
              "</tr>\n",
              "<tr>\n",
              "  <th></th>                   <td>- 10-12-2017</td>   <th>                     </th>      <td> </td>    \n",
              "</tr>\n",
              "<tr>\n",
              "  <th>Covariance Type:</th>        <td>opg</td>       <th>                     </th>      <td> </td>    \n",
              "</tr>\n",
              "</table>\n",
              "<table class=\"simpletable\">\n",
              "<tr>\n",
              "     <td></td>       <th>coef</th>     <th>std err</th>      <th>z</th>      <th>P>|z|</th>  <th>[0.025</th>    <th>0.975]</th>  \n",
              "</tr>\n",
              "<tr>\n",
              "  <th>ar.L1</th>  <td>   -0.0090</td> <td>    0.009</td> <td>   -1.011</td> <td> 0.312</td> <td>   -0.026</td> <td>    0.008</td>\n",
              "</tr>\n",
              "<tr>\n",
              "  <th>ma.L1</th>  <td>   -1.0000</td> <td>    0.010</td> <td> -102.178</td> <td> 0.000</td> <td>   -1.019</td> <td>   -0.981</td>\n",
              "</tr>\n",
              "<tr>\n",
              "  <th>sigma2</th> <td> 3436.5490</td> <td>   48.446</td> <td>   70.936</td> <td> 0.000</td> <td> 3341.597</td> <td> 3531.501</td>\n",
              "</tr>\n",
              "</table>\n",
              "<table class=\"simpletable\">\n",
              "<tr>\n",
              "  <th>Ljung-Box (L1) (Q):</th>     <td>0.00</td> <th>  Jarque-Bera (JB):  </th> <td>3577.73</td>\n",
              "</tr>\n",
              "<tr>\n",
              "  <th>Prob(Q):</th>                <td>0.96</td> <th>  Prob(JB):          </th>  <td>0.00</td>  \n",
              "</tr>\n",
              "<tr>\n",
              "  <th>Heteroskedasticity (H):</th> <td>1.07</td> <th>  Skew:              </th>  <td>-0.21</td> \n",
              "</tr>\n",
              "<tr>\n",
              "  <th>Prob(H) (two-sided):</th>    <td>0.13</td> <th>  Kurtosis:          </th>  <td>6.70</td>  \n",
              "</tr>\n",
              "</table><br/><br/>Warnings:<br/>[1] Covariance matrix calculated using the outer product of gradients (complex-step)."
            ],
            "text/latex": "\\begin{center}\n\\begin{tabular}{lclc}\n\\toprule\n\\textbf{Dep. Variable:}          &  delta\\_prices   & \\textbf{  No. Observations:  } &    6199     \\\\\n\\textbf{Model:}                  &  ARIMA(1, 1, 1)  & \\textbf{  Log Likelihood     } & -34031.610  \\\\\n\\textbf{Date:}                   & Sun, 15 Oct 2023 & \\textbf{  AIC                } & 68069.220   \\\\\n\\textbf{Time:}                   &     00:35:18     & \\textbf{  BIC                } & 68089.416   \\\\\n\\textbf{Sample:}                 &    01-10-1994    & \\textbf{  HQIC               } & 68076.222   \\\\\n\\textbf{}                        &   - 10-12-2017   & \\textbf{                     } &             \\\\\n\\textbf{Covariance Type:}        &       opg        & \\textbf{                     } &             \\\\\n\\bottomrule\n\\end{tabular}\n\\begin{tabular}{lcccccc}\n                & \\textbf{coef} & \\textbf{std err} & \\textbf{z} & \\textbf{P$> |$z$|$} & \\textbf{[0.025} & \\textbf{0.975]}  \\\\\n\\midrule\n\\textbf{ar.L1}  &      -0.0090  &        0.009     &    -1.011  &         0.312        &       -0.026    &        0.008     \\\\\n\\textbf{ma.L1}  &      -1.0000  &        0.010     &  -102.178  &         0.000        &       -1.019    &       -0.981     \\\\\n\\textbf{sigma2} &    3436.5490  &       48.446     &    70.936  &         0.000        &     3341.597    &     3531.501     \\\\\n\\bottomrule\n\\end{tabular}\n\\begin{tabular}{lclc}\n\\textbf{Ljung-Box (L1) (Q):}     & 0.00 & \\textbf{  Jarque-Bera (JB):  } & 3577.73  \\\\\n\\textbf{Prob(Q):}                & 0.96 & \\textbf{  Prob(JB):          } &   0.00   \\\\\n\\textbf{Heteroskedasticity (H):} & 1.07 & \\textbf{  Skew:              } &  -0.21   \\\\\n\\textbf{Prob(H) (two-sided):}    & 0.13 & \\textbf{  Kurtosis:          } &   6.70   \\\\\n\\bottomrule\n\\end{tabular}\n%\\caption{SARIMAX Results}\n\\end{center}\n\nWarnings: \\newline\n [1] Covariance matrix calculated using the outer product of gradients (complex-step)."
          },
          "metadata": {},
          "execution_count": 51
        }
      ]
    },
    {
      "cell_type": "code",
      "source": [
        "from statsmodels.tsa.stattools import adfuller\n",
        "\n",
        "adf_test_result = adfuller(df['delta_prices'][1:])\n",
        "print(\"ADF Test Results:\")\n",
        "print(\"ADF Statistic:\", adf_test_result[0])\n",
        "print(\"p-value:\", adf_test_result[1])\n",
        "print(\"Critical Values:\", adf_test_result[4])\n"
      ],
      "metadata": {
        "colab": {
          "base_uri": "https://localhost:8080/"
        },
        "id": "30mtiACNwxit",
        "outputId": "515a93ca-ec4a-4ba6-e28c-35d9b17172b0"
      },
      "execution_count": null,
      "outputs": [
        {
          "output_type": "stream",
          "name": "stdout",
          "text": [
            "ADF Test Results:\n",
            "ADF Statistic: -35.42231543819682\n",
            "p-value: 0.0\n",
            "Critical Values: {'1%': -3.431406355974594, '5%': -2.8620068149070077, '10%': -2.5670184827348006}\n"
          ]
        }
      ]
    },
    {
      "cell_type": "code",
      "source": [
        "model_ar_1_i_2_ma_1 = ARIMA(df.market_value, order=(1,2,1))\n",
        "results_ar_1_i_2_ma_1 = model_ar_1_i_2_ma_1.fit()\n",
        "results_ar_1_i_2_ma_1.summary()\n"
      ],
      "metadata": {
        "colab": {
          "base_uri": "https://localhost:8080/",
          "height": 430
        },
        "id": "t8gYTe6Ww1vO",
        "outputId": "0186980c-3718-4843-d2ed-b1e1d6c8b5b2"
      },
      "execution_count": null,
      "outputs": [
        {
          "output_type": "execute_result",
          "data": {
            "text/plain": [
              "<class 'statsmodels.iolib.summary.Summary'>\n",
              "\"\"\"\n",
              "                               SARIMAX Results                                \n",
              "==============================================================================\n",
              "Dep. Variable:           market_value   No. Observations:                 6200\n",
              "Model:                 ARIMA(1, 2, 1)   Log Likelihood              -34031.607\n",
              "Date:                Sun, 15 Oct 2023   AIC                          68069.214\n",
              "Time:                        00:37:22   BIC                          68089.410\n",
              "Sample:                    01-07-1994   HQIC                         68076.216\n",
              "                         - 10-12-2017                                         \n",
              "Covariance Type:                  opg                                         \n",
              "==============================================================================\n",
              "                 coef    std err          z      P>|z|      [0.025      0.975]\n",
              "------------------------------------------------------------------------------\n",
              "ar.L1         -0.0090      0.009     -1.011      0.312      -0.026       0.008\n",
              "ma.L1         -1.0000      0.012    -85.838      0.000      -1.023      -0.977\n",
              "sigma2      3436.5036     52.847     65.027      0.000    3332.925    3540.083\n",
              "===================================================================================\n",
              "Ljung-Box (L1) (Q):                   0.00   Jarque-Bera (JB):              3577.15\n",
              "Prob(Q):                              0.96   Prob(JB):                         0.00\n",
              "Heteroskedasticity (H):               1.07   Skew:                            -0.21\n",
              "Prob(H) (two-sided):                  0.13   Kurtosis:                         6.70\n",
              "===================================================================================\n",
              "\n",
              "Warnings:\n",
              "[1] Covariance matrix calculated using the outer product of gradients (complex-step).\n",
              "\"\"\""
            ],
            "text/html": [
              "<table class=\"simpletable\">\n",
              "<caption>SARIMAX Results</caption>\n",
              "<tr>\n",
              "  <th>Dep. Variable:</th>     <td>market_value</td>   <th>  No. Observations:  </th>    <td>6200</td>   \n",
              "</tr>\n",
              "<tr>\n",
              "  <th>Model:</th>            <td>ARIMA(1, 2, 1)</td>  <th>  Log Likelihood     </th> <td>-34031.607</td>\n",
              "</tr>\n",
              "<tr>\n",
              "  <th>Date:</th>            <td>Sun, 15 Oct 2023</td> <th>  AIC                </th>  <td>68069.214</td>\n",
              "</tr>\n",
              "<tr>\n",
              "  <th>Time:</th>                <td>00:37:22</td>     <th>  BIC                </th>  <td>68089.410</td>\n",
              "</tr>\n",
              "<tr>\n",
              "  <th>Sample:</th>             <td>01-07-1994</td>    <th>  HQIC               </th>  <td>68076.216</td>\n",
              "</tr>\n",
              "<tr>\n",
              "  <th></th>                   <td>- 10-12-2017</td>   <th>                     </th>      <td> </td>    \n",
              "</tr>\n",
              "<tr>\n",
              "  <th>Covariance Type:</th>        <td>opg</td>       <th>                     </th>      <td> </td>    \n",
              "</tr>\n",
              "</table>\n",
              "<table class=\"simpletable\">\n",
              "<tr>\n",
              "     <td></td>       <th>coef</th>     <th>std err</th>      <th>z</th>      <th>P>|z|</th>  <th>[0.025</th>    <th>0.975]</th>  \n",
              "</tr>\n",
              "<tr>\n",
              "  <th>ar.L1</th>  <td>   -0.0090</td> <td>    0.009</td> <td>   -1.011</td> <td> 0.312</td> <td>   -0.026</td> <td>    0.008</td>\n",
              "</tr>\n",
              "<tr>\n",
              "  <th>ma.L1</th>  <td>   -1.0000</td> <td>    0.012</td> <td>  -85.838</td> <td> 0.000</td> <td>   -1.023</td> <td>   -0.977</td>\n",
              "</tr>\n",
              "<tr>\n",
              "  <th>sigma2</th> <td> 3436.5036</td> <td>   52.847</td> <td>   65.027</td> <td> 0.000</td> <td> 3332.925</td> <td> 3540.083</td>\n",
              "</tr>\n",
              "</table>\n",
              "<table class=\"simpletable\">\n",
              "<tr>\n",
              "  <th>Ljung-Box (L1) (Q):</th>     <td>0.00</td> <th>  Jarque-Bera (JB):  </th> <td>3577.15</td>\n",
              "</tr>\n",
              "<tr>\n",
              "  <th>Prob(Q):</th>                <td>0.96</td> <th>  Prob(JB):          </th>  <td>0.00</td>  \n",
              "</tr>\n",
              "<tr>\n",
              "  <th>Heteroskedasticity (H):</th> <td>1.07</td> <th>  Skew:              </th>  <td>-0.21</td> \n",
              "</tr>\n",
              "<tr>\n",
              "  <th>Prob(H) (two-sided):</th>    <td>0.13</td> <th>  Kurtosis:          </th>  <td>6.70</td>  \n",
              "</tr>\n",
              "</table><br/><br/>Warnings:<br/>[1] Covariance matrix calculated using the outer product of gradients (complex-step)."
            ],
            "text/latex": "\\begin{center}\n\\begin{tabular}{lclc}\n\\toprule\n\\textbf{Dep. Variable:}          &  market\\_value   & \\textbf{  No. Observations:  } &    6200     \\\\\n\\textbf{Model:}                  &  ARIMA(1, 2, 1)  & \\textbf{  Log Likelihood     } & -34031.607  \\\\\n\\textbf{Date:}                   & Sun, 15 Oct 2023 & \\textbf{  AIC                } & 68069.214   \\\\\n\\textbf{Time:}                   &     00:37:22     & \\textbf{  BIC                } & 68089.410   \\\\\n\\textbf{Sample:}                 &    01-07-1994    & \\textbf{  HQIC               } & 68076.216   \\\\\n\\textbf{}                        &   - 10-12-2017   & \\textbf{                     } &             \\\\\n\\textbf{Covariance Type:}        &       opg        & \\textbf{                     } &             \\\\\n\\bottomrule\n\\end{tabular}\n\\begin{tabular}{lcccccc}\n                & \\textbf{coef} & \\textbf{std err} & \\textbf{z} & \\textbf{P$> |$z$|$} & \\textbf{[0.025} & \\textbf{0.975]}  \\\\\n\\midrule\n\\textbf{ar.L1}  &      -0.0090  &        0.009     &    -1.011  &         0.312        &       -0.026    &        0.008     \\\\\n\\textbf{ma.L1}  &      -1.0000  &        0.012     &   -85.838  &         0.000        &       -1.023    &       -0.977     \\\\\n\\textbf{sigma2} &    3436.5036  &       52.847     &    65.027  &         0.000        &     3332.925    &     3540.083     \\\\\n\\bottomrule\n\\end{tabular}\n\\begin{tabular}{lclc}\n\\textbf{Ljung-Box (L1) (Q):}     & 0.00 & \\textbf{  Jarque-Bera (JB):  } & 3577.15  \\\\\n\\textbf{Prob(Q):}                & 0.96 & \\textbf{  Prob(JB):          } &   0.00   \\\\\n\\textbf{Heteroskedasticity (H):} & 1.07 & \\textbf{  Skew:              } &  -0.21   \\\\\n\\textbf{Prob(H) (two-sided):}    & 0.13 & \\textbf{  Kurtosis:          } &   6.70   \\\\\n\\bottomrule\n\\end{tabular}\n%\\caption{SARIMAX Results}\n\\end{center}\n\nWarnings: \\newline\n [1] Covariance matrix calculated using the outer product of gradients (complex-step)."
          },
          "metadata": {},
          "execution_count": 54
        }
      ]
    },
    {
      "cell_type": "code",
      "source": [
        "df['res_ar_1_i_2_ma_1'] = results_ar_1_i_2_ma_1.resid\n",
        "sgt.plot_acf(df['res_ar_1_i_2_ma_1'][2:], zero=False, lags=40)\n",
        "plt.title(\"ACF Of Residuals for ARIMA(1,2,1)\", size=20)\n",
        "plt.show()\n"
      ],
      "metadata": {
        "colab": {
          "base_uri": "https://localhost:8080/",
          "height": 569
        },
        "id": "Cqn31kJkxO0-",
        "outputId": "737898d4-9830-40c3-b06a-90ebe29b8a34"
      },
      "execution_count": null,
      "outputs": [
        {
          "output_type": "stream",
          "name": "stderr",
          "text": [
            "<ipython-input-55-072156f15b1f>:1: SettingWithCopyWarning: \n",
            "A value is trying to be set on a copy of a slice from a DataFrame.\n",
            "Try using .loc[row_indexer,col_indexer] = value instead\n",
            "\n",
            "See the caveats in the documentation: https://pandas.pydata.org/pandas-docs/stable/user_guide/indexing.html#returning-a-view-versus-a-copy\n",
            "  df['res_ar_1_i_2_ma_1'] = results_ar_1_i_2_ma_1.resid\n"
          ]
        },
        {
          "output_type": "display_data",
          "data": {
            "text/plain": [
              "<Figure size 640x480 with 1 Axes>"
            ],
            "image/png": "[encoded data removed]"
          },
          "metadata": {}
        }
      ]
    },
    {
      "cell_type": "code",
      "source": [
        "model_ar_1_i_1_ma_1 = ARIMA(df.market_value, order=(1,1,1))\n",
        "results_ar_1_i_1_ma_1 = model_ar_1_i_1_ma_1.fit()\n",
        "results_ar_1_i_1_ma_1.summary()\n"
      ],
      "metadata": {
        "colab": {
          "base_uri": "https://localhost:8080/",
          "height": 520
        },
        "id": "feTO19ZVRu8F",
        "outputId": "6a3afb90-39ff-4c3a-d2fb-e83c12f32307"
      },
      "execution_count": null,
      "outputs": [
        {
          "output_type": "stream",
          "name": "stderr",
          "text": [
            "/usr/local/lib/python3.10/dist-packages/statsmodels/tsa/statespace/sarimax.py:966: UserWarning: Non-stationary starting autoregressive parameters found. Using zeros as starting parameters.\n",
            "  warn('Non-stationary starting autoregressive parameters'\n",
            "/usr/local/lib/python3.10/dist-packages/statsmodels/tsa/statespace/sarimax.py:978: UserWarning: Non-invertible starting MA parameters found. Using zeros as starting parameters.\n",
            "  warn('Non-invertible starting MA parameters found.'\n"
          ]
        },
        {
          "output_type": "execute_result",
          "data": {
            "text/plain": [
              "<class 'statsmodels.iolib.summary.Summary'>\n",
              "\"\"\"\n",
              "                               SARIMAX Results                                \n",
              "==============================================================================\n",
              "Dep. Variable:           market_value   No. Observations:                 6200\n",
              "Model:                 ARIMA(1, 1, 1)   Log Likelihood              -34020.745\n",
              "Date:                Sun, 15 Oct 2023   AIC                          68047.491\n",
              "Time:                        03:00:19   BIC                          68067.687\n",
              "Sample:                    01-07-1994   HQIC                         68054.493\n",
              "                         - 10-12-2017                                         \n",
              "Covariance Type:                  opg                                         \n",
              "==============================================================================\n",
              "                 coef    std err          z      P>|z|      [0.025      0.975]\n",
              "------------------------------------------------------------------------------\n",
              "ar.L1          0.8293      0.042     19.867      0.000       0.748       0.911\n",
              "ma.L1         -0.8644      0.037    -23.226      0.000      -0.937      -0.791\n",
              "sigma2      3423.1174     36.794     93.035      0.000    3351.002    3495.232\n",
              "===================================================================================\n",
              "Ljung-Box (L1) (Q):                   2.89   Jarque-Bera (JB):              3628.96\n",
              "Prob(Q):                              0.09   Prob(JB):                         0.00\n",
              "Heteroskedasticity (H):               1.07   Skew:                            -0.32\n",
              "Prob(H) (two-sided):                  0.12   Kurtosis:                         6.69\n",
              "===================================================================================\n",
              "\n",
              "Warnings:\n",
              "[1] Covariance matrix calculated using the outer product of gradients (complex-step).\n",
              "\"\"\""
            ],
            "text/html": [
              "<table class=\"simpletable\">\n",
              "<caption>SARIMAX Results</caption>\n",
              "<tr>\n",
              "  <th>Dep. Variable:</th>     <td>market_value</td>   <th>  No. Observations:  </th>    <td>6200</td>   \n",
              "</tr>\n",
              "<tr>\n",
              "  <th>Model:</th>            <td>ARIMA(1, 1, 1)</td>  <th>  Log Likelihood     </th> <td>-34020.745</td>\n",
              "</tr>\n",
              "<tr>\n",
              "  <th>Date:</th>            <td>Sun, 15 Oct 2023</td> <th>  AIC                </th>  <td>68047.491</td>\n",
              "</tr>\n",
              "<tr>\n",
              "  <th>Time:</th>                <td>03:00:19</td>     <th>  BIC                </th>  <td>68067.687</td>\n",
              "</tr>\n",
              "<tr>\n",
              "  <th>Sample:</th>             <td>01-07-1994</td>    <th>  HQIC               </th>  <td>68054.493</td>\n",
              "</tr>\n",
              "<tr>\n",
              "  <th></th>                   <td>- 10-12-2017</td>   <th>                     </th>      <td> </td>    \n",
              "</tr>\n",
              "<tr>\n",
              "  <th>Covariance Type:</th>        <td>opg</td>       <th>                     </th>      <td> </td>    \n",
              "</tr>\n",
              "</table>\n",
              "<table class=\"simpletable\">\n",
              "<tr>\n",
              "     <td></td>       <th>coef</th>     <th>std err</th>      <th>z</th>      <th>P>|z|</th>  <th>[0.025</th>    <th>0.975]</th>  \n",
              "</tr>\n",
              "<tr>\n",
              "  <th>ar.L1</th>  <td>    0.8293</td> <td>    0.042</td> <td>   19.867</td> <td> 0.000</td> <td>    0.748</td> <td>    0.911</td>\n",
              "</tr>\n",
              "<tr>\n",
              "  <th>ma.L1</th>  <td>   -0.8644</td> <td>    0.037</td> <td>  -23.226</td> <td> 0.000</td> <td>   -0.937</td> <td>   -0.791</td>\n",
              "</tr>\n",
              "<tr>\n",
              "  <th>sigma2</th> <td> 3423.1174</td> <td>   36.794</td> <td>   93.035</td> <td> 0.000</td> <td> 3351.002</td> <td> 3495.232</td>\n",
              "</tr>\n",
              "</table>\n",
              "<table class=\"simpletable\">\n",
              "<tr>\n",
              "  <th>Ljung-Box (L1) (Q):</th>     <td>2.89</td> <th>  Jarque-Bera (JB):  </th> <td>3628.96</td>\n",
              "</tr>\n",
              "<tr>\n",
              "  <th>Prob(Q):</th>                <td>0.09</td> <th>  Prob(JB):          </th>  <td>0.00</td>  \n",
              "</tr>\n",
              "<tr>\n",
              "  <th>Heteroskedasticity (H):</th> <td>1.07</td> <th>  Skew:              </th>  <td>-0.32</td> \n",
              "</tr>\n",
              "<tr>\n",
              "  <th>Prob(H) (two-sided):</th>    <td>0.12</td> <th>  Kurtosis:          </th>  <td>6.69</td>  \n",
              "</tr>\n",
              "</table><br/><br/>Warnings:<br/>[1] Covariance matrix calculated using the outer product of gradients (complex-step)."
            ],
            "text/latex": "\\begin{center}\n\\begin{tabular}{lclc}\n\\toprule\n\\textbf{Dep. Variable:}          &  market\\_value   & \\textbf{  No. Observations:  } &    6200     \\\\\n\\textbf{Model:}                  &  ARIMA(1, 1, 1)  & \\textbf{  Log Likelihood     } & -34020.745  \\\\\n\\textbf{Date:}                   & Sun, 15 Oct 2023 & \\textbf{  AIC                } & 68047.491   \\\\\n\\textbf{Time:}                   &     03:00:19     & \\textbf{  BIC                } & 68067.687   \\\\\n\\textbf{Sample:}                 &    01-07-1994    & \\textbf{  HQIC               } & 68054.493   \\\\\n\\textbf{}                        &   - 10-12-2017   & \\textbf{                     } &             \\\\\n\\textbf{Covariance Type:}        &       opg        & \\textbf{                     } &             \\\\\n\\bottomrule\n\\end{tabular}\n\\begin{tabular}{lcccccc}\n                & \\textbf{coef} & \\textbf{std err} & \\textbf{z} & \\textbf{P$> |$z$|$} & \\textbf{[0.025} & \\textbf{0.975]}  \\\\\n\\midrule\n\\textbf{ar.L1}  &       0.8293  &        0.042     &    19.867  &         0.000        &        0.748    &        0.911     \\\\\n\\textbf{ma.L1}  &      -0.8644  &        0.037     &   -23.226  &         0.000        &       -0.937    &       -0.791     \\\\\n\\textbf{sigma2} &    3423.1174  &       36.794     &    93.035  &         0.000        &     3351.002    &     3495.232     \\\\\n\\bottomrule\n\\end{tabular}\n\\begin{tabular}{lclc}\n\\textbf{Ljung-Box (L1) (Q):}     & 2.89 & \\textbf{  Jarque-Bera (JB):  } & 3628.96  \\\\\n\\textbf{Prob(Q):}                & 0.09 & \\textbf{  Prob(JB):          } &   0.00   \\\\\n\\textbf{Heteroskedasticity (H):} & 1.07 & \\textbf{  Skew:              } &  -0.32   \\\\\n\\textbf{Prob(H) (two-sided):}    & 0.12 & \\textbf{  Kurtosis:          } &   6.69   \\\\\n\\bottomrule\n\\end{tabular}\n%\\caption{SARIMAX Results}\n\\end{center}\n\nWarnings: \\newline\n [1] Covariance matrix calculated using the outer product of gradients (complex-step)."
          },
          "metadata": {},
          "execution_count": 57
        }
      ]
    },
    {
      "cell_type": "code",
      "source": [
        "from statsmodels.tsa.statespace.sarimax import SARIMAX\n",
        "\n",
        "model_sarimax = SARIMAX(df.market_value, order=(1,0,1), seasonal_order=(2,0,1,5))\n",
        "results_sarimax = model_sarimax.fit()\n",
        "results_sarimax.summary()\n"
      ],
      "metadata": {
        "colab": {
          "base_uri": "https://localhost:8080/",
          "height": 584
        },
        "id": "7L-MgwN2SCaL",
        "outputId": "8ee24d4d-a2b6-4005-f9ec-ef8e01b5ccba"
      },
      "execution_count": null,
      "outputs": [
        {
          "output_type": "stream",
          "name": "stderr",
          "text": [
            "/usr/local/lib/python3.10/dist-packages/statsmodels/tsa/statespace/sarimax.py:966: UserWarning: Non-stationary starting autoregressive parameters found. Using zeros as starting parameters.\n",
            "  warn('Non-stationary starting autoregressive parameters'\n",
            "/usr/local/lib/python3.10/dist-packages/statsmodels/tsa/statespace/sarimax.py:997: UserWarning: Non-stationary starting seasonal autoregressive Using zeros as starting parameters.\n",
            "  warn('Non-stationary starting seasonal autoregressive'\n"
          ]
        },
        {
          "output_type": "execute_result",
          "data": {
            "text/plain": [
              "<class 'statsmodels.iolib.summary.Summary'>\n",
              "\"\"\"\n",
              "                                     SARIMAX Results                                     \n",
              "=========================================================================================\n",
              "Dep. Variable:                      market_value   No. Observations:                 6200\n",
              "Model:             SARIMAX(1, 0, 1)x(2, 0, 1, 5)   Log Likelihood              -34040.847\n",
              "Date:                           Sun, 15 Oct 2023   AIC                          68093.694\n",
              "Time:                                   03:02:05   BIC                          68134.087\n",
              "Sample:                               01-07-1994   HQIC                         68107.698\n",
              "                                    - 10-12-2017                                         \n",
              "Covariance Type:                             opg                                         \n",
              "==============================================================================\n",
              "                 coef    std err          z      P>|z|      [0.025      0.975]\n",
              "------------------------------------------------------------------------------\n",
              "ar.L1          0.9997      0.000   2986.817      0.000       0.999       1.000\n",
              "ma.L1         -0.0090      0.003     -3.096      0.002      -0.015      -0.003\n",
              "ar.S.L5        0.9655      0.008    114.056      0.000       0.949       0.982\n",
              "ar.S.L10       0.0344      0.008      4.168      0.000       0.018       0.051\n",
              "ma.S.L5       -0.9991      0.004   -267.460      0.000      -1.006      -0.992\n",
              "sigma2      3425.5897     37.176     92.145      0.000    3352.726    3498.454\n",
              "===================================================================================\n",
              "Ljung-Box (L1) (Q):                   0.01   Jarque-Bera (JB):              3562.07\n",
              "Prob(Q):                              0.94   Prob(JB):                         0.00\n",
              "Heteroskedasticity (H):               1.07   Skew:                            -0.22\n",
              "Prob(H) (two-sided):                  0.12   Kurtosis:                         6.69\n",
              "===================================================================================\n",
              "\n",
              "Warnings:\n",
              "[1] Covariance matrix calculated using the outer product of gradients (complex-step).\n",
              "\"\"\""
            ],
            "text/html": [
              "<table class=\"simpletable\">\n",
              "<caption>SARIMAX Results</caption>\n",
              "<tr>\n",
              "  <th>Dep. Variable:</th>           <td>market_value</td>          <th>  No. Observations:  </th>    <td>6200</td>   \n",
              "</tr>\n",
              "<tr>\n",
              "  <th>Model:</th>           <td>SARIMAX(1, 0, 1)x(2, 0, 1, 5)</td> <th>  Log Likelihood     </th> <td>-34040.847</td>\n",
              "</tr>\n",
              "<tr>\n",
              "  <th>Date:</th>                  <td>Sun, 15 Oct 2023</td>        <th>  AIC                </th>  <td>68093.694</td>\n",
              "</tr>\n",
              "<tr>\n",
              "  <th>Time:</th>                      <td>03:02:05</td>            <th>  BIC                </th>  <td>68134.087</td>\n",
              "</tr>\n",
              "<tr>\n",
              "  <th>Sample:</th>                   <td>01-07-1994</td>           <th>  HQIC               </th>  <td>68107.698</td>\n",
              "</tr>\n",
              "<tr>\n",
              "  <th></th>                         <td>- 10-12-2017</td>          <th>                     </th>      <td> </td>    \n",
              "</tr>\n",
              "<tr>\n",
              "  <th>Covariance Type:</th>              <td>opg</td>              <th>                     </th>      <td> </td>    \n",
              "</tr>\n",
              "</table>\n",
              "<table class=\"simpletable\">\n",
              "<tr>\n",
              "      <td></td>        <th>coef</th>     <th>std err</th>      <th>z</th>      <th>P>|z|</th>  <th>[0.025</th>    <th>0.975]</th>  \n",
              "</tr>\n",
              "<tr>\n",
              "  <th>ar.L1</th>    <td>    0.9997</td> <td>    0.000</td> <td> 2986.817</td> <td> 0.000</td> <td>    0.999</td> <td>    1.000</td>\n",
              "</tr>\n",
              "<tr>\n",
              "  <th>ma.L1</th>    <td>   -0.0090</td> <td>    0.003</td> <td>   -3.096</td> <td> 0.002</td> <td>   -0.015</td> <td>   -0.003</td>\n",
              "</tr>\n",
              "<tr>\n",
              "  <th>ar.S.L5</th>  <td>    0.9655</td> <td>    0.008</td> <td>  114.056</td> <td> 0.000</td> <td>    0.949</td> <td>    0.982</td>\n",
              "</tr>\n",
              "<tr>\n",
              "  <th>ar.S.L10</th> <td>    0.0344</td> <td>    0.008</td> <td>    4.168</td> <td> 0.000</td> <td>    0.018</td> <td>    0.051</td>\n",
              "</tr>\n",
              "<tr>\n",
              "  <th>ma.S.L5</th>  <td>   -0.9991</td> <td>    0.004</td> <td> -267.460</td> <td> 0.000</td> <td>   -1.006</td> <td>   -0.992</td>\n",
              "</tr>\n",
              "<tr>\n",
              "  <th>sigma2</th>   <td> 3425.5897</td> <td>   37.176</td> <td>   92.145</td> <td> 0.000</td> <td> 3352.726</td> <td> 3498.454</td>\n",
              "</tr>\n",
              "</table>\n",
              "<table class=\"simpletable\">\n",
              "<tr>\n",
              "  <th>Ljung-Box (L1) (Q):</th>     <td>0.01</td> <th>  Jarque-Bera (JB):  </th> <td>3562.07</td>\n",
              "</tr>\n",
              "<tr>\n",
              "  <th>Prob(Q):</th>                <td>0.94</td> <th>  Prob(JB):          </th>  <td>0.00</td>  \n",
              "</tr>\n",
              "<tr>\n",
              "  <th>Heteroskedasticity (H):</th> <td>1.07</td> <th>  Skew:              </th>  <td>-0.22</td> \n",
              "</tr>\n",
              "<tr>\n",
              "  <th>Prob(H) (two-sided):</th>    <td>0.12</td> <th>  Kurtosis:          </th>  <td>6.69</td>  \n",
              "</tr>\n",
              "</table><br/><br/>Warnings:<br/>[1] Covariance matrix calculated using the outer product of gradients (complex-step)."
            ],
            "text/latex": "\\begin{center}\n\\begin{tabular}{lclc}\n\\toprule\n\\textbf{Dep. Variable:}          &         market\\_value         & \\textbf{  No. Observations:  } &    6200     \\\\\n\\textbf{Model:}                  & SARIMAX(1, 0, 1)x(2, 0, 1, 5) & \\textbf{  Log Likelihood     } & -34040.847  \\\\\n\\textbf{Date:}                   &        Sun, 15 Oct 2023       & \\textbf{  AIC                } & 68093.694   \\\\\n\\textbf{Time:}                   &            03:02:05           & \\textbf{  BIC                } & 68134.087   \\\\\n\\textbf{Sample:}                 &           01-07-1994          & \\textbf{  HQIC               } & 68107.698   \\\\\n\\textbf{}                        &          - 10-12-2017         & \\textbf{                     } &             \\\\\n\\textbf{Covariance Type:}        &              opg              & \\textbf{                     } &             \\\\\n\\bottomrule\n\\end{tabular}\n\\begin{tabular}{lcccccc}\n                  & \\textbf{coef} & \\textbf{std err} & \\textbf{z} & \\textbf{P$> |$z$|$} & \\textbf{[0.025} & \\textbf{0.975]}  \\\\\n\\midrule\n\\textbf{ar.L1}    &       0.9997  &        0.000     &  2986.817  &         0.000        &        0.999    &        1.000     \\\\\n\\textbf{ma.L1}    &      -0.0090  &        0.003     &    -3.096  &         0.002        &       -0.015    &       -0.003     \\\\\n\\textbf{ar.S.L5}  &       0.9655  &        0.008     &   114.056  &         0.000        &        0.949    &        0.982     \\\\\n\\textbf{ar.S.L10} &       0.0344  &        0.008     &     4.168  &         0.000        &        0.018    &        0.051     \\\\\n\\textbf{ma.S.L5}  &      -0.9991  &        0.004     &  -267.460  &         0.000        &       -1.006    &       -0.992     \\\\\n\\textbf{sigma2}   &    3425.5897  &       37.176     &    92.145  &         0.000        &     3352.726    &     3498.454     \\\\\n\\bottomrule\n\\end{tabular}\n\\begin{tabular}{lclc}\n\\textbf{Ljung-Box (L1) (Q):}     & 0.01 & \\textbf{  Jarque-Bera (JB):  } & 3562.07  \\\\\n\\textbf{Prob(Q):}                & 0.94 & \\textbf{  Prob(JB):          } &   0.00   \\\\\n\\textbf{Heteroskedasticity (H):} & 1.07 & \\textbf{  Skew:              } &  -0.22   \\\\\n\\textbf{Prob(H) (two-sided):}    & 0.12 & \\textbf{  Kurtosis:          } &   6.69   \\\\\n\\bottomrule\n\\end{tabular}\n%\\caption{SARIMAX Results}\n\\end{center}\n\nWarnings: \\newline\n [1] Covariance matrix calculated using the outer product of gradients (complex-step)."
          },
          "metadata": {},
          "execution_count": 58
        }
      ]
    }
  ]
}