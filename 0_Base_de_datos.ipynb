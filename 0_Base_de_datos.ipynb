{
  "nbformat": 4,
  "nbformat_minor": 0,
  "metadata": {
    "colab": {
      "provenance": [],
      "include_colab_link": true
    },
    "kernelspec": {
      "name": "python3",
      "display_name": "Python 3"
    },
    "language_info": {
      "name": "python"
    }
  },
  "cells": [
    {
      "cell_type": "markdown",
      "metadata": {
        "id": "view-in-github",
        "colab_type": "text"
      },
      "source": [
        "<a href=\"https://colab.research.google.com/github/MoralesCMaJo/Tarea-2--An-lisis-de-series-temporales/blob/main/0_Base_de_datos.ipynb\" target=\"_parent\"><img src=\"https://colab.research.google.com/assets/colab-badge.svg\" alt=\"Open In Colab\"/></a>"
      ]
    },
    {
      "cell_type": "code",
      "source": [
        "pip install pandas yfinance matplotlib numpy"
      ],
      "metadata": {
        "colab": {
          "base_uri": "https://localhost:8080/"
        },
        "id": "PJuD03vz-w1Z",
        "outputId": "bbba54f3-fa7e-467b-8151-11495fa28c43"
      },
      "execution_count": null,
      "outputs": [
        {
          "output_type": "stream",
          "name": "stdout",
          "text": [
            "Requirement already satisfied: pandas in /usr/local/lib/python3.10/dist-packages (1.5.3)\n",
            "Requirement already satisfied: yfinance in /usr/local/lib/python3.10/dist-packages (0.2.31)\n",
            "Requirement already satisfied: matplotlib in /usr/local/lib/python3.10/dist-packages (3.7.1)\n",
            "Requirement already satisfied: numpy in /usr/local/lib/python3.10/dist-packages (1.23.5)\n",
            "Requirement already satisfied: python-dateutil>=2.8.1 in /usr/local/lib/python3.10/dist-packages (from pandas) (2.8.2)\n",
            "Requirement already satisfied: pytz>=2020.1 in /usr/local/lib/python3.10/dist-packages (from pandas) (2023.3.post1)\n",
            "Requirement already satisfied: requests>=2.31 in /usr/local/lib/python3.10/dist-packages (from yfinance) (2.31.0)\n",
            "Requirement already satisfied: multitasking>=0.0.7 in /usr/local/lib/python3.10/dist-packages (from yfinance) (0.0.11)\n",
            "Requirement already satisfied: lxml>=4.9.1 in /usr/local/lib/python3.10/dist-packages (from yfinance) (4.9.3)\n",
            "Requirement already satisfied: appdirs>=1.4.4 in /usr/local/lib/python3.10/dist-packages (from yfinance) (1.4.4)\n",
            "Requirement already satisfied: frozendict>=2.3.4 in /usr/local/lib/python3.10/dist-packages (from yfinance) (2.3.8)\n",
            "Requirement already satisfied: peewee>=3.16.2 in /usr/local/lib/python3.10/dist-packages (from yfinance) (3.16.3)\n",
            "Requirement already satisfied: beautifulsoup4>=4.11.1 in /usr/local/lib/python3.10/dist-packages (from yfinance) (4.11.2)\n",
            "Requirement already satisfied: html5lib>=1.1 in /usr/local/lib/python3.10/dist-packages (from yfinance) (1.1)\n",
            "Requirement already satisfied: contourpy>=1.0.1 in /usr/local/lib/python3.10/dist-packages (from matplotlib) (1.1.1)\n",
            "Requirement already satisfied: cycler>=0.10 in /usr/local/lib/python3.10/dist-packages (from matplotlib) (0.12.1)\n",
            "Requirement already satisfied: fonttools>=4.22.0 in /usr/local/lib/python3.10/dist-packages (from matplotlib) (4.43.1)\n",
            "Requirement already satisfied: kiwisolver>=1.0.1 in /usr/local/lib/python3.10/dist-packages (from matplotlib) (1.4.5)\n",
            "Requirement already satisfied: packaging>=20.0 in /usr/local/lib/python3.10/dist-packages (from matplotlib) (23.2)\n",
            "Requirement already satisfied: pillow>=6.2.0 in /usr/local/lib/python3.10/dist-packages (from matplotlib) (9.4.0)\n",
            "Requirement already satisfied: pyparsing>=2.3.1 in /usr/local/lib/python3.10/dist-packages (from matplotlib) (3.1.1)\n",
            "Requirement already satisfied: soupsieve>1.2 in /usr/local/lib/python3.10/dist-packages (from beautifulsoup4>=4.11.1->yfinance) (2.5)\n",
            "Requirement already satisfied: six>=1.9 in /usr/local/lib/python3.10/dist-packages (from html5lib>=1.1->yfinance) (1.16.0)\n",
            "Requirement already satisfied: webencodings in /usr/local/lib/python3.10/dist-packages (from html5lib>=1.1->yfinance) (0.5.1)\n",
            "Requirement already satisfied: charset-normalizer<4,>=2 in /usr/local/lib/python3.10/dist-packages (from requests>=2.31->yfinance) (3.3.0)\n",
            "Requirement already satisfied: idna<4,>=2.5 in /usr/local/lib/python3.10/dist-packages (from requests>=2.31->yfinance) (3.4)\n",
            "Requirement already satisfied: urllib3<3,>=1.21.1 in /usr/local/lib/python3.10/dist-packages (from requests>=2.31->yfinance) (2.0.6)\n",
            "Requirement already satisfied: certifi>=2017.4.17 in /usr/local/lib/python3.10/dist-packages (from requests>=2.31->yfinance) (2023.7.22)\n"
          ]
        }
      ]
    },
    {
      "cell_type": "code",
      "source": [
        "import yfinance as yf\n",
        "import warnings\n",
        "warnings.filterwarnings(\"ignore\")\n",
        "\n",
        "# Descargar los datos utilizando el método .download()\n",
        "raw_data = yf.download(tickers=\"^GSPC ^FTSE ^N225 ^GDAXI\", start=\"1994-01-07\", end=\"2023-09-23\", interval=\"1d\", group_by='ticker', auto_adjust=True, threads=True)\n",
        "\n",
        "# Crear una copia de respaldo en caso de que se necesite\n",
        "df_comp = raw_data.copy()\n",
        "\n",
        "# Agregar nuevas columnas al conjunto de datos\n",
        "df_comp['spx'] = df_comp['^GSPC'].Close\n",
        "df_comp['dax'] = df_comp['^GDAXI'].Close\n",
        "df_comp['ftse'] = df_comp['^FTSE'].Close\n",
        "df_comp['nikkei'] = df_comp['^N225'].Close\n",
        "\n",
        "\n",
        "# Eliminar los tickers originales del conjunto de datos\n",
        "del df_comp['^N225']\n",
        "del df_comp['^GSPC']\n",
        "del df_comp['^GDAXI']\n",
        "del df_comp['^FTSE']\n",
        "\n",
        "# Establecer la frecuencia de los datos a días hábiles\n",
        "df_comp = df_comp.asfreq('B')\n",
        "\n",
        "# Rellenar valores faltantes hacia adelante\n",
        "df_comp = df_comp.fillna(method='ffill')\n",
        "# Restablecer el índice para que \"Date\" sea una columna\n",
        "df_comp = df_comp.reset_index()\n",
        "\n",
        "print(df_comp.head()) # Mostrar las primeras 5 filas para verificar la descarga\n",
        "print(df_comp.tail()) # Verificar la última fecha en la serie\n",
        "\n",
        "from google.colab import drive\n",
        "drive.mount('/content/drive')\n",
        "\n",
        "# Supongamos que ya tienes un DataFrame llamado 'df_comp' con tus datos\n",
        "\n",
        "# Especifica el nombre del archivo CSV\n",
        "nombre_archivo_csv = \"Index_2023.csv\"  # Reemplaza 'tu_archivo.csv' con el nombre que desees\n",
        "\n",
        "# Guarda el DataFrame en un archivo CSV en Google Colab\n",
        "df_comp.to_csv(\"Index_2023.csv\", index=True)\n",
        "\n",
        "# Mueve el archivo CSV a tu unidad de Google Drive\n",
        "import shutil\n",
        "ruta_destino_drive = \"/content/drive/My Drive/\" + \"Index_2023.csv\"\n",
        "shutil.move(\"Index_2023.csv\", ruta_destino_drive)\n",
        "\n",
        "# Asegúrate de que los datos se hayan guardado en Google Drive\n",
        "print(f\"Los datos se han guardado en Google Drive en {ruta_destino_drive}.\")"
      ],
      "metadata": {
        "colab": {
          "base_uri": "https://localhost:8080/"
        },
        "id": "tC2QOXoS-6e-",
        "outputId": "62e9bb58-939d-4c2a-afae-ae65d39ced38"
      },
      "execution_count": null,
      "outputs": [
        {
          "output_type": "stream",
          "name": "stdout",
          "text": [
            "[*********************100%%**********************]  4 of 4 completed\n",
            "        Date         spx          dax         ftse        nikkei\n",
            "                                                                \n",
            "0 1994-01-07  469.899994  2224.949951  3446.000000  18124.009766\n",
            "1 1994-01-10  475.269989  2225.000000  3440.600098  18443.439453\n",
            "2 1994-01-11  474.130005  2228.100098  3413.800049  18485.250000\n",
            "3 1994-01-12  474.170013  2182.060059  3372.000000  18793.880859\n",
            "4 1994-01-13  472.470001  2142.370117  3360.000000  18577.259766\n",
            "           Date          spx           dax         ftse        nikkei\n",
            "                                                                     \n",
            "7746 2023-09-18  4453.529785  15727.120117  7652.899902  33533.089844\n",
            "7747 2023-09-19  4443.950195  15664.480469  7660.200195  33242.589844\n",
            "7748 2023-09-20  4402.200195  15781.589844  7731.700195  33023.781250\n",
            "7749 2023-09-21  4330.000000  15571.860352  7678.600098  32571.029297\n",
            "7750 2023-09-22  4320.060059  15557.290039  7683.899902  32402.410156\n",
            "Mounted at /content/drive\n",
            "Los datos se han guardado en Google Drive en /content/drive/My Drive/Index_2023.csv.\n"
          ]
        }
      ]
    }
  ]
}