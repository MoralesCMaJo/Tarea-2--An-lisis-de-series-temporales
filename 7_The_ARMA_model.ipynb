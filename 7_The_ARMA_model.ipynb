{
  "nbformat": 4,
  "nbformat_minor": 0,
  "metadata": {
    "colab": {
      "provenance": [],
      "include_colab_link": true
    },
    "kernelspec": {
      "name": "python3",
      "display_name": "Python 3"
    },
    "language_info": {
      "name": "python"
    }
  },
  "cells": [
    {
      "cell_type": "markdown",
      "metadata": {
        "id": "view-in-github",
        "colab_type": "text"
      },
      "source": [
        "<a href=\"https://colab.research.google.com/github/MoralesCMaJo/Tarea-2--An-lisis-de-series-temporales/blob/main/7_The_ARMA_model.ipynb\" target=\"_parent\"><img src=\"https://colab.research.google.com/assets/colab-badge.svg\" alt=\"Open In Colab\"/></a>"
      ]
    },
    {
      "cell_type": "code",
      "execution_count": null,
      "metadata": {
        "colab": {
          "base_uri": "https://localhost:8080/"
        },
        "id": "hHhguwaoWwdW",
        "outputId": "b1051241-1931-42e9-8845-dcd2ac422fd7"
      },
      "outputs": [
        {
          "output_type": "stream",
          "name": "stdout",
          "text": [
            "Requirement already satisfied: pandas in /usr/local/lib/python3.10/dist-packages (1.5.3)\n",
            "Requirement already satisfied: yfinance in /usr/local/lib/python3.10/dist-packages (0.2.31)\n",
            "Requirement already satisfied: matplotlib in /usr/local/lib/python3.10/dist-packages (3.7.1)\n",
            "Requirement already satisfied: numpy in /usr/local/lib/python3.10/dist-packages (1.23.5)\n",
            "Requirement already satisfied: python-dateutil>=2.8.1 in /usr/local/lib/python3.10/dist-packages (from pandas) (2.8.2)\n",
            "Requirement already satisfied: pytz>=2020.1 in /usr/local/lib/python3.10/dist-packages (from pandas) (2023.3.post1)\n",
            "Requirement already satisfied: requests>=2.31 in /usr/local/lib/python3.10/dist-packages (from yfinance) (2.31.0)\n",
            "Requirement already satisfied: multitasking>=0.0.7 in /usr/local/lib/python3.10/dist-packages (from yfinance) (0.0.11)\n",
            "Requirement already satisfied: lxml>=4.9.1 in /usr/local/lib/python3.10/dist-packages (from yfinance) (4.9.3)\n",
            "Requirement already satisfied: appdirs>=1.4.4 in /usr/local/lib/python3.10/dist-packages (from yfinance) (1.4.4)\n",
            "Requirement already satisfied: frozendict>=2.3.4 in /usr/local/lib/python3.10/dist-packages (from yfinance) (2.3.8)\n",
            "Requirement already satisfied: peewee>=3.16.2 in /usr/local/lib/python3.10/dist-packages (from yfinance) (3.16.3)\n",
            "Requirement already satisfied: beautifulsoup4>=4.11.1 in /usr/local/lib/python3.10/dist-packages (from yfinance) (4.11.2)\n",
            "Requirement already satisfied: html5lib>=1.1 in /usr/local/lib/python3.10/dist-packages (from yfinance) (1.1)\n",
            "Requirement already satisfied: contourpy>=1.0.1 in /usr/local/lib/python3.10/dist-packages (from matplotlib) (1.1.1)\n",
            "Requirement already satisfied: cycler>=0.10 in /usr/local/lib/python3.10/dist-packages (from matplotlib) (0.12.1)\n",
            "Requirement already satisfied: fonttools>=4.22.0 in /usr/local/lib/python3.10/dist-packages (from matplotlib) (4.43.1)\n",
            "Requirement already satisfied: kiwisolver>=1.0.1 in /usr/local/lib/python3.10/dist-packages (from matplotlib) (1.4.5)\n",
            "Requirement already satisfied: packaging>=20.0 in /usr/local/lib/python3.10/dist-packages (from matplotlib) (23.2)\n",
            "Requirement already satisfied: pillow>=6.2.0 in /usr/local/lib/python3.10/dist-packages (from matplotlib) (9.4.0)\n",
            "Requirement already satisfied: pyparsing>=2.3.1 in /usr/local/lib/python3.10/dist-packages (from matplotlib) (3.1.1)\n",
            "Requirement already satisfied: soupsieve>1.2 in /usr/local/lib/python3.10/dist-packages (from beautifulsoup4>=4.11.1->yfinance) (2.5)\n",
            "Requirement already satisfied: six>=1.9 in /usr/local/lib/python3.10/dist-packages (from html5lib>=1.1->yfinance) (1.16.0)\n",
            "Requirement already satisfied: webencodings in /usr/local/lib/python3.10/dist-packages (from html5lib>=1.1->yfinance) (0.5.1)\n",
            "Requirement already satisfied: charset-normalizer<4,>=2 in /usr/local/lib/python3.10/dist-packages (from requests>=2.31->yfinance) (3.3.0)\n",
            "Requirement already satisfied: idna<4,>=2.5 in /usr/local/lib/python3.10/dist-packages (from requests>=2.31->yfinance) (3.4)\n",
            "Requirement already satisfied: urllib3<3,>=1.21.1 in /usr/local/lib/python3.10/dist-packages (from requests>=2.31->yfinance) (2.0.6)\n",
            "Requirement already satisfied: certifi>=2017.4.17 in /usr/local/lib/python3.10/dist-packages (from requests>=2.31->yfinance) (2023.7.22)\n"
          ]
        }
      ],
      "source": [
        "pip install pandas yfinance matplotlib numpy"
      ]
    },
    {
      "cell_type": "markdown",
      "source": [
        "# Data frame"
      ],
      "metadata": {
        "id": "F2GfxpISXx7U"
      }
    },
    {
      "cell_type": "code",
      "source": [
        "import yfinance as yf\n",
        "import warnings\n",
        "warnings.filterwarnings(\"ignore\")\n",
        "\n",
        "# Descargar los datos utilizando el método .download()\n",
        "raw_data = yf.download(tickers=\"^GSPC ^FTSE ^N225 ^GDAXI\", start=\"1994-01-07\", end=\"2023-09-23\", interval=\"1d\", group_by='ticker', auto_adjust=True, threads=True)\n",
        "\n",
        "# Crear una copia de respaldo en caso de que se necesite\n",
        "df_comp = raw_data.copy()\n",
        "\n",
        "# Agregar nuevas columnas al conjunto de datos\n",
        "df_comp['spx'] = df_comp['^GSPC'].Close\n",
        "df_comp['dax'] = df_comp['^GDAXI'].Close\n",
        "df_comp['ftse'] = df_comp['^FTSE'].Close\n",
        "df_comp['nikkei'] = df_comp['^N225'].Close\n",
        "\n",
        "# Eliminar la primera fila si es necesario (ajustar a tus requisitos)\n",
        "# df_comp = df_comp.iloc[1:]\n",
        "\n",
        "# Eliminar los tickers originales del conjunto de datos\n",
        "del df_comp['^N225']\n",
        "del df_comp['^GSPC']\n",
        "del df_comp['^GDAXI']\n",
        "del df_comp['^FTSE']\n",
        "\n",
        "# Establecer la frecuencia de los datos a días hábiles\n",
        "df_comp = df_comp.asfreq('B')\n",
        "\n",
        "# Rellenar valores faltantes hacia adelante\n",
        "df_comp = df_comp.fillna(method='ffill')\n",
        "# Restablecer el índice para que \"Date\" sea una columna\n",
        "df_comp = df_comp.reset_index()\n",
        "\n",
        "print(df_comp.head()) # Mostrar las primeras 5 filas para verificar la descarga\n",
        "print(df_comp.tail()) # Verificar la última fecha en la serie\n",
        "\n",
        "from google.colab import drive\n",
        "drive.mount('/content/drive')\n",
        "\n",
        "# Supongamos que ya tienes un DataFrame llamado 'df_comp' con tus datos\n",
        "\n",
        "# Especifica el nombre del archivo CSV\n",
        "nombre_archivo_csv = \"Index_2023.csv\"  # Reemplaza 'tu_archivo.csv' con el nombre que desees\n",
        "\n",
        "# Guarda el DataFrame en un archivo CSV en Google Colab\n",
        "df_comp.to_csv(\"Index_2023.csv\", index=True)\n",
        "\n",
        "# Mueve el archivo CSV a tu unidad de Google Drive\n",
        "import shutil\n",
        "ruta_destino_drive = \"/content/drive/My Drive/\" + \"Index_2023.csv\"\n",
        "shutil.move(\"Index_2023.csv\", ruta_destino_drive)\n",
        "\n",
        "# Asegúrate de que los datos se hayan guardado en Google Drive\n",
        "print(f\"Los datos se han guardado en Google Drive en {ruta_destino_drive}.\")"
      ],
      "metadata": {
        "colab": {
          "base_uri": "https://localhost:8080/"
        },
        "id": "fSQyuo-PX2ll",
        "outputId": "345c8552-8f60-4fb6-a6e7-d5a31713c134"
      },
      "execution_count": null,
      "outputs": [
        {
          "output_type": "stream",
          "name": "stdout",
          "text": [
            "[*********************100%%**********************]  4 of 4 completed\n",
            "        Date         spx          dax         ftse        nikkei\n",
            "                                                                \n",
            "0 1994-01-07  469.899994  2224.949951  3446.000000  18124.009766\n",
            "1 1994-01-10  475.269989  2225.000000  3440.600098  18443.439453\n",
            "2 1994-01-11  474.130005  2228.100098  3413.800049  18485.250000\n",
            "3 1994-01-12  474.170013  2182.060059  3372.000000  18793.880859\n",
            "4 1994-01-13  472.470001  2142.370117  3360.000000  18577.259766\n",
            "           Date          spx           dax         ftse        nikkei\n",
            "                                                                     \n",
            "7746 2023-09-18  4453.529785  15727.120117  7652.899902  33533.089844\n",
            "7747 2023-09-19  4443.950195  15664.480469  7660.200195  33242.589844\n",
            "7748 2023-09-20  4402.200195  15781.589844  7731.700195  33023.781250\n",
            "7749 2023-09-21  4330.000000  15571.860352  7678.600098  32571.029297\n",
            "7750 2023-09-22  4320.060059  15557.290039  7683.899902  32402.410156\n",
            "Mounted at /content/drive\n",
            "Los datos se han guardado en Google Drive en /content/drive/My Drive/Index_2023.csv.\n"
          ]
        }
      ]
    },
    {
      "cell_type": "markdown",
      "source": [
        "# Package Installation: statsmodels, seaborn, arch"
      ],
      "metadata": {
        "id": "KwXchN_lYGSa"
      }
    },
    {
      "cell_type": "code",
      "source": [
        "!pip install statsmodels seaborn arch"
      ],
      "metadata": {
        "colab": {
          "base_uri": "https://localhost:8080/"
        },
        "id": "z8MkWz_eYLfb",
        "outputId": "de31723f-fcd7-4461-c71e-fddd261d5f47"
      },
      "execution_count": null,
      "outputs": [
        {
          "output_type": "stream",
          "name": "stdout",
          "text": [
            "Requirement already satisfied: statsmodels in /usr/local/lib/python3.10/dist-packages (0.14.0)\n",
            "Requirement already satisfied: seaborn in /usr/local/lib/python3.10/dist-packages (0.12.2)\n",
            "Collecting arch\n",
            "  Downloading arch-6.2.0-cp310-cp310-manylinux_2_17_x86_64.manylinux2014_x86_64.whl (981 kB)\n",
            "\u001b[2K     \u001b[90m━━━━━━━━━━━━━━━━━━━━━━━━━━━━━━━━━━━━━━━━\u001b[0m \u001b[32m981.7/981.7 kB\u001b[0m \u001b[31m14.8 MB/s\u001b[0m eta \u001b[36m0:00:00\u001b[0m\n",
            "\u001b[?25hRequirement already satisfied: numpy>=1.18 in /usr/local/lib/python3.10/dist-packages (from statsmodels) (1.23.5)\n",
            "Requirement already satisfied: scipy!=1.9.2,>=1.4 in /usr/local/lib/python3.10/dist-packages (from statsmodels) (1.11.3)\n",
            "Requirement already satisfied: pandas>=1.0 in /usr/local/lib/python3.10/dist-packages (from statsmodels) (1.5.3)\n",
            "Requirement already satisfied: patsy>=0.5.2 in /usr/local/lib/python3.10/dist-packages (from statsmodels) (0.5.3)\n",
            "Requirement already satisfied: packaging>=21.3 in /usr/local/lib/python3.10/dist-packages (from statsmodels) (23.2)\n",
            "Requirement already satisfied: matplotlib!=3.6.1,>=3.1 in /usr/local/lib/python3.10/dist-packages (from seaborn) (3.7.1)\n",
            "Requirement already satisfied: contourpy>=1.0.1 in /usr/local/lib/python3.10/dist-packages (from matplotlib!=3.6.1,>=3.1->seaborn) (1.1.1)\n",
            "Requirement already satisfied: cycler>=0.10 in /usr/local/lib/python3.10/dist-packages (from matplotlib!=3.6.1,>=3.1->seaborn) (0.12.1)\n",
            "Requirement already satisfied: fonttools>=4.22.0 in /usr/local/lib/python3.10/dist-packages (from matplotlib!=3.6.1,>=3.1->seaborn) (4.43.1)\n",
            "Requirement already satisfied: kiwisolver>=1.0.1 in /usr/local/lib/python3.10/dist-packages (from matplotlib!=3.6.1,>=3.1->seaborn) (1.4.5)\n",
            "Requirement already satisfied: pillow>=6.2.0 in /usr/local/lib/python3.10/dist-packages (from matplotlib!=3.6.1,>=3.1->seaborn) (9.4.0)\n",
            "Requirement already satisfied: pyparsing>=2.3.1 in /usr/local/lib/python3.10/dist-packages (from matplotlib!=3.6.1,>=3.1->seaborn) (3.1.1)\n",
            "Requirement already satisfied: python-dateutil>=2.7 in /usr/local/lib/python3.10/dist-packages (from matplotlib!=3.6.1,>=3.1->seaborn) (2.8.2)\n",
            "Requirement already satisfied: pytz>=2020.1 in /usr/local/lib/python3.10/dist-packages (from pandas>=1.0->statsmodels) (2023.3.post1)\n",
            "Requirement already satisfied: six in /usr/local/lib/python3.10/dist-packages (from patsy>=0.5.2->statsmodels) (1.16.0)\n",
            "Installing collected packages: arch\n",
            "Successfully installed arch-6.2.0\n"
          ]
        }
      ]
    },
    {
      "cell_type": "markdown",
      "source": [
        "# Importing the relevant packages"
      ],
      "metadata": {
        "id": "IPz2_LovYTDY"
      }
    },
    {
      "cell_type": "code",
      "source": [
        "import pandas as pd\n",
        "import numpy as np\n",
        "import matplotlib.pyplot as plt\n",
        "import statsmodels.graphics.tsaplots as sgt\n",
        "import statsmodels.tsa.stattools as sts\n",
        "from statsmodels.tsa.arima_model import ARMA\n",
        "from scipy.stats.distributions import chi2\n",
        "import seaborn as sns\n",
        "sns.set()"
      ],
      "metadata": {
        "id": "WurIeCnwYYRr"
      },
      "execution_count": null,
      "outputs": []
    },
    {
      "cell_type": "markdown",
      "source": [
        "# Importing the Data and Pre-processing"
      ],
      "metadata": {
        "id": "GfGvkszTYljR"
      }
    },
    {
      "cell_type": "code",
      "source": [
        "raw_csv_data = pd.read_csv(\"/content/drive/My Drive/Index_2023.csv\")\n",
        "df_comp=raw_csv_data.copy()\n",
        "df_comp.Date = pd.to_datetime(df_comp.Date, dayfirst = True)\n",
        "df_comp.set_index(\"Date\", inplace=True)\n",
        "df_comp=df_comp.asfreq('b')\n",
        "df_comp=df_comp.fillna(method='ffill')\n",
        "\n",
        "\n"
      ],
      "metadata": {
        "id": "hlZf2QH8Yw4Y"
      },
      "execution_count": null,
      "outputs": []
    },
    {
      "cell_type": "code",
      "source": [
        "df_comp['market_value']=df_comp.ftse"
      ],
      "metadata": {
        "id": "2ENg423ZZx8A"
      },
      "execution_count": null,
      "outputs": []
    },
    {
      "cell_type": "code",
      "source": [
        "del df_comp['spx']\n",
        "del df_comp['dax']\n",
        "del df_comp['ftse']\n",
        "del df_comp['nikkei']\n",
        "size = int(len(df_comp)*0.8)\n",
        "df, df_test = df_comp.iloc[:size], df_comp.iloc[size:]"
      ],
      "metadata": {
        "id": "B3NDK-AhZ135"
      },
      "execution_count": null,
      "outputs": []
    },
    {
      "cell_type": "code",
      "source": [
        "import warnings\n",
        "warnings.filterwarnings(\"ignore\")"
      ],
      "metadata": {
        "id": "2i2y3GuZZ3x6"
      },
      "execution_count": null,
      "outputs": []
    },
    {
      "cell_type": "markdown",
      "source": [
        "#  The LLR Test"
      ],
      "metadata": {
        "id": "LcEEOlEaZ888"
      }
    },
    {
      "cell_type": "code",
      "source": [
        "def LLR_test(mod_1, mod_2, DF = 1):\n",
        "    L1 = mod_1.fit().llf\n",
        "    L2 = mod_2.fit().llf\n",
        "    LR = (2*(L2-L1))\n",
        "    p = chi2.sf(LR, DF).round(3)\n",
        "    return p"
      ],
      "metadata": {
        "id": "6SQgaUlIZ4KL"
      },
      "execution_count": null,
      "outputs": []
    },
    {
      "cell_type": "markdown",
      "source": [
        "# Creating Returns"
      ],
      "metadata": {
        "id": "bG9GJ5K1aJ2I"
      }
    },
    {
      "cell_type": "code",
      "source": [
        "df['returns'] = df.market_value.pct_change(1)*100"
      ],
      "metadata": {
        "id": "R73Iim_BaHW-"
      },
      "execution_count": null,
      "outputs": []
    },
    {
      "cell_type": "markdown",
      "source": [
        "# ARMA(1,1)"
      ],
      "metadata": {
        "id": "w-KpvLiiaT2d"
      }
    },
    {
      "cell_type": "code",
      "source": [
        "from statsmodels.tsa.arima.model import ARIMA\n",
        "\n",
        "# Specify your order (p, d, q) here:\n",
        "p = 1  # Autoregressive order\n",
        "d = 1  # Differencing order\n",
        "q = 1  # Moving average order\n",
        "\n",
        "model_ret_ar_1_ma_1 = ARIMA(df.returns[1:], order=(p, d, q))\n",
        "results_ret_ar_1_ma_1 = model_ret_ar_1_ma_1.fit()\n",
        "results_ret_ar_1_ma_1.summary()\n"
      ],
      "metadata": {
        "colab": {
          "base_uri": "https://localhost:8080/",
          "height": 430
        },
        "id": "oIcT3SLAaHhv",
        "outputId": "e68bc784-2411-4abc-f250-b85ef62639ff"
      },
      "execution_count": null,
      "outputs": [
        {
          "output_type": "execute_result",
          "data": {
            "text/plain": [
              "<class 'statsmodels.iolib.summary.Summary'>\n",
              "\"\"\"\n",
              "                               SARIMAX Results                                \n",
              "==============================================================================\n",
              "Dep. Variable:                returns   No. Observations:                 6199\n",
              "Model:                 ARIMA(1, 1, 1)   Log Likelihood               -9515.141\n",
              "Date:                Sun, 15 Oct 2023   AIC                          19036.283\n",
              "Time:                        03:38:45   BIC                          19056.479\n",
              "Sample:                    01-10-1994   HQIC                         19043.285\n",
              "                         - 10-12-2017                                         \n",
              "Covariance Type:                  opg                                         \n",
              "==============================================================================\n",
              "                 coef    std err          z      P>|z|      [0.025      0.975]\n",
              "------------------------------------------------------------------------------\n",
              "ar.L1         -0.0173      0.008     -2.269      0.023      -0.032      -0.002\n",
              "ma.L1         -1.0000      0.006   -173.258      0.000      -1.011      -0.989\n",
              "sigma2         1.2600      0.013     93.810      0.000       1.234       1.286\n",
              "===================================================================================\n",
              "Ljung-Box (L1) (Q):                   0.01   Jarque-Bera (JB):             10136.59\n",
              "Prob(Q):                              0.94   Prob(JB):                         0.00\n",
              "Heteroskedasticity (H):               0.87   Skew:                            -0.04\n",
              "Prob(H) (two-sided):                  0.00   Kurtosis:                         9.26\n",
              "===================================================================================\n",
              "\n",
              "Warnings:\n",
              "[1] Covariance matrix calculated using the outer product of gradients (complex-step).\n",
              "\"\"\""
            ],
            "text/html": [
              "<table class=\"simpletable\">\n",
              "<caption>SARIMAX Results</caption>\n",
              "<tr>\n",
              "  <th>Dep. Variable:</th>        <td>returns</td>     <th>  No. Observations:  </th>   <td>6199</td>   \n",
              "</tr>\n",
              "<tr>\n",
              "  <th>Model:</th>            <td>ARIMA(1, 1, 1)</td>  <th>  Log Likelihood     </th> <td>-9515.141</td>\n",
              "</tr>\n",
              "<tr>\n",
              "  <th>Date:</th>            <td>Sun, 15 Oct 2023</td> <th>  AIC                </th> <td>19036.283</td>\n",
              "</tr>\n",
              "<tr>\n",
              "  <th>Time:</th>                <td>03:38:45</td>     <th>  BIC                </th> <td>19056.479</td>\n",
              "</tr>\n",
              "<tr>\n",
              "  <th>Sample:</th>             <td>01-10-1994</td>    <th>  HQIC               </th> <td>19043.285</td>\n",
              "</tr>\n",
              "<tr>\n",
              "  <th></th>                   <td>- 10-12-2017</td>   <th>                     </th>     <td> </td>    \n",
              "</tr>\n",
              "<tr>\n",
              "  <th>Covariance Type:</th>        <td>opg</td>       <th>                     </th>     <td> </td>    \n",
              "</tr>\n",
              "</table>\n",
              "<table class=\"simpletable\">\n",
              "<tr>\n",
              "     <td></td>       <th>coef</th>     <th>std err</th>      <th>z</th>      <th>P>|z|</th>  <th>[0.025</th>    <th>0.975]</th>  \n",
              "</tr>\n",
              "<tr>\n",
              "  <th>ar.L1</th>  <td>   -0.0173</td> <td>    0.008</td> <td>   -2.269</td> <td> 0.023</td> <td>   -0.032</td> <td>   -0.002</td>\n",
              "</tr>\n",
              "<tr>\n",
              "  <th>ma.L1</th>  <td>   -1.0000</td> <td>    0.006</td> <td> -173.258</td> <td> 0.000</td> <td>   -1.011</td> <td>   -0.989</td>\n",
              "</tr>\n",
              "<tr>\n",
              "  <th>sigma2</th> <td>    1.2600</td> <td>    0.013</td> <td>   93.810</td> <td> 0.000</td> <td>    1.234</td> <td>    1.286</td>\n",
              "</tr>\n",
              "</table>\n",
              "<table class=\"simpletable\">\n",
              "<tr>\n",
              "  <th>Ljung-Box (L1) (Q):</th>     <td>0.01</td> <th>  Jarque-Bera (JB):  </th> <td>10136.59</td>\n",
              "</tr>\n",
              "<tr>\n",
              "  <th>Prob(Q):</th>                <td>0.94</td> <th>  Prob(JB):          </th>   <td>0.00</td>  \n",
              "</tr>\n",
              "<tr>\n",
              "  <th>Heteroskedasticity (H):</th> <td>0.87</td> <th>  Skew:              </th>   <td>-0.04</td> \n",
              "</tr>\n",
              "<tr>\n",
              "  <th>Prob(H) (two-sided):</th>    <td>0.00</td> <th>  Kurtosis:          </th>   <td>9.26</td>  \n",
              "</tr>\n",
              "</table><br/><br/>Warnings:<br/>[1] Covariance matrix calculated using the outer product of gradients (complex-step)."
            ],
            "text/latex": "\\begin{center}\n\\begin{tabular}{lclc}\n\\toprule\n\\textbf{Dep. Variable:}          &     returns      & \\textbf{  No. Observations:  } &    6199     \\\\\n\\textbf{Model:}                  &  ARIMA(1, 1, 1)  & \\textbf{  Log Likelihood     } & -9515.141   \\\\\n\\textbf{Date:}                   & Sun, 15 Oct 2023 & \\textbf{  AIC                } & 19036.283   \\\\\n\\textbf{Time:}                   &     03:38:45     & \\textbf{  BIC                } & 19056.479   \\\\\n\\textbf{Sample:}                 &    01-10-1994    & \\textbf{  HQIC               } & 19043.285   \\\\\n\\textbf{}                        &   - 10-12-2017   & \\textbf{                     } &             \\\\\n\\textbf{Covariance Type:}        &       opg        & \\textbf{                     } &             \\\\\n\\bottomrule\n\\end{tabular}\n\\begin{tabular}{lcccccc}\n                & \\textbf{coef} & \\textbf{std err} & \\textbf{z} & \\textbf{P$> |$z$|$} & \\textbf{[0.025} & \\textbf{0.975]}  \\\\\n\\midrule\n\\textbf{ar.L1}  &      -0.0173  &        0.008     &    -2.269  &         0.023        &       -0.032    &       -0.002     \\\\\n\\textbf{ma.L1}  &      -1.0000  &        0.006     &  -173.258  &         0.000        &       -1.011    &       -0.989     \\\\\n\\textbf{sigma2} &       1.2600  &        0.013     &    93.810  &         0.000        &        1.234    &        1.286     \\\\\n\\bottomrule\n\\end{tabular}\n\\begin{tabular}{lclc}\n\\textbf{Ljung-Box (L1) (Q):}     & 0.01 & \\textbf{  Jarque-Bera (JB):  } & 10136.59  \\\\\n\\textbf{Prob(Q):}                & 0.94 & \\textbf{  Prob(JB):          } &   0.00    \\\\\n\\textbf{Heteroskedasticity (H):} & 0.87 & \\textbf{  Skew:              } &  -0.04    \\\\\n\\textbf{Prob(H) (two-sided):}    & 0.00 & \\textbf{  Kurtosis:          } &   9.26    \\\\\n\\bottomrule\n\\end{tabular}\n%\\caption{SARIMAX Results}\n\\end{center}\n\nWarnings: \\newline\n [1] Covariance matrix calculated using the outer product of gradients (complex-step)."
          },
          "metadata": {},
          "execution_count": 14
        }
      ]
    },
    {
      "cell_type": "code",
      "source": [
        "from statsmodels.tsa.arima.model import ARIMA\n",
        "\n",
        "# Specify your order (p, d, q) for AR model and MA model separately:\n",
        "p_ar = 1  # Autoregressive order\n",
        "d_ar = 0  # Differencing order for AR model\n",
        "q_ar = 0  # Moving average order for AR model\n",
        "\n",
        "p_ma = 0  # Autoregressive order for MA model\n",
        "d_ma = 0  # Differencing order for MA model\n",
        "q_ma = 1  # Moving average order for MA model\n",
        "\n",
        "model_ret_ar_1 = ARIMA(df.returns[1:], order=(p_ar, d_ar, q_ar))\n",
        "model_ret_ma_1 = ARIMA(df.returns[1:], order=(p_ma, d_ma, q_ma))\n"
      ],
      "metadata": {
        "id": "Luv1Ea49anYs"
      },
      "execution_count": null,
      "outputs": []
    },
    {
      "cell_type": "code",
      "source": [
        "print(\"\\nARMA vs AR \", LLR_test(model_ret_ar_1, model_ret_ar_1_ma_1))\n",
        "print(\"\\nARMA vs MA \", LLR_test(model_ret_ma_1, model_ret_ar_1_ma_1))"
      ],
      "metadata": {
        "colab": {
          "base_uri": "https://localhost:8080/"
        },
        "id": "PL_z2yFsankU",
        "outputId": "ceb8f123-d85d-4029-918f-ba70c95f11aa"
      },
      "execution_count": null,
      "outputs": [
        {
          "output_type": "stream",
          "name": "stdout",
          "text": [
            "\n",
            "ARMA vs AR  1.0\n",
            "\n",
            "ARMA vs MA  1.0\n"
          ]
        }
      ]
    },
    {
      "cell_type": "markdown",
      "source": [
        "# Higher-Lag ARMA Models"
      ],
      "metadata": {
        "id": "rE87gLPJbBdx"
      }
    },
    {
      "cell_type": "code",
      "source": [
        "from statsmodels.tsa.arima.model import ARIMA\n",
        "\n",
        "# Specify your order (p, d, q) for ARMA(3,3):\n",
        "p = 3  # Autoregressive order\n",
        "d = 0  # Differencing order (0 for ARMA)\n",
        "q = 3  # Moving average order\n",
        "\n",
        "model_ret_ar_3_ma_3 = ARIMA(df.returns[1:], order=(p, d, q))\n",
        "results_ret_ar_3_ma_3 = model_ret_ar_3_ma_3.fit()\n"
      ],
      "metadata": {
        "id": "R9TZ0FEganso"
      },
      "execution_count": null,
      "outputs": []
    },
    {
      "cell_type": "code",
      "source": [
        "LLR_test(model_ret_ar_1_ma_1, model_ret_ar_3_ma_3, DF = 4)"
      ],
      "metadata": {
        "colab": {
          "base_uri": "https://localhost:8080/"
        },
        "id": "91naowQDbDvm",
        "outputId": "3f6060e0-d990-4562-a051-192912d02d3a"
      },
      "execution_count": null,
      "outputs": [
        {
          "output_type": "execute_result",
          "data": {
            "text/plain": [
              "0.0"
            ]
          },
          "metadata": {},
          "execution_count": 20
        }
      ]
    },
    {
      "cell_type": "code",
      "source": [
        "results_ret_ar_3_ma_3.summary()"
      ],
      "metadata": {
        "colab": {
          "base_uri": "https://localhost:8080/",
          "height": 537
        },
        "id": "SN9uQoqebD2E",
        "outputId": "67abbb33-5d05-4156-8398-1fd6679df33b"
      },
      "execution_count": null,
      "outputs": [
        {
          "output_type": "execute_result",
          "data": {
            "text/plain": [
              "<class 'statsmodels.iolib.summary.Summary'>\n",
              "\"\"\"\n",
              "                               SARIMAX Results                                \n",
              "==============================================================================\n",
              "Dep. Variable:                returns   No. Observations:                 6199\n",
              "Model:                 ARIMA(3, 0, 3)   Log Likelihood               -9479.346\n",
              "Date:                Sun, 15 Oct 2023   AIC                          18974.693\n",
              "Time:                        03:43:04   BIC                          19028.550\n",
              "Sample:                    01-10-1994   HQIC                         18993.365\n",
              "                         - 10-12-2017                                         \n",
              "Covariance Type:                  opg                                         \n",
              "==============================================================================\n",
              "                 coef    std err          z      P>|z|      [0.025      0.975]\n",
              "------------------------------------------------------------------------------\n",
              "const          0.0190      0.013      1.497      0.134      -0.006       0.044\n",
              "ar.L1         -0.1227      0.070     -1.754      0.080      -0.260       0.014\n",
              "ar.L2         -0.2056      0.056     -3.688      0.000      -0.315      -0.096\n",
              "ar.L3          0.5076      0.059      8.566      0.000       0.391       0.624\n",
              "ma.L1          0.1077      0.067      1.617      0.106      -0.023       0.238\n",
              "ma.L2          0.1440      0.054      2.658      0.008       0.038       0.250\n",
              "ma.L3         -0.5839      0.055    -10.548      0.000      -0.692      -0.475\n",
              "sigma2         1.2467      0.012    104.207      0.000       1.223       1.270\n",
              "===================================================================================\n",
              "Ljung-Box (L1) (Q):                   0.18   Jarque-Bera (JB):              8994.99\n",
              "Prob(Q):                              0.67   Prob(JB):                         0.00\n",
              "Heteroskedasticity (H):               0.88   Skew:                            -0.18\n",
              "Prob(H) (two-sided):                  0.01   Kurtosis:                         8.89\n",
              "===================================================================================\n",
              "\n",
              "Warnings:\n",
              "[1] Covariance matrix calculated using the outer product of gradients (complex-step).\n",
              "\"\"\""
            ],
            "text/html": [
              "<table class=\"simpletable\">\n",
              "<caption>SARIMAX Results</caption>\n",
              "<tr>\n",
              "  <th>Dep. Variable:</th>        <td>returns</td>     <th>  No. Observations:  </th>   <td>6199</td>   \n",
              "</tr>\n",
              "<tr>\n",
              "  <th>Model:</th>            <td>ARIMA(3, 0, 3)</td>  <th>  Log Likelihood     </th> <td>-9479.346</td>\n",
              "</tr>\n",
              "<tr>\n",
              "  <th>Date:</th>            <td>Sun, 15 Oct 2023</td> <th>  AIC                </th> <td>18974.693</td>\n",
              "</tr>\n",
              "<tr>\n",
              "  <th>Time:</th>                <td>03:43:04</td>     <th>  BIC                </th> <td>19028.550</td>\n",
              "</tr>\n",
              "<tr>\n",
              "  <th>Sample:</th>             <td>01-10-1994</td>    <th>  HQIC               </th> <td>18993.365</td>\n",
              "</tr>\n",
              "<tr>\n",
              "  <th></th>                   <td>- 10-12-2017</td>   <th>                     </th>     <td> </td>    \n",
              "</tr>\n",
              "<tr>\n",
              "  <th>Covariance Type:</th>        <td>opg</td>       <th>                     </th>     <td> </td>    \n",
              "</tr>\n",
              "</table>\n",
              "<table class=\"simpletable\">\n",
              "<tr>\n",
              "     <td></td>       <th>coef</th>     <th>std err</th>      <th>z</th>      <th>P>|z|</th>  <th>[0.025</th>    <th>0.975]</th>  \n",
              "</tr>\n",
              "<tr>\n",
              "  <th>const</th>  <td>    0.0190</td> <td>    0.013</td> <td>    1.497</td> <td> 0.134</td> <td>   -0.006</td> <td>    0.044</td>\n",
              "</tr>\n",
              "<tr>\n",
              "  <th>ar.L1</th>  <td>   -0.1227</td> <td>    0.070</td> <td>   -1.754</td> <td> 0.080</td> <td>   -0.260</td> <td>    0.014</td>\n",
              "</tr>\n",
              "<tr>\n",
              "  <th>ar.L2</th>  <td>   -0.2056</td> <td>    0.056</td> <td>   -3.688</td> <td> 0.000</td> <td>   -0.315</td> <td>   -0.096</td>\n",
              "</tr>\n",
              "<tr>\n",
              "  <th>ar.L3</th>  <td>    0.5076</td> <td>    0.059</td> <td>    8.566</td> <td> 0.000</td> <td>    0.391</td> <td>    0.624</td>\n",
              "</tr>\n",
              "<tr>\n",
              "  <th>ma.L1</th>  <td>    0.1077</td> <td>    0.067</td> <td>    1.617</td> <td> 0.106</td> <td>   -0.023</td> <td>    0.238</td>\n",
              "</tr>\n",
              "<tr>\n",
              "  <th>ma.L2</th>  <td>    0.1440</td> <td>    0.054</td> <td>    2.658</td> <td> 0.008</td> <td>    0.038</td> <td>    0.250</td>\n",
              "</tr>\n",
              "<tr>\n",
              "  <th>ma.L3</th>  <td>   -0.5839</td> <td>    0.055</td> <td>  -10.548</td> <td> 0.000</td> <td>   -0.692</td> <td>   -0.475</td>\n",
              "</tr>\n",
              "<tr>\n",
              "  <th>sigma2</th> <td>    1.2467</td> <td>    0.012</td> <td>  104.207</td> <td> 0.000</td> <td>    1.223</td> <td>    1.270</td>\n",
              "</tr>\n",
              "</table>\n",
              "<table class=\"simpletable\">\n",
              "<tr>\n",
              "  <th>Ljung-Box (L1) (Q):</th>     <td>0.18</td> <th>  Jarque-Bera (JB):  </th> <td>8994.99</td>\n",
              "</tr>\n",
              "<tr>\n",
              "  <th>Prob(Q):</th>                <td>0.67</td> <th>  Prob(JB):          </th>  <td>0.00</td>  \n",
              "</tr>\n",
              "<tr>\n",
              "  <th>Heteroskedasticity (H):</th> <td>0.88</td> <th>  Skew:              </th>  <td>-0.18</td> \n",
              "</tr>\n",
              "<tr>\n",
              "  <th>Prob(H) (two-sided):</th>    <td>0.01</td> <th>  Kurtosis:          </th>  <td>8.89</td>  \n",
              "</tr>\n",
              "</table><br/><br/>Warnings:<br/>[1] Covariance matrix calculated using the outer product of gradients (complex-step)."
            ],
            "text/latex": "\\begin{center}\n\\begin{tabular}{lclc}\n\\toprule\n\\textbf{Dep. Variable:}          &     returns      & \\textbf{  No. Observations:  } &    6199     \\\\\n\\textbf{Model:}                  &  ARIMA(3, 0, 3)  & \\textbf{  Log Likelihood     } & -9479.346   \\\\\n\\textbf{Date:}                   & Sun, 15 Oct 2023 & \\textbf{  AIC                } & 18974.693   \\\\\n\\textbf{Time:}                   &     03:43:04     & \\textbf{  BIC                } & 19028.550   \\\\\n\\textbf{Sample:}                 &    01-10-1994    & \\textbf{  HQIC               } & 18993.365   \\\\\n\\textbf{}                        &   - 10-12-2017   & \\textbf{                     } &             \\\\\n\\textbf{Covariance Type:}        &       opg        & \\textbf{                     } &             \\\\\n\\bottomrule\n\\end{tabular}\n\\begin{tabular}{lcccccc}\n                & \\textbf{coef} & \\textbf{std err} & \\textbf{z} & \\textbf{P$> |$z$|$} & \\textbf{[0.025} & \\textbf{0.975]}  \\\\\n\\midrule\n\\textbf{const}  &       0.0190  &        0.013     &     1.497  &         0.134        &       -0.006    &        0.044     \\\\\n\\textbf{ar.L1}  &      -0.1227  &        0.070     &    -1.754  &         0.080        &       -0.260    &        0.014     \\\\\n\\textbf{ar.L2}  &      -0.2056  &        0.056     &    -3.688  &         0.000        &       -0.315    &       -0.096     \\\\\n\\textbf{ar.L3}  &       0.5076  &        0.059     &     8.566  &         0.000        &        0.391    &        0.624     \\\\\n\\textbf{ma.L1}  &       0.1077  &        0.067     &     1.617  &         0.106        &       -0.023    &        0.238     \\\\\n\\textbf{ma.L2}  &       0.1440  &        0.054     &     2.658  &         0.008        &        0.038    &        0.250     \\\\\n\\textbf{ma.L3}  &      -0.5839  &        0.055     &   -10.548  &         0.000        &       -0.692    &       -0.475     \\\\\n\\textbf{sigma2} &       1.2467  &        0.012     &   104.207  &         0.000        &        1.223    &        1.270     \\\\\n\\bottomrule\n\\end{tabular}\n\\begin{tabular}{lclc}\n\\textbf{Ljung-Box (L1) (Q):}     & 0.18 & \\textbf{  Jarque-Bera (JB):  } & 8994.99  \\\\\n\\textbf{Prob(Q):}                & 0.67 & \\textbf{  Prob(JB):          } &   0.00   \\\\\n\\textbf{Heteroskedasticity (H):} & 0.88 & \\textbf{  Skew:              } &  -0.18   \\\\\n\\textbf{Prob(H) (two-sided):}    & 0.01 & \\textbf{  Kurtosis:          } &   8.89   \\\\\n\\bottomrule\n\\end{tabular}\n%\\caption{SARIMAX Results}\n\\end{center}\n\nWarnings: \\newline\n [1] Covariance matrix calculated using the outer product of gradients (complex-step)."
          },
          "metadata": {},
          "execution_count": 21
        }
      ]
    },
    {
      "cell_type": "code",
      "source": [
        "from statsmodels.tsa.arima.model import ARIMA\n",
        "\n",
        "# Specify your order (p, d, q) for ARMA(3,2):\n",
        "p_ar = 3  # Autoregressive order\n",
        "d_ar = 0  # Differencing order (0 for ARMA)\n",
        "q_ar = 2  # Moving average order\n",
        "\n",
        "model_ret_ar_3_ma_2 = ARIMA(df.returns[1:], order=(p_ar, d_ar, q_ar))\n",
        "results_ret_ar_3_ma_2 = model_ret_ar_3_ma_2.fit()\n",
        "results_ret_ar_3_ma_2.summary()\n"
      ],
      "metadata": {
        "colab": {
          "base_uri": "https://localhost:8080/",
          "height": 516
        },
        "id": "cY4IYm6LbED5",
        "outputId": "420c003a-7841-4e6a-fa63-10499f375e76"
      },
      "execution_count": null,
      "outputs": [
        {
          "output_type": "execute_result",
          "data": {
            "text/plain": [
              "<class 'statsmodels.iolib.summary.Summary'>\n",
              "\"\"\"\n",
              "                               SARIMAX Results                                \n",
              "==============================================================================\n",
              "Dep. Variable:                returns   No. Observations:                 6199\n",
              "Model:                 ARIMA(3, 0, 2)   Log Likelihood               -9483.454\n",
              "Date:                Sun, 15 Oct 2023   AIC                          18980.909\n",
              "Time:                        03:43:53   BIC                          19028.034\n",
              "Sample:                    01-10-1994   HQIC                         18997.247\n",
              "                         - 10-12-2017                                         \n",
              "Covariance Type:                  opg                                         \n",
              "==============================================================================\n",
              "                 coef    std err          z      P>|z|      [0.025      0.975]\n",
              "------------------------------------------------------------------------------\n",
              "const          0.0190      0.014      1.403      0.161      -0.008       0.045\n",
              "ar.L1         -0.6788      0.067    -10.066      0.000      -0.811      -0.547\n",
              "ar.L2         -0.3481      0.077     -4.524      0.000      -0.499      -0.197\n",
              "ar.L3         -0.0963      0.008    -12.790      0.000      -0.111      -0.082\n",
              "ma.L1          0.6618      0.068      9.668      0.000       0.528       0.796\n",
              "ma.L2          0.2902      0.077      3.763      0.000       0.139       0.441\n",
              "sigma2         1.2483      0.012    103.698      0.000       1.225       1.272\n",
              "===================================================================================\n",
              "Ljung-Box (L1) (Q):                   0.00   Jarque-Bera (JB):              8546.84\n",
              "Prob(Q):                              0.98   Prob(JB):                         0.00\n",
              "Heteroskedasticity (H):               0.89   Skew:                            -0.11\n",
              "Prob(H) (two-sided):                  0.01   Kurtosis:                         8.75\n",
              "===================================================================================\n",
              "\n",
              "Warnings:\n",
              "[1] Covariance matrix calculated using the outer product of gradients (complex-step).\n",
              "\"\"\""
            ],
            "text/html": [
              "<table class=\"simpletable\">\n",
              "<caption>SARIMAX Results</caption>\n",
              "<tr>\n",
              "  <th>Dep. Variable:</th>        <td>returns</td>     <th>  No. Observations:  </th>   <td>6199</td>   \n",
              "</tr>\n",
              "<tr>\n",
              "  <th>Model:</th>            <td>ARIMA(3, 0, 2)</td>  <th>  Log Likelihood     </th> <td>-9483.454</td>\n",
              "</tr>\n",
              "<tr>\n",
              "  <th>Date:</th>            <td>Sun, 15 Oct 2023</td> <th>  AIC                </th> <td>18980.909</td>\n",
              "</tr>\n",
              "<tr>\n",
              "  <th>Time:</th>                <td>03:43:53</td>     <th>  BIC                </th> <td>19028.034</td>\n",
              "</tr>\n",
              "<tr>\n",
              "  <th>Sample:</th>             <td>01-10-1994</td>    <th>  HQIC               </th> <td>18997.247</td>\n",
              "</tr>\n",
              "<tr>\n",
              "  <th></th>                   <td>- 10-12-2017</td>   <th>                     </th>     <td> </td>    \n",
              "</tr>\n",
              "<tr>\n",
              "  <th>Covariance Type:</th>        <td>opg</td>       <th>                     </th>     <td> </td>    \n",
              "</tr>\n",
              "</table>\n",
              "<table class=\"simpletable\">\n",
              "<tr>\n",
              "     <td></td>       <th>coef</th>     <th>std err</th>      <th>z</th>      <th>P>|z|</th>  <th>[0.025</th>    <th>0.975]</th>  \n",
              "</tr>\n",
              "<tr>\n",
              "  <th>const</th>  <td>    0.0190</td> <td>    0.014</td> <td>    1.403</td> <td> 0.161</td> <td>   -0.008</td> <td>    0.045</td>\n",
              "</tr>\n",
              "<tr>\n",
              "  <th>ar.L1</th>  <td>   -0.6788</td> <td>    0.067</td> <td>  -10.066</td> <td> 0.000</td> <td>   -0.811</td> <td>   -0.547</td>\n",
              "</tr>\n",
              "<tr>\n",
              "  <th>ar.L2</th>  <td>   -0.3481</td> <td>    0.077</td> <td>   -4.524</td> <td> 0.000</td> <td>   -0.499</td> <td>   -0.197</td>\n",
              "</tr>\n",
              "<tr>\n",
              "  <th>ar.L3</th>  <td>   -0.0963</td> <td>    0.008</td> <td>  -12.790</td> <td> 0.000</td> <td>   -0.111</td> <td>   -0.082</td>\n",
              "</tr>\n",
              "<tr>\n",
              "  <th>ma.L1</th>  <td>    0.6618</td> <td>    0.068</td> <td>    9.668</td> <td> 0.000</td> <td>    0.528</td> <td>    0.796</td>\n",
              "</tr>\n",
              "<tr>\n",
              "  <th>ma.L2</th>  <td>    0.2902</td> <td>    0.077</td> <td>    3.763</td> <td> 0.000</td> <td>    0.139</td> <td>    0.441</td>\n",
              "</tr>\n",
              "<tr>\n",
              "  <th>sigma2</th> <td>    1.2483</td> <td>    0.012</td> <td>  103.698</td> <td> 0.000</td> <td>    1.225</td> <td>    1.272</td>\n",
              "</tr>\n",
              "</table>\n",
              "<table class=\"simpletable\">\n",
              "<tr>\n",
              "  <th>Ljung-Box (L1) (Q):</th>     <td>0.00</td> <th>  Jarque-Bera (JB):  </th> <td>8546.84</td>\n",
              "</tr>\n",
              "<tr>\n",
              "  <th>Prob(Q):</th>                <td>0.98</td> <th>  Prob(JB):          </th>  <td>0.00</td>  \n",
              "</tr>\n",
              "<tr>\n",
              "  <th>Heteroskedasticity (H):</th> <td>0.89</td> <th>  Skew:              </th>  <td>-0.11</td> \n",
              "</tr>\n",
              "<tr>\n",
              "  <th>Prob(H) (two-sided):</th>    <td>0.01</td> <th>  Kurtosis:          </th>  <td>8.75</td>  \n",
              "</tr>\n",
              "</table><br/><br/>Warnings:<br/>[1] Covariance matrix calculated using the outer product of gradients (complex-step)."
            ],
            "text/latex": "\\begin{center}\n\\begin{tabular}{lclc}\n\\toprule\n\\textbf{Dep. Variable:}          &     returns      & \\textbf{  No. Observations:  } &    6199     \\\\\n\\textbf{Model:}                  &  ARIMA(3, 0, 2)  & \\textbf{  Log Likelihood     } & -9483.454   \\\\\n\\textbf{Date:}                   & Sun, 15 Oct 2023 & \\textbf{  AIC                } & 18980.909   \\\\\n\\textbf{Time:}                   &     03:43:53     & \\textbf{  BIC                } & 19028.034   \\\\\n\\textbf{Sample:}                 &    01-10-1994    & \\textbf{  HQIC               } & 18997.247   \\\\\n\\textbf{}                        &   - 10-12-2017   & \\textbf{                     } &             \\\\\n\\textbf{Covariance Type:}        &       opg        & \\textbf{                     } &             \\\\\n\\bottomrule\n\\end{tabular}\n\\begin{tabular}{lcccccc}\n                & \\textbf{coef} & \\textbf{std err} & \\textbf{z} & \\textbf{P$> |$z$|$} & \\textbf{[0.025} & \\textbf{0.975]}  \\\\\n\\midrule\n\\textbf{const}  &       0.0190  &        0.014     &     1.403  &         0.161        &       -0.008    &        0.045     \\\\\n\\textbf{ar.L1}  &      -0.6788  &        0.067     &   -10.066  &         0.000        &       -0.811    &       -0.547     \\\\\n\\textbf{ar.L2}  &      -0.3481  &        0.077     &    -4.524  &         0.000        &       -0.499    &       -0.197     \\\\\n\\textbf{ar.L3}  &      -0.0963  &        0.008     &   -12.790  &         0.000        &       -0.111    &       -0.082     \\\\\n\\textbf{ma.L1}  &       0.6618  &        0.068     &     9.668  &         0.000        &        0.528    &        0.796     \\\\\n\\textbf{ma.L2}  &       0.2902  &        0.077     &     3.763  &         0.000        &        0.139    &        0.441     \\\\\n\\textbf{sigma2} &       1.2483  &        0.012     &   103.698  &         0.000        &        1.225    &        1.272     \\\\\n\\bottomrule\n\\end{tabular}\n\\begin{tabular}{lclc}\n\\textbf{Ljung-Box (L1) (Q):}     & 0.00 & \\textbf{  Jarque-Bera (JB):  } & 8546.84  \\\\\n\\textbf{Prob(Q):}                & 0.98 & \\textbf{  Prob(JB):          } &   0.00   \\\\\n\\textbf{Heteroskedasticity (H):} & 0.89 & \\textbf{  Skew:              } &  -0.11   \\\\\n\\textbf{Prob(H) (two-sided):}    & 0.01 & \\textbf{  Kurtosis:          } &   8.75   \\\\\n\\bottomrule\n\\end{tabular}\n%\\caption{SARIMAX Results}\n\\end{center}\n\nWarnings: \\newline\n [1] Covariance matrix calculated using the outer product of gradients (complex-step)."
          },
          "metadata": {},
          "execution_count": 23
        }
      ]
    },
    {
      "cell_type": "code",
      "source": [
        "from statsmodels.tsa.arima.model import ARIMA\n",
        "\n",
        "# Specify your order (p, d, q) for ARMA(2,3):\n",
        "p_ar = 2  # Autoregressive order\n",
        "d_ar = 0  # Differencing order (0 for ARMA)\n",
        "q_ar = 3  # Moving average order\n",
        "\n",
        "model_ret_ar_2_ma_3 = ARIMA(df.returns[1:], order=(p_ar, d_ar, q_ar))\n",
        "results_ret_ar_2_ma_3 = model_ret_ar_2_ma_3.fit()\n",
        "results_ret_ar_2_ma_3.summary()\n"
      ],
      "metadata": {
        "colab": {
          "base_uri": "https://localhost:8080/",
          "height": 516
        },
        "id": "DdWunWWObx8s",
        "outputId": "f7f92a46-2f81-407e-ea68-ea9f4f3ca73f"
      },
      "execution_count": null,
      "outputs": [
        {
          "output_type": "execute_result",
          "data": {
            "text/plain": [
              "<class 'statsmodels.iolib.summary.Summary'>\n",
              "\"\"\"\n",
              "                               SARIMAX Results                                \n",
              "==============================================================================\n",
              "Dep. Variable:                returns   No. Observations:                 6199\n",
              "Model:                 ARIMA(2, 0, 3)   Log Likelihood               -9482.259\n",
              "Date:                Sun, 15 Oct 2023   AIC                          18978.517\n",
              "Time:                        03:44:40   BIC                          19025.642\n",
              "Sample:                    01-10-1994   HQIC                         18994.856\n",
              "                         - 10-12-2017                                         \n",
              "Covariance Type:                  opg                                         \n",
              "==============================================================================\n",
              "                 coef    std err          z      P>|z|      [0.025      0.975]\n",
              "------------------------------------------------------------------------------\n",
              "const          0.0190      0.013      1.432      0.152      -0.007       0.045\n",
              "ar.L1         -0.5275      0.071     -7.462      0.000      -0.666      -0.389\n",
              "ar.L2         -0.0859      0.077     -1.114      0.265      -0.237       0.065\n",
              "ma.L1          0.5090      0.071      7.213      0.000       0.371       0.647\n",
              "ma.L2          0.0239      0.076      0.314      0.754      -0.126       0.173\n",
              "ma.L3         -0.1016      0.007    -13.561      0.000      -0.116      -0.087\n",
              "sigma2         1.2478      0.012    103.267      0.000       1.224       1.271\n",
              "===================================================================================\n",
              "Ljung-Box (L1) (Q):                   0.00   Jarque-Bera (JB):              8466.03\n",
              "Prob(Q):                              0.99   Prob(JB):                         0.00\n",
              "Heteroskedasticity (H):               0.88   Skew:                            -0.14\n",
              "Prob(H) (two-sided):                  0.01   Kurtosis:                         8.72\n",
              "===================================================================================\n",
              "\n",
              "Warnings:\n",
              "[1] Covariance matrix calculated using the outer product of gradients (complex-step).\n",
              "\"\"\""
            ],
            "text/html": [
              "<table class=\"simpletable\">\n",
              "<caption>SARIMAX Results</caption>\n",
              "<tr>\n",
              "  <th>Dep. Variable:</th>        <td>returns</td>     <th>  No. Observations:  </th>   <td>6199</td>   \n",
              "</tr>\n",
              "<tr>\n",
              "  <th>Model:</th>            <td>ARIMA(2, 0, 3)</td>  <th>  Log Likelihood     </th> <td>-9482.259</td>\n",
              "</tr>\n",
              "<tr>\n",
              "  <th>Date:</th>            <td>Sun, 15 Oct 2023</td> <th>  AIC                </th> <td>18978.517</td>\n",
              "</tr>\n",
              "<tr>\n",
              "  <th>Time:</th>                <td>03:44:40</td>     <th>  BIC                </th> <td>19025.642</td>\n",
              "</tr>\n",
              "<tr>\n",
              "  <th>Sample:</th>             <td>01-10-1994</td>    <th>  HQIC               </th> <td>18994.856</td>\n",
              "</tr>\n",
              "<tr>\n",
              "  <th></th>                   <td>- 10-12-2017</td>   <th>                     </th>     <td> </td>    \n",
              "</tr>\n",
              "<tr>\n",
              "  <th>Covariance Type:</th>        <td>opg</td>       <th>                     </th>     <td> </td>    \n",
              "</tr>\n",
              "</table>\n",
              "<table class=\"simpletable\">\n",
              "<tr>\n",
              "     <td></td>       <th>coef</th>     <th>std err</th>      <th>z</th>      <th>P>|z|</th>  <th>[0.025</th>    <th>0.975]</th>  \n",
              "</tr>\n",
              "<tr>\n",
              "  <th>const</th>  <td>    0.0190</td> <td>    0.013</td> <td>    1.432</td> <td> 0.152</td> <td>   -0.007</td> <td>    0.045</td>\n",
              "</tr>\n",
              "<tr>\n",
              "  <th>ar.L1</th>  <td>   -0.5275</td> <td>    0.071</td> <td>   -7.462</td> <td> 0.000</td> <td>   -0.666</td> <td>   -0.389</td>\n",
              "</tr>\n",
              "<tr>\n",
              "  <th>ar.L2</th>  <td>   -0.0859</td> <td>    0.077</td> <td>   -1.114</td> <td> 0.265</td> <td>   -0.237</td> <td>    0.065</td>\n",
              "</tr>\n",
              "<tr>\n",
              "  <th>ma.L1</th>  <td>    0.5090</td> <td>    0.071</td> <td>    7.213</td> <td> 0.000</td> <td>    0.371</td> <td>    0.647</td>\n",
              "</tr>\n",
              "<tr>\n",
              "  <th>ma.L2</th>  <td>    0.0239</td> <td>    0.076</td> <td>    0.314</td> <td> 0.754</td> <td>   -0.126</td> <td>    0.173</td>\n",
              "</tr>\n",
              "<tr>\n",
              "  <th>ma.L3</th>  <td>   -0.1016</td> <td>    0.007</td> <td>  -13.561</td> <td> 0.000</td> <td>   -0.116</td> <td>   -0.087</td>\n",
              "</tr>\n",
              "<tr>\n",
              "  <th>sigma2</th> <td>    1.2478</td> <td>    0.012</td> <td>  103.267</td> <td> 0.000</td> <td>    1.224</td> <td>    1.271</td>\n",
              "</tr>\n",
              "</table>\n",
              "<table class=\"simpletable\">\n",
              "<tr>\n",
              "  <th>Ljung-Box (L1) (Q):</th>     <td>0.00</td> <th>  Jarque-Bera (JB):  </th> <td>8466.03</td>\n",
              "</tr>\n",
              "<tr>\n",
              "  <th>Prob(Q):</th>                <td>0.99</td> <th>  Prob(JB):          </th>  <td>0.00</td>  \n",
              "</tr>\n",
              "<tr>\n",
              "  <th>Heteroskedasticity (H):</th> <td>0.88</td> <th>  Skew:              </th>  <td>-0.14</td> \n",
              "</tr>\n",
              "<tr>\n",
              "  <th>Prob(H) (two-sided):</th>    <td>0.01</td> <th>  Kurtosis:          </th>  <td>8.72</td>  \n",
              "</tr>\n",
              "</table><br/><br/>Warnings:<br/>[1] Covariance matrix calculated using the outer product of gradients (complex-step)."
            ],
            "text/latex": "\\begin{center}\n\\begin{tabular}{lclc}\n\\toprule\n\\textbf{Dep. Variable:}          &     returns      & \\textbf{  No. Observations:  } &    6199     \\\\\n\\textbf{Model:}                  &  ARIMA(2, 0, 3)  & \\textbf{  Log Likelihood     } & -9482.259   \\\\\n\\textbf{Date:}                   & Sun, 15 Oct 2023 & \\textbf{  AIC                } & 18978.517   \\\\\n\\textbf{Time:}                   &     03:44:40     & \\textbf{  BIC                } & 19025.642   \\\\\n\\textbf{Sample:}                 &    01-10-1994    & \\textbf{  HQIC               } & 18994.856   \\\\\n\\textbf{}                        &   - 10-12-2017   & \\textbf{                     } &             \\\\\n\\textbf{Covariance Type:}        &       opg        & \\textbf{                     } &             \\\\\n\\bottomrule\n\\end{tabular}\n\\begin{tabular}{lcccccc}\n                & \\textbf{coef} & \\textbf{std err} & \\textbf{z} & \\textbf{P$> |$z$|$} & \\textbf{[0.025} & \\textbf{0.975]}  \\\\\n\\midrule\n\\textbf{const}  &       0.0190  &        0.013     &     1.432  &         0.152        &       -0.007    &        0.045     \\\\\n\\textbf{ar.L1}  &      -0.5275  &        0.071     &    -7.462  &         0.000        &       -0.666    &       -0.389     \\\\\n\\textbf{ar.L2}  &      -0.0859  &        0.077     &    -1.114  &         0.265        &       -0.237    &        0.065     \\\\\n\\textbf{ma.L1}  &       0.5090  &        0.071     &     7.213  &         0.000        &        0.371    &        0.647     \\\\\n\\textbf{ma.L2}  &       0.0239  &        0.076     &     0.314  &         0.754        &       -0.126    &        0.173     \\\\\n\\textbf{ma.L3}  &      -0.1016  &        0.007     &   -13.561  &         0.000        &       -0.116    &       -0.087     \\\\\n\\textbf{sigma2} &       1.2478  &        0.012     &   103.267  &         0.000        &        1.224    &        1.271     \\\\\n\\bottomrule\n\\end{tabular}\n\\begin{tabular}{lclc}\n\\textbf{Ljung-Box (L1) (Q):}     & 0.00 & \\textbf{  Jarque-Bera (JB):  } & 8466.03  \\\\\n\\textbf{Prob(Q):}                & 0.99 & \\textbf{  Prob(JB):          } &   0.00   \\\\\n\\textbf{Heteroskedasticity (H):} & 0.88 & \\textbf{  Skew:              } &  -0.14   \\\\\n\\textbf{Prob(H) (two-sided):}    & 0.01 & \\textbf{  Kurtosis:          } &   8.72   \\\\\n\\bottomrule\n\\end{tabular}\n%\\caption{SARIMAX Results}\n\\end{center}\n\nWarnings: \\newline\n [1] Covariance matrix calculated using the outer product of gradients (complex-step)."
          },
          "metadata": {},
          "execution_count": 25
        }
      ]
    },
    {
      "cell_type": "code",
      "source": [
        "LLR_test(model_ret_ar_2_ma_3, model_ret_ar_3_ma_3)"
      ],
      "metadata": {
        "colab": {
          "base_uri": "https://localhost:8080/"
        },
        "id": "IhPonyNnb53r",
        "outputId": "2a039858-51ba-45ee-e48b-8fecfa37a153"
      },
      "execution_count": null,
      "outputs": [
        {
          "output_type": "execute_result",
          "data": {
            "text/plain": [
              "0.016"
            ]
          },
          "metadata": {},
          "execution_count": 26
        }
      ]
    },
    {
      "cell_type": "code",
      "source": [
        "from statsmodels.tsa.arima.model import ARIMA\n",
        "\n",
        "# Specify your order (p, d, q) for ARMA(3,1):\n",
        "p_ar = 3  # Autoregressive order\n",
        "d_ar = 0  # Differencing order (0 for ARMA)\n",
        "q_ar = 1  # Moving average order\n",
        "\n",
        "model_ret_ar_3_ma_1 = ARIMA(df.returns[1:], order=(p_ar, d_ar, q_ar))\n",
        "results_ret_ar_3_ma_1 = model_ret_ar_3_ma_1.fit()\n",
        "results_ret_ar_3_ma_1.summary()\n"
      ],
      "metadata": {
        "colab": {
          "base_uri": "https://localhost:8080/",
          "height": 494
        },
        "id": "Rp7XiRlpb_zD",
        "outputId": "7cce02b0-10dc-42e9-b47e-c3132d353665"
      },
      "execution_count": null,
      "outputs": [
        {
          "output_type": "execute_result",
          "data": {
            "text/plain": [
              "<class 'statsmodels.iolib.summary.Summary'>\n",
              "\"\"\"\n",
              "                               SARIMAX Results                                \n",
              "==============================================================================\n",
              "Dep. Variable:                returns   No. Observations:                 6199\n",
              "Model:                 ARIMA(3, 0, 1)   Log Likelihood               -9484.555\n",
              "Date:                Sun, 15 Oct 2023   AIC                          18981.110\n",
              "Time:                        03:45:51   BIC                          19021.503\n",
              "Sample:                    01-10-1994   HQIC                         18995.114\n",
              "                         - 10-12-2017                                         \n",
              "Covariance Type:                  opg                                         \n",
              "==============================================================================\n",
              "                 coef    std err          z      P>|z|      [0.025      0.975]\n",
              "------------------------------------------------------------------------------\n",
              "const          0.0190      0.013      1.434      0.152      -0.007       0.045\n",
              "ar.L1         -0.5104      0.067     -7.571      0.000      -0.643      -0.378\n",
              "ar.L2         -0.0588      0.008     -7.251      0.000      -0.075      -0.043\n",
              "ar.L3         -0.0935      0.007    -12.986      0.000      -0.108      -0.079\n",
              "ma.L1          0.4918      0.069      7.170      0.000       0.357       0.626\n",
              "sigma2         1.2487      0.012    104.391      0.000       1.225       1.272\n",
              "===================================================================================\n",
              "Ljung-Box (L1) (Q):                   0.00   Jarque-Bera (JB):              8601.33\n",
              "Prob(Q):                              0.97   Prob(JB):                         0.00\n",
              "Heteroskedasticity (H):               0.88   Skew:                            -0.13\n",
              "Prob(H) (two-sided):                  0.01   Kurtosis:                         8.76\n",
              "===================================================================================\n",
              "\n",
              "Warnings:\n",
              "[1] Covariance matrix calculated using the outer product of gradients (complex-step).\n",
              "\"\"\""
            ],
            "text/html": [
              "<table class=\"simpletable\">\n",
              "<caption>SARIMAX Results</caption>\n",
              "<tr>\n",
              "  <th>Dep. Variable:</th>        <td>returns</td>     <th>  No. Observations:  </th>   <td>6199</td>   \n",
              "</tr>\n",
              "<tr>\n",
              "  <th>Model:</th>            <td>ARIMA(3, 0, 1)</td>  <th>  Log Likelihood     </th> <td>-9484.555</td>\n",
              "</tr>\n",
              "<tr>\n",
              "  <th>Date:</th>            <td>Sun, 15 Oct 2023</td> <th>  AIC                </th> <td>18981.110</td>\n",
              "</tr>\n",
              "<tr>\n",
              "  <th>Time:</th>                <td>03:45:51</td>     <th>  BIC                </th> <td>19021.503</td>\n",
              "</tr>\n",
              "<tr>\n",
              "  <th>Sample:</th>             <td>01-10-1994</td>    <th>  HQIC               </th> <td>18995.114</td>\n",
              "</tr>\n",
              "<tr>\n",
              "  <th></th>                   <td>- 10-12-2017</td>   <th>                     </th>     <td> </td>    \n",
              "</tr>\n",
              "<tr>\n",
              "  <th>Covariance Type:</th>        <td>opg</td>       <th>                     </th>     <td> </td>    \n",
              "</tr>\n",
              "</table>\n",
              "<table class=\"simpletable\">\n",
              "<tr>\n",
              "     <td></td>       <th>coef</th>     <th>std err</th>      <th>z</th>      <th>P>|z|</th>  <th>[0.025</th>    <th>0.975]</th>  \n",
              "</tr>\n",
              "<tr>\n",
              "  <th>const</th>  <td>    0.0190</td> <td>    0.013</td> <td>    1.434</td> <td> 0.152</td> <td>   -0.007</td> <td>    0.045</td>\n",
              "</tr>\n",
              "<tr>\n",
              "  <th>ar.L1</th>  <td>   -0.5104</td> <td>    0.067</td> <td>   -7.571</td> <td> 0.000</td> <td>   -0.643</td> <td>   -0.378</td>\n",
              "</tr>\n",
              "<tr>\n",
              "  <th>ar.L2</th>  <td>   -0.0588</td> <td>    0.008</td> <td>   -7.251</td> <td> 0.000</td> <td>   -0.075</td> <td>   -0.043</td>\n",
              "</tr>\n",
              "<tr>\n",
              "  <th>ar.L3</th>  <td>   -0.0935</td> <td>    0.007</td> <td>  -12.986</td> <td> 0.000</td> <td>   -0.108</td> <td>   -0.079</td>\n",
              "</tr>\n",
              "<tr>\n",
              "  <th>ma.L1</th>  <td>    0.4918</td> <td>    0.069</td> <td>    7.170</td> <td> 0.000</td> <td>    0.357</td> <td>    0.626</td>\n",
              "</tr>\n",
              "<tr>\n",
              "  <th>sigma2</th> <td>    1.2487</td> <td>    0.012</td> <td>  104.391</td> <td> 0.000</td> <td>    1.225</td> <td>    1.272</td>\n",
              "</tr>\n",
              "</table>\n",
              "<table class=\"simpletable\">\n",
              "<tr>\n",
              "  <th>Ljung-Box (L1) (Q):</th>     <td>0.00</td> <th>  Jarque-Bera (JB):  </th> <td>8601.33</td>\n",
              "</tr>\n",
              "<tr>\n",
              "  <th>Prob(Q):</th>                <td>0.97</td> <th>  Prob(JB):          </th>  <td>0.00</td>  \n",
              "</tr>\n",
              "<tr>\n",
              "  <th>Heteroskedasticity (H):</th> <td>0.88</td> <th>  Skew:              </th>  <td>-0.13</td> \n",
              "</tr>\n",
              "<tr>\n",
              "  <th>Prob(H) (two-sided):</th>    <td>0.01</td> <th>  Kurtosis:          </th>  <td>8.76</td>  \n",
              "</tr>\n",
              "</table><br/><br/>Warnings:<br/>[1] Covariance matrix calculated using the outer product of gradients (complex-step)."
            ],
            "text/latex": "\\begin{center}\n\\begin{tabular}{lclc}\n\\toprule\n\\textbf{Dep. Variable:}          &     returns      & \\textbf{  No. Observations:  } &    6199     \\\\\n\\textbf{Model:}                  &  ARIMA(3, 0, 1)  & \\textbf{  Log Likelihood     } & -9484.555   \\\\\n\\textbf{Date:}                   & Sun, 15 Oct 2023 & \\textbf{  AIC                } & 18981.110   \\\\\n\\textbf{Time:}                   &     03:45:51     & \\textbf{  BIC                } & 19021.503   \\\\\n\\textbf{Sample:}                 &    01-10-1994    & \\textbf{  HQIC               } & 18995.114   \\\\\n\\textbf{}                        &   - 10-12-2017   & \\textbf{                     } &             \\\\\n\\textbf{Covariance Type:}        &       opg        & \\textbf{                     } &             \\\\\n\\bottomrule\n\\end{tabular}\n\\begin{tabular}{lcccccc}\n                & \\textbf{coef} & \\textbf{std err} & \\textbf{z} & \\textbf{P$> |$z$|$} & \\textbf{[0.025} & \\textbf{0.975]}  \\\\\n\\midrule\n\\textbf{const}  &       0.0190  &        0.013     &     1.434  &         0.152        &       -0.007    &        0.045     \\\\\n\\textbf{ar.L1}  &      -0.5104  &        0.067     &    -7.571  &         0.000        &       -0.643    &       -0.378     \\\\\n\\textbf{ar.L2}  &      -0.0588  &        0.008     &    -7.251  &         0.000        &       -0.075    &       -0.043     \\\\\n\\textbf{ar.L3}  &      -0.0935  &        0.007     &   -12.986  &         0.000        &       -0.108    &       -0.079     \\\\\n\\textbf{ma.L1}  &       0.4918  &        0.069     &     7.170  &         0.000        &        0.357    &        0.626     \\\\\n\\textbf{sigma2} &       1.2487  &        0.012     &   104.391  &         0.000        &        1.225    &        1.272     \\\\\n\\bottomrule\n\\end{tabular}\n\\begin{tabular}{lclc}\n\\textbf{Ljung-Box (L1) (Q):}     & 0.00 & \\textbf{  Jarque-Bera (JB):  } & 8601.33  \\\\\n\\textbf{Prob(Q):}                & 0.97 & \\textbf{  Prob(JB):          } &   0.00   \\\\\n\\textbf{Heteroskedasticity (H):} & 0.88 & \\textbf{  Skew:              } &  -0.13   \\\\\n\\textbf{Prob(H) (two-sided):}    & 0.01 & \\textbf{  Kurtosis:          } &   8.76   \\\\\n\\bottomrule\n\\end{tabular}\n%\\caption{SARIMAX Results}\n\\end{center}\n\nWarnings: \\newline\n [1] Covariance matrix calculated using the outer product of gradients (complex-step)."
          },
          "metadata": {},
          "execution_count": 28
        }
      ]
    },
    {
      "cell_type": "code",
      "source": [
        "LLR_test(model_ret_ar_3_ma_1, model_ret_ar_3_ma_2)"
      ],
      "metadata": {
        "colab": {
          "base_uri": "https://localhost:8080/"
        },
        "id": "_L9_2B2zcLQW",
        "outputId": "e80d8d31-e1d5-4b7e-f381-1e34489f073e"
      },
      "execution_count": null,
      "outputs": [
        {
          "output_type": "execute_result",
          "data": {
            "text/plain": [
              "0.138"
            ]
          },
          "metadata": {},
          "execution_count": 29
        }
      ]
    },
    {
      "cell_type": "code",
      "source": [
        "from statsmodels.tsa.arima.model import ARIMA\n",
        "\n",
        "# Specify your order (p, d, q) for ARMA(2,2):\n",
        "p_ar = 2  # Autoregressive order\n",
        "d_ar = 0  # Differencing order (0 for ARMA)\n",
        "q_ar = 2  # Moving average order\n",
        "\n",
        "model_ret_ar_2_ma_2 = ARIMA(df.returns[1:], order=(p_ar, d_ar, q_ar))\n",
        "results_ret_ar_2_ma_2 = model_ret_ar_2_ma_2.fit()\n",
        "results_ret_ar_2_ma_2.summary()\n"
      ],
      "metadata": {
        "colab": {
          "base_uri": "https://localhost:8080/",
          "height": 494
        },
        "id": "Hi-Pe8ihcPq0",
        "outputId": "46cc2fc8-afa9-4208-d5e5-11db94e8b8f2"
      },
      "execution_count": null,
      "outputs": [
        {
          "output_type": "execute_result",
          "data": {
            "text/plain": [
              "<class 'statsmodels.iolib.summary.Summary'>\n",
              "\"\"\"\n",
              "                               SARIMAX Results                                \n",
              "==============================================================================\n",
              "Dep. Variable:                returns   No. Observations:                 6199\n",
              "Model:                 ARIMA(2, 0, 2)   Log Likelihood               -9495.543\n",
              "Date:                Sun, 15 Oct 2023   AIC                          19003.086\n",
              "Time:                        03:46:52   BIC                          19043.479\n",
              "Sample:                    01-10-1994   HQIC                         19017.090\n",
              "                         - 10-12-2017                                         \n",
              "Covariance Type:                  opg                                         \n",
              "==============================================================================\n",
              "                 coef    std err          z      P>|z|      [0.025      0.975]\n",
              "------------------------------------------------------------------------------\n",
              "const          0.0189      0.012      1.529      0.126      -0.005       0.043\n",
              "ar.L1         -0.0593      0.099     -0.599      0.549      -0.254       0.135\n",
              "ar.L2          0.7443      0.078      9.598      0.000       0.592       0.896\n",
              "ma.L1          0.0124      0.101      0.124      0.902      -0.185       0.210\n",
              "ma.L2         -0.7715      0.083     -9.262      0.000      -0.935      -0.608\n",
              "sigma2         1.2532      0.012    106.981      0.000       1.230       1.276\n",
              "===================================================================================\n",
              "Ljung-Box (L1) (Q):                   3.78   Jarque-Bera (JB):              9503.55\n",
              "Prob(Q):                              0.05   Prob(JB):                         0.00\n",
              "Heteroskedasticity (H):               0.87   Skew:                            -0.21\n",
              "Prob(H) (two-sided):                  0.00   Kurtosis:                         9.05\n",
              "===================================================================================\n",
              "\n",
              "Warnings:\n",
              "[1] Covariance matrix calculated using the outer product of gradients (complex-step).\n",
              "\"\"\""
            ],
            "text/html": [
              "<table class=\"simpletable\">\n",
              "<caption>SARIMAX Results</caption>\n",
              "<tr>\n",
              "  <th>Dep. Variable:</th>        <td>returns</td>     <th>  No. Observations:  </th>   <td>6199</td>   \n",
              "</tr>\n",
              "<tr>\n",
              "  <th>Model:</th>            <td>ARIMA(2, 0, 2)</td>  <th>  Log Likelihood     </th> <td>-9495.543</td>\n",
              "</tr>\n",
              "<tr>\n",
              "  <th>Date:</th>            <td>Sun, 15 Oct 2023</td> <th>  AIC                </th> <td>19003.086</td>\n",
              "</tr>\n",
              "<tr>\n",
              "  <th>Time:</th>                <td>03:46:52</td>     <th>  BIC                </th> <td>19043.479</td>\n",
              "</tr>\n",
              "<tr>\n",
              "  <th>Sample:</th>             <td>01-10-1994</td>    <th>  HQIC               </th> <td>19017.090</td>\n",
              "</tr>\n",
              "<tr>\n",
              "  <th></th>                   <td>- 10-12-2017</td>   <th>                     </th>     <td> </td>    \n",
              "</tr>\n",
              "<tr>\n",
              "  <th>Covariance Type:</th>        <td>opg</td>       <th>                     </th>     <td> </td>    \n",
              "</tr>\n",
              "</table>\n",
              "<table class=\"simpletable\">\n",
              "<tr>\n",
              "     <td></td>       <th>coef</th>     <th>std err</th>      <th>z</th>      <th>P>|z|</th>  <th>[0.025</th>    <th>0.975]</th>  \n",
              "</tr>\n",
              "<tr>\n",
              "  <th>const</th>  <td>    0.0189</td> <td>    0.012</td> <td>    1.529</td> <td> 0.126</td> <td>   -0.005</td> <td>    0.043</td>\n",
              "</tr>\n",
              "<tr>\n",
              "  <th>ar.L1</th>  <td>   -0.0593</td> <td>    0.099</td> <td>   -0.599</td> <td> 0.549</td> <td>   -0.254</td> <td>    0.135</td>\n",
              "</tr>\n",
              "<tr>\n",
              "  <th>ar.L2</th>  <td>    0.7443</td> <td>    0.078</td> <td>    9.598</td> <td> 0.000</td> <td>    0.592</td> <td>    0.896</td>\n",
              "</tr>\n",
              "<tr>\n",
              "  <th>ma.L1</th>  <td>    0.0124</td> <td>    0.101</td> <td>    0.124</td> <td> 0.902</td> <td>   -0.185</td> <td>    0.210</td>\n",
              "</tr>\n",
              "<tr>\n",
              "  <th>ma.L2</th>  <td>   -0.7715</td> <td>    0.083</td> <td>   -9.262</td> <td> 0.000</td> <td>   -0.935</td> <td>   -0.608</td>\n",
              "</tr>\n",
              "<tr>\n",
              "  <th>sigma2</th> <td>    1.2532</td> <td>    0.012</td> <td>  106.981</td> <td> 0.000</td> <td>    1.230</td> <td>    1.276</td>\n",
              "</tr>\n",
              "</table>\n",
              "<table class=\"simpletable\">\n",
              "<tr>\n",
              "  <th>Ljung-Box (L1) (Q):</th>     <td>3.78</td> <th>  Jarque-Bera (JB):  </th> <td>9503.55</td>\n",
              "</tr>\n",
              "<tr>\n",
              "  <th>Prob(Q):</th>                <td>0.05</td> <th>  Prob(JB):          </th>  <td>0.00</td>  \n",
              "</tr>\n",
              "<tr>\n",
              "  <th>Heteroskedasticity (H):</th> <td>0.87</td> <th>  Skew:              </th>  <td>-0.21</td> \n",
              "</tr>\n",
              "<tr>\n",
              "  <th>Prob(H) (two-sided):</th>    <td>0.00</td> <th>  Kurtosis:          </th>  <td>9.05</td>  \n",
              "</tr>\n",
              "</table><br/><br/>Warnings:<br/>[1] Covariance matrix calculated using the outer product of gradients (complex-step)."
            ],
            "text/latex": "\\begin{center}\n\\begin{tabular}{lclc}\n\\toprule\n\\textbf{Dep. Variable:}          &     returns      & \\textbf{  No. Observations:  } &    6199     \\\\\n\\textbf{Model:}                  &  ARIMA(2, 0, 2)  & \\textbf{  Log Likelihood     } & -9495.543   \\\\\n\\textbf{Date:}                   & Sun, 15 Oct 2023 & \\textbf{  AIC                } & 19003.086   \\\\\n\\textbf{Time:}                   &     03:46:52     & \\textbf{  BIC                } & 19043.479   \\\\\n\\textbf{Sample:}                 &    01-10-1994    & \\textbf{  HQIC               } & 19017.090   \\\\\n\\textbf{}                        &   - 10-12-2017   & \\textbf{                     } &             \\\\\n\\textbf{Covariance Type:}        &       opg        & \\textbf{                     } &             \\\\\n\\bottomrule\n\\end{tabular}\n\\begin{tabular}{lcccccc}\n                & \\textbf{coef} & \\textbf{std err} & \\textbf{z} & \\textbf{P$> |$z$|$} & \\textbf{[0.025} & \\textbf{0.975]}  \\\\\n\\midrule\n\\textbf{const}  &       0.0189  &        0.012     &     1.529  &         0.126        &       -0.005    &        0.043     \\\\\n\\textbf{ar.L1}  &      -0.0593  &        0.099     &    -0.599  &         0.549        &       -0.254    &        0.135     \\\\\n\\textbf{ar.L2}  &       0.7443  &        0.078     &     9.598  &         0.000        &        0.592    &        0.896     \\\\\n\\textbf{ma.L1}  &       0.0124  &        0.101     &     0.124  &         0.902        &       -0.185    &        0.210     \\\\\n\\textbf{ma.L2}  &      -0.7715  &        0.083     &    -9.262  &         0.000        &       -0.935    &       -0.608     \\\\\n\\textbf{sigma2} &       1.2532  &        0.012     &   106.981  &         0.000        &        1.230    &        1.276     \\\\\n\\bottomrule\n\\end{tabular}\n\\begin{tabular}{lclc}\n\\textbf{Ljung-Box (L1) (Q):}     & 3.78 & \\textbf{  Jarque-Bera (JB):  } & 9503.55  \\\\\n\\textbf{Prob(Q):}                & 0.05 & \\textbf{  Prob(JB):          } &   0.00   \\\\\n\\textbf{Heteroskedasticity (H):} & 0.87 & \\textbf{  Skew:              } &  -0.21   \\\\\n\\textbf{Prob(H) (two-sided):}    & 0.00 & \\textbf{  Kurtosis:          } &   9.05   \\\\\n\\bottomrule\n\\end{tabular}\n%\\caption{SARIMAX Results}\n\\end{center}\n\nWarnings: \\newline\n [1] Covariance matrix calculated using the outer product of gradients (complex-step)."
          },
          "metadata": {},
          "execution_count": 31
        }
      ]
    },
    {
      "cell_type": "code",
      "source": [
        "from statsmodels.tsa.arima.model import ARIMA\n",
        "\n",
        "# Specify your order (p, d, q) for ARMA(1,3):\n",
        "p_ar = 1  # Autoregressive order\n",
        "d_ar = 0  # Differencing order (0 for ARMA)\n",
        "q_ar = 3  # Moving average order\n",
        "\n",
        "model_ret_ar_1_ma_3 = ARIMA(df.returns[1:], order=(p_ar, d_ar, q_ar))\n",
        "results_ret_ar_1_ma_3 = model_ret_ar_1_ma_3.fit()\n",
        "results_ret_ar_1_ma_3.summary()\n"
      ],
      "metadata": {
        "colab": {
          "base_uri": "https://localhost:8080/",
          "height": 494
        },
        "id": "1SWvwqfccP4c",
        "outputId": "994a86d6-b8fc-4644-f75b-b6c2f49591d6"
      },
      "execution_count": null,
      "outputs": [
        {
          "output_type": "execute_result",
          "data": {
            "text/plain": [
              "<class 'statsmodels.iolib.summary.Summary'>\n",
              "\"\"\"\n",
              "                               SARIMAX Results                                \n",
              "==============================================================================\n",
              "Dep. Variable:                returns   No. Observations:                 6199\n",
              "Model:                 ARIMA(1, 0, 3)   Log Likelihood               -9482.332\n",
              "Date:                Sun, 15 Oct 2023   AIC                          18976.664\n",
              "Time:                        03:47:36   BIC                          19017.057\n",
              "Sample:                    01-10-1994   HQIC                         18990.668\n",
              "                         - 10-12-2017                                         \n",
              "Covariance Type:                  opg                                         \n",
              "==============================================================================\n",
              "                 coef    std err          z      P>|z|      [0.025      0.975]\n",
              "------------------------------------------------------------------------------\n",
              "const          0.0190      0.013      1.452      0.146      -0.007       0.045\n",
              "ar.L1         -0.4745      0.065     -7.347      0.000      -0.601      -0.348\n",
              "ma.L1          0.4560      0.065      7.004      0.000       0.328       0.584\n",
              "ma.L2         -0.0612      0.008     -7.769      0.000      -0.077      -0.046\n",
              "ma.L3         -0.1008      0.007    -14.056      0.000      -0.115      -0.087\n",
              "sigma2         1.2479      0.012    104.173      0.000       1.224       1.271\n",
              "===================================================================================\n",
              "Ljung-Box (L1) (Q):                   0.00   Jarque-Bera (JB):              8490.77\n",
              "Prob(Q):                              0.99   Prob(JB):                         0.00\n",
              "Heteroskedasticity (H):               0.88   Skew:                            -0.15\n",
              "Prob(H) (two-sided):                  0.01   Kurtosis:                         8.73\n",
              "===================================================================================\n",
              "\n",
              "Warnings:\n",
              "[1] Covariance matrix calculated using the outer product of gradients (complex-step).\n",
              "\"\"\""
            ],
            "text/html": [
              "<table class=\"simpletable\">\n",
              "<caption>SARIMAX Results</caption>\n",
              "<tr>\n",
              "  <th>Dep. Variable:</th>        <td>returns</td>     <th>  No. Observations:  </th>   <td>6199</td>   \n",
              "</tr>\n",
              "<tr>\n",
              "  <th>Model:</th>            <td>ARIMA(1, 0, 3)</td>  <th>  Log Likelihood     </th> <td>-9482.332</td>\n",
              "</tr>\n",
              "<tr>\n",
              "  <th>Date:</th>            <td>Sun, 15 Oct 2023</td> <th>  AIC                </th> <td>18976.664</td>\n",
              "</tr>\n",
              "<tr>\n",
              "  <th>Time:</th>                <td>03:47:36</td>     <th>  BIC                </th> <td>19017.057</td>\n",
              "</tr>\n",
              "<tr>\n",
              "  <th>Sample:</th>             <td>01-10-1994</td>    <th>  HQIC               </th> <td>18990.668</td>\n",
              "</tr>\n",
              "<tr>\n",
              "  <th></th>                   <td>- 10-12-2017</td>   <th>                     </th>     <td> </td>    \n",
              "</tr>\n",
              "<tr>\n",
              "  <th>Covariance Type:</th>        <td>opg</td>       <th>                     </th>     <td> </td>    \n",
              "</tr>\n",
              "</table>\n",
              "<table class=\"simpletable\">\n",
              "<tr>\n",
              "     <td></td>       <th>coef</th>     <th>std err</th>      <th>z</th>      <th>P>|z|</th>  <th>[0.025</th>    <th>0.975]</th>  \n",
              "</tr>\n",
              "<tr>\n",
              "  <th>const</th>  <td>    0.0190</td> <td>    0.013</td> <td>    1.452</td> <td> 0.146</td> <td>   -0.007</td> <td>    0.045</td>\n",
              "</tr>\n",
              "<tr>\n",
              "  <th>ar.L1</th>  <td>   -0.4745</td> <td>    0.065</td> <td>   -7.347</td> <td> 0.000</td> <td>   -0.601</td> <td>   -0.348</td>\n",
              "</tr>\n",
              "<tr>\n",
              "  <th>ma.L1</th>  <td>    0.4560</td> <td>    0.065</td> <td>    7.004</td> <td> 0.000</td> <td>    0.328</td> <td>    0.584</td>\n",
              "</tr>\n",
              "<tr>\n",
              "  <th>ma.L2</th>  <td>   -0.0612</td> <td>    0.008</td> <td>   -7.769</td> <td> 0.000</td> <td>   -0.077</td> <td>   -0.046</td>\n",
              "</tr>\n",
              "<tr>\n",
              "  <th>ma.L3</th>  <td>   -0.1008</td> <td>    0.007</td> <td>  -14.056</td> <td> 0.000</td> <td>   -0.115</td> <td>   -0.087</td>\n",
              "</tr>\n",
              "<tr>\n",
              "  <th>sigma2</th> <td>    1.2479</td> <td>    0.012</td> <td>  104.173</td> <td> 0.000</td> <td>    1.224</td> <td>    1.271</td>\n",
              "</tr>\n",
              "</table>\n",
              "<table class=\"simpletable\">\n",
              "<tr>\n",
              "  <th>Ljung-Box (L1) (Q):</th>     <td>0.00</td> <th>  Jarque-Bera (JB):  </th> <td>8490.77</td>\n",
              "</tr>\n",
              "<tr>\n",
              "  <th>Prob(Q):</th>                <td>0.99</td> <th>  Prob(JB):          </th>  <td>0.00</td>  \n",
              "</tr>\n",
              "<tr>\n",
              "  <th>Heteroskedasticity (H):</th> <td>0.88</td> <th>  Skew:              </th>  <td>-0.15</td> \n",
              "</tr>\n",
              "<tr>\n",
              "  <th>Prob(H) (two-sided):</th>    <td>0.01</td> <th>  Kurtosis:          </th>  <td>8.73</td>  \n",
              "</tr>\n",
              "</table><br/><br/>Warnings:<br/>[1] Covariance matrix calculated using the outer product of gradients (complex-step)."
            ],
            "text/latex": "\\begin{center}\n\\begin{tabular}{lclc}\n\\toprule\n\\textbf{Dep. Variable:}          &     returns      & \\textbf{  No. Observations:  } &    6199     \\\\\n\\textbf{Model:}                  &  ARIMA(1, 0, 3)  & \\textbf{  Log Likelihood     } & -9482.332   \\\\\n\\textbf{Date:}                   & Sun, 15 Oct 2023 & \\textbf{  AIC                } & 18976.664   \\\\\n\\textbf{Time:}                   &     03:47:36     & \\textbf{  BIC                } & 19017.057   \\\\\n\\textbf{Sample:}                 &    01-10-1994    & \\textbf{  HQIC               } & 18990.668   \\\\\n\\textbf{}                        &   - 10-12-2017   & \\textbf{                     } &             \\\\\n\\textbf{Covariance Type:}        &       opg        & \\textbf{                     } &             \\\\\n\\bottomrule\n\\end{tabular}\n\\begin{tabular}{lcccccc}\n                & \\textbf{coef} & \\textbf{std err} & \\textbf{z} & \\textbf{P$> |$z$|$} & \\textbf{[0.025} & \\textbf{0.975]}  \\\\\n\\midrule\n\\textbf{const}  &       0.0190  &        0.013     &     1.452  &         0.146        &       -0.007    &        0.045     \\\\\n\\textbf{ar.L1}  &      -0.4745  &        0.065     &    -7.347  &         0.000        &       -0.601    &       -0.348     \\\\\n\\textbf{ma.L1}  &       0.4560  &        0.065     &     7.004  &         0.000        &        0.328    &        0.584     \\\\\n\\textbf{ma.L2}  &      -0.0612  &        0.008     &    -7.769  &         0.000        &       -0.077    &       -0.046     \\\\\n\\textbf{ma.L3}  &      -0.1008  &        0.007     &   -14.056  &         0.000        &       -0.115    &       -0.087     \\\\\n\\textbf{sigma2} &       1.2479  &        0.012     &   104.173  &         0.000        &        1.224    &        1.271     \\\\\n\\bottomrule\n\\end{tabular}\n\\begin{tabular}{lclc}\n\\textbf{Ljung-Box (L1) (Q):}     & 0.00 & \\textbf{  Jarque-Bera (JB):  } & 8490.77  \\\\\n\\textbf{Prob(Q):}                & 0.99 & \\textbf{  Prob(JB):          } &   0.00   \\\\\n\\textbf{Heteroskedasticity (H):} & 0.88 & \\textbf{  Skew:              } &  -0.15   \\\\\n\\textbf{Prob(H) (two-sided):}    & 0.01 & \\textbf{  Kurtosis:          } &   8.73   \\\\\n\\bottomrule\n\\end{tabular}\n%\\caption{SARIMAX Results}\n\\end{center}\n\nWarnings: \\newline\n [1] Covariance matrix calculated using the outer product of gradients (complex-step)."
          },
          "metadata": {},
          "execution_count": 33
        }
      ]
    },
    {
      "cell_type": "code",
      "source": [
        "print(\"\\n ARMA(3,2): \\tLL = \", results_ret_ar_3_ma_2.llf, \"\\tAIC = \", results_ret_ar_3_ma_2.aic)\n",
        "print(\"\\n ARMA(1,3): \\tLL = \", results_ret_ar_1_ma_3.llf, \"\\tAIC = \", results_ret_ar_1_ma_3.aic)"
      ],
      "metadata": {
        "colab": {
          "base_uri": "https://localhost:8080/"
        },
        "id": "1orIwcyccknH",
        "outputId": "a4b4a10d-abd5-4731-b6af-9055bc54a7ba"
      },
      "execution_count": null,
      "outputs": [
        {
          "output_type": "stream",
          "name": "stdout",
          "text": [
            "\n",
            " ARMA(3,2): \tLL =  -9483.454362159595 \tAIC =  18980.90872431919\n",
            "\n",
            " ARMA(1,3): \tLL =  -9482.332180770736 \tAIC =  18976.664361541472\n"
          ]
        }
      ]
    },
    {
      "cell_type": "code",
      "source": [
        "df['res_ret_ar_3_ma_2'] = results_ret_ar_3_ma_2.resid[1:]\n",
        "df.res_ret_ar_3_ma_2.plot(figsize = (20,5))\n",
        "plt.title(\"Residuals of Returns\", size=24)\n",
        "plt.show()"
      ],
      "metadata": {
        "colab": {
          "base_uri": "https://localhost:8080/",
          "height": 394
        },
        "id": "3EgmolbDcpiY",
        "outputId": "30ffca7c-7610-4d1c-e9ce-60b9f5d8eb78"
      },
      "execution_count": null,
      "outputs": [
        {
          "output_type": "display_data",
          "data": {
            "text/plain": [
              "<Figure size 2000x500 with 1 Axes>"
            ],
            "image/png": "[encoded data removed]"
          },
          "metadata": {}
        }
      ]
    },
    {
      "cell_type": "code",
      "source": [
        "sgt.plot_acf(df.res_ret_ar_3_ma_2[2:], zero = False, lags = 40)\n",
        "plt.title(\"ACF Of Residuals for Returns\",size=24)\n",
        "plt.show()"
      ],
      "metadata": {
        "colab": {
          "base_uri": "https://localhost:8080/",
          "height": 469
        },
        "id": "NJ6MwHuzcpm2",
        "outputId": "9af851d2-abf7-4b2a-faf5-bc48f547ee64"
      },
      "execution_count": null,
      "outputs": [
        {
          "output_type": "display_data",
          "data": {
            "text/plain": [
              "<Figure size 640x480 with 1 Axes>"
            ],
            "image/png": "[encoded data removed]"
          },
          "metadata": {}
        }
      ]
    },
    {
      "cell_type": "code",
      "source": [
        "from statsmodels.tsa.arima.model import ARIMA\n",
        "\n",
        "# Specify your order (p, d, q) for ARMA(5,5):\n",
        "p_ar = 5  # Autoregressive order\n",
        "d_ar = 0  # Differencing order (0 for ARMA)\n",
        "q_ar = 5  # Moving average order\n",
        "\n",
        "model_ret_ar_5_ma_5 = ARIMA(df.returns[1:], order=(p_ar, d_ar, q_ar))\n",
        "results_ret_ar_5_ma_5 = model_ret_ar_5_ma_5.fit()\n",
        "results_ret_ar_5_ma_5.summary()\n"
      ],
      "metadata": {
        "colab": {
          "base_uri": "https://localhost:8080/",
          "height": 622
        },
        "id": "k3f21wfvcxlr",
        "outputId": "e10240e3-9fd8-4f8f-95df-e01713a76077"
      },
      "execution_count": null,
      "outputs": [
        {
          "output_type": "execute_result",
          "data": {
            "text/plain": [
              "<class 'statsmodels.iolib.summary.Summary'>\n",
              "\"\"\"\n",
              "                               SARIMAX Results                                \n",
              "==============================================================================\n",
              "Dep. Variable:                returns   No. Observations:                 6199\n",
              "Model:                 ARIMA(5, 0, 5)   Log Likelihood               -9468.950\n",
              "Date:                Sun, 15 Oct 2023   AIC                          18961.900\n",
              "Time:                        03:49:34   BIC                          19042.686\n",
              "Sample:                    01-10-1994   HQIC                         18989.909\n",
              "                         - 10-12-2017                                         \n",
              "Covariance Type:                  opg                                         \n",
              "==============================================================================\n",
              "                 coef    std err          z      P>|z|      [0.025      0.975]\n",
              "------------------------------------------------------------------------------\n",
              "const          0.0190      0.012      1.522      0.128      -0.005       0.043\n",
              "ar.L1         -0.1778      0.126     -1.414      0.157      -0.424       0.069\n",
              "ar.L2         -0.4072      0.072     -5.633      0.000      -0.549      -0.266\n",
              "ar.L3         -0.0424      0.063     -0.674      0.501      -0.166       0.081\n",
              "ar.L4          0.3595      0.064      5.609      0.000       0.234       0.485\n",
              "ar.L5          0.2668      0.091      2.944      0.003       0.089       0.445\n",
              "ma.L1          0.1557      0.125      1.245      0.213      -0.089       0.401\n",
              "ma.L2          0.3551      0.072      4.937      0.000       0.214       0.496\n",
              "ma.L3         -0.0371      0.061     -0.611      0.541      -0.156       0.082\n",
              "ma.L4         -0.3530      0.062     -5.690      0.000      -0.475      -0.231\n",
              "ma.L5         -0.3339      0.086     -3.867      0.000      -0.503      -0.165\n",
              "sigma2         1.2432      0.012    101.525      0.000       1.219       1.267\n",
              "===================================================================================\n",
              "Ljung-Box (L1) (Q):                   0.03   Jarque-Bera (JB):              8495.55\n",
              "Prob(Q):                              0.85   Prob(JB):                         0.00\n",
              "Heteroskedasticity (H):               0.89   Skew:                            -0.21\n",
              "Prob(H) (two-sided):                  0.01   Kurtosis:                         8.72\n",
              "===================================================================================\n",
              "\n",
              "Warnings:\n",
              "[1] Covariance matrix calculated using the outer product of gradients (complex-step).\n",
              "\"\"\""
            ],
            "text/html": [
              "<table class=\"simpletable\">\n",
              "<caption>SARIMAX Results</caption>\n",
              "<tr>\n",
              "  <th>Dep. Variable:</th>        <td>returns</td>     <th>  No. Observations:  </th>   <td>6199</td>   \n",
              "</tr>\n",
              "<tr>\n",
              "  <th>Model:</th>            <td>ARIMA(5, 0, 5)</td>  <th>  Log Likelihood     </th> <td>-9468.950</td>\n",
              "</tr>\n",
              "<tr>\n",
              "  <th>Date:</th>            <td>Sun, 15 Oct 2023</td> <th>  AIC                </th> <td>18961.900</td>\n",
              "</tr>\n",
              "<tr>\n",
              "  <th>Time:</th>                <td>03:49:34</td>     <th>  BIC                </th> <td>19042.686</td>\n",
              "</tr>\n",
              "<tr>\n",
              "  <th>Sample:</th>             <td>01-10-1994</td>    <th>  HQIC               </th> <td>18989.909</td>\n",
              "</tr>\n",
              "<tr>\n",
              "  <th></th>                   <td>- 10-12-2017</td>   <th>                     </th>     <td> </td>    \n",
              "</tr>\n",
              "<tr>\n",
              "  <th>Covariance Type:</th>        <td>opg</td>       <th>                     </th>     <td> </td>    \n",
              "</tr>\n",
              "</table>\n",
              "<table class=\"simpletable\">\n",
              "<tr>\n",
              "     <td></td>       <th>coef</th>     <th>std err</th>      <th>z</th>      <th>P>|z|</th>  <th>[0.025</th>    <th>0.975]</th>  \n",
              "</tr>\n",
              "<tr>\n",
              "  <th>const</th>  <td>    0.0190</td> <td>    0.012</td> <td>    1.522</td> <td> 0.128</td> <td>   -0.005</td> <td>    0.043</td>\n",
              "</tr>\n",
              "<tr>\n",
              "  <th>ar.L1</th>  <td>   -0.1778</td> <td>    0.126</td> <td>   -1.414</td> <td> 0.157</td> <td>   -0.424</td> <td>    0.069</td>\n",
              "</tr>\n",
              "<tr>\n",
              "  <th>ar.L2</th>  <td>   -0.4072</td> <td>    0.072</td> <td>   -5.633</td> <td> 0.000</td> <td>   -0.549</td> <td>   -0.266</td>\n",
              "</tr>\n",
              "<tr>\n",
              "  <th>ar.L3</th>  <td>   -0.0424</td> <td>    0.063</td> <td>   -0.674</td> <td> 0.501</td> <td>   -0.166</td> <td>    0.081</td>\n",
              "</tr>\n",
              "<tr>\n",
              "  <th>ar.L4</th>  <td>    0.3595</td> <td>    0.064</td> <td>    5.609</td> <td> 0.000</td> <td>    0.234</td> <td>    0.485</td>\n",
              "</tr>\n",
              "<tr>\n",
              "  <th>ar.L5</th>  <td>    0.2668</td> <td>    0.091</td> <td>    2.944</td> <td> 0.003</td> <td>    0.089</td> <td>    0.445</td>\n",
              "</tr>\n",
              "<tr>\n",
              "  <th>ma.L1</th>  <td>    0.1557</td> <td>    0.125</td> <td>    1.245</td> <td> 0.213</td> <td>   -0.089</td> <td>    0.401</td>\n",
              "</tr>\n",
              "<tr>\n",
              "  <th>ma.L2</th>  <td>    0.3551</td> <td>    0.072</td> <td>    4.937</td> <td> 0.000</td> <td>    0.214</td> <td>    0.496</td>\n",
              "</tr>\n",
              "<tr>\n",
              "  <th>ma.L3</th>  <td>   -0.0371</td> <td>    0.061</td> <td>   -0.611</td> <td> 0.541</td> <td>   -0.156</td> <td>    0.082</td>\n",
              "</tr>\n",
              "<tr>\n",
              "  <th>ma.L4</th>  <td>   -0.3530</td> <td>    0.062</td> <td>   -5.690</td> <td> 0.000</td> <td>   -0.475</td> <td>   -0.231</td>\n",
              "</tr>\n",
              "<tr>\n",
              "  <th>ma.L5</th>  <td>   -0.3339</td> <td>    0.086</td> <td>   -3.867</td> <td> 0.000</td> <td>   -0.503</td> <td>   -0.165</td>\n",
              "</tr>\n",
              "<tr>\n",
              "  <th>sigma2</th> <td>    1.2432</td> <td>    0.012</td> <td>  101.525</td> <td> 0.000</td> <td>    1.219</td> <td>    1.267</td>\n",
              "</tr>\n",
              "</table>\n",
              "<table class=\"simpletable\">\n",
              "<tr>\n",
              "  <th>Ljung-Box (L1) (Q):</th>     <td>0.03</td> <th>  Jarque-Bera (JB):  </th> <td>8495.55</td>\n",
              "</tr>\n",
              "<tr>\n",
              "  <th>Prob(Q):</th>                <td>0.85</td> <th>  Prob(JB):          </th>  <td>0.00</td>  \n",
              "</tr>\n",
              "<tr>\n",
              "  <th>Heteroskedasticity (H):</th> <td>0.89</td> <th>  Skew:              </th>  <td>-0.21</td> \n",
              "</tr>\n",
              "<tr>\n",
              "  <th>Prob(H) (two-sided):</th>    <td>0.01</td> <th>  Kurtosis:          </th>  <td>8.72</td>  \n",
              "</tr>\n",
              "</table><br/><br/>Warnings:<br/>[1] Covariance matrix calculated using the outer product of gradients (complex-step)."
            ],
            "text/latex": "\\begin{center}\n\\begin{tabular}{lclc}\n\\toprule\n\\textbf{Dep. Variable:}          &     returns      & \\textbf{  No. Observations:  } &    6199     \\\\\n\\textbf{Model:}                  &  ARIMA(5, 0, 5)  & \\textbf{  Log Likelihood     } & -9468.950   \\\\\n\\textbf{Date:}                   & Sun, 15 Oct 2023 & \\textbf{  AIC                } & 18961.900   \\\\\n\\textbf{Time:}                   &     03:49:34     & \\textbf{  BIC                } & 19042.686   \\\\\n\\textbf{Sample:}                 &    01-10-1994    & \\textbf{  HQIC               } & 18989.909   \\\\\n\\textbf{}                        &   - 10-12-2017   & \\textbf{                     } &             \\\\\n\\textbf{Covariance Type:}        &       opg        & \\textbf{                     } &             \\\\\n\\bottomrule\n\\end{tabular}\n\\begin{tabular}{lcccccc}\n                & \\textbf{coef} & \\textbf{std err} & \\textbf{z} & \\textbf{P$> |$z$|$} & \\textbf{[0.025} & \\textbf{0.975]}  \\\\\n\\midrule\n\\textbf{const}  &       0.0190  &        0.012     &     1.522  &         0.128        &       -0.005    &        0.043     \\\\\n\\textbf{ar.L1}  &      -0.1778  &        0.126     &    -1.414  &         0.157        &       -0.424    &        0.069     \\\\\n\\textbf{ar.L2}  &      -0.4072  &        0.072     &    -5.633  &         0.000        &       -0.549    &       -0.266     \\\\\n\\textbf{ar.L3}  &      -0.0424  &        0.063     &    -0.674  &         0.501        &       -0.166    &        0.081     \\\\\n\\textbf{ar.L4}  &       0.3595  &        0.064     &     5.609  &         0.000        &        0.234    &        0.485     \\\\\n\\textbf{ar.L5}  &       0.2668  &        0.091     &     2.944  &         0.003        &        0.089    &        0.445     \\\\\n\\textbf{ma.L1}  &       0.1557  &        0.125     &     1.245  &         0.213        &       -0.089    &        0.401     \\\\\n\\textbf{ma.L2}  &       0.3551  &        0.072     &     4.937  &         0.000        &        0.214    &        0.496     \\\\\n\\textbf{ma.L3}  &      -0.0371  &        0.061     &    -0.611  &         0.541        &       -0.156    &        0.082     \\\\\n\\textbf{ma.L4}  &      -0.3530  &        0.062     &    -5.690  &         0.000        &       -0.475    &       -0.231     \\\\\n\\textbf{ma.L5}  &      -0.3339  &        0.086     &    -3.867  &         0.000        &       -0.503    &       -0.165     \\\\\n\\textbf{sigma2} &       1.2432  &        0.012     &   101.525  &         0.000        &        1.219    &        1.267     \\\\\n\\bottomrule\n\\end{tabular}\n\\begin{tabular}{lclc}\n\\textbf{Ljung-Box (L1) (Q):}     & 0.03 & \\textbf{  Jarque-Bera (JB):  } & 8495.55  \\\\\n\\textbf{Prob(Q):}                & 0.85 & \\textbf{  Prob(JB):          } &   0.00   \\\\\n\\textbf{Heteroskedasticity (H):} & 0.89 & \\textbf{  Skew:              } &  -0.21   \\\\\n\\textbf{Prob(H) (two-sided):}    & 0.01 & \\textbf{  Kurtosis:          } &   8.72   \\\\\n\\bottomrule\n\\end{tabular}\n%\\caption{SARIMAX Results}\n\\end{center}\n\nWarnings: \\newline\n [1] Covariance matrix calculated using the outer product of gradients (complex-step)."
          },
          "metadata": {},
          "execution_count": 38
        }
      ]
    },
    {
      "cell_type": "code",
      "source": [
        "from statsmodels.tsa.arima.model import ARIMA\n",
        "\n",
        "# Specify your order (p, d, q) for ARMA(5,1):\n",
        "p_ar = 5  # Autoregressive order\n",
        "d_ar = 0  # Differencing order (0 for ARMA)\n",
        "q_ar = 1  # Moving average order\n",
        "\n",
        "model_ret_ar_5_ma_1 = ARIMA(df.returns[1:], order=(p_ar, d_ar, q_ar))\n",
        "results_ret_ar_5_ma_1 = model_ret_ar_5_ma_1.fit()\n",
        "results_ret_ar_5_ma_1.summary()\n"
      ],
      "metadata": {
        "colab": {
          "base_uri": "https://localhost:8080/",
          "height": 537
        },
        "id": "1dZ8M36adCQo",
        "outputId": "93c8ab04-a69a-4b9e-83cf-725c5fcd4e96"
      },
      "execution_count": null,
      "outputs": [
        {
          "output_type": "execute_result",
          "data": {
            "text/plain": [
              "<class 'statsmodels.iolib.summary.Summary'>\n",
              "\"\"\"\n",
              "                               SARIMAX Results                                \n",
              "==============================================================================\n",
              "Dep. Variable:                returns   No. Observations:                 6199\n",
              "Model:                 ARIMA(5, 0, 1)   Log Likelihood               -9474.591\n",
              "Date:                Sun, 15 Oct 2023   AIC                          18965.183\n",
              "Time:                        03:50:21   BIC                          19019.040\n",
              "Sample:                    01-10-1994   HQIC                         18983.855\n",
              "                         - 10-12-2017                                         \n",
              "Covariance Type:                  opg                                         \n",
              "==============================================================================\n",
              "                 coef    std err          z      P>|z|      [0.025      0.975]\n",
              "------------------------------------------------------------------------------\n",
              "const          0.0190      0.013      1.503      0.133      -0.006       0.044\n",
              "ar.L1          0.3197      0.103      3.107      0.002       0.118       0.521\n",
              "ar.L2         -0.0457      0.008     -5.566      0.000      -0.062      -0.030\n",
              "ar.L3         -0.0536      0.009     -5.884      0.000      -0.071      -0.036\n",
              "ar.L4          0.0515      0.010      4.949      0.000       0.031       0.072\n",
              "ar.L5         -0.0707      0.007     -9.593      0.000      -0.085      -0.056\n",
              "ma.L1         -0.3389      0.104     -3.267      0.001      -0.542      -0.136\n",
              "sigma2         1.2447      0.012    103.899      0.000       1.221       1.268\n",
              "===================================================================================\n",
              "Ljung-Box (L1) (Q):                   0.00   Jarque-Bera (JB):              8547.37\n",
              "Prob(Q):                              0.96   Prob(JB):                         0.00\n",
              "Heteroskedasticity (H):               0.89   Skew:                            -0.18\n",
              "Prob(H) (two-sided):                  0.01   Kurtosis:                         8.74\n",
              "===================================================================================\n",
              "\n",
              "Warnings:\n",
              "[1] Covariance matrix calculated using the outer product of gradients (complex-step).\n",
              "\"\"\""
            ],
            "text/html": [
              "<table class=\"simpletable\">\n",
              "<caption>SARIMAX Results</caption>\n",
              "<tr>\n",
              "  <th>Dep. Variable:</th>        <td>returns</td>     <th>  No. Observations:  </th>   <td>6199</td>   \n",
              "</tr>\n",
              "<tr>\n",
              "  <th>Model:</th>            <td>ARIMA(5, 0, 1)</td>  <th>  Log Likelihood     </th> <td>-9474.591</td>\n",
              "</tr>\n",
              "<tr>\n",
              "  <th>Date:</th>            <td>Sun, 15 Oct 2023</td> <th>  AIC                </th> <td>18965.183</td>\n",
              "</tr>\n",
              "<tr>\n",
              "  <th>Time:</th>                <td>03:50:21</td>     <th>  BIC                </th> <td>19019.040</td>\n",
              "</tr>\n",
              "<tr>\n",
              "  <th>Sample:</th>             <td>01-10-1994</td>    <th>  HQIC               </th> <td>18983.855</td>\n",
              "</tr>\n",
              "<tr>\n",
              "  <th></th>                   <td>- 10-12-2017</td>   <th>                     </th>     <td> </td>    \n",
              "</tr>\n",
              "<tr>\n",
              "  <th>Covariance Type:</th>        <td>opg</td>       <th>                     </th>     <td> </td>    \n",
              "</tr>\n",
              "</table>\n",
              "<table class=\"simpletable\">\n",
              "<tr>\n",
              "     <td></td>       <th>coef</th>     <th>std err</th>      <th>z</th>      <th>P>|z|</th>  <th>[0.025</th>    <th>0.975]</th>  \n",
              "</tr>\n",
              "<tr>\n",
              "  <th>const</th>  <td>    0.0190</td> <td>    0.013</td> <td>    1.503</td> <td> 0.133</td> <td>   -0.006</td> <td>    0.044</td>\n",
              "</tr>\n",
              "<tr>\n",
              "  <th>ar.L1</th>  <td>    0.3197</td> <td>    0.103</td> <td>    3.107</td> <td> 0.002</td> <td>    0.118</td> <td>    0.521</td>\n",
              "</tr>\n",
              "<tr>\n",
              "  <th>ar.L2</th>  <td>   -0.0457</td> <td>    0.008</td> <td>   -5.566</td> <td> 0.000</td> <td>   -0.062</td> <td>   -0.030</td>\n",
              "</tr>\n",
              "<tr>\n",
              "  <th>ar.L3</th>  <td>   -0.0536</td> <td>    0.009</td> <td>   -5.884</td> <td> 0.000</td> <td>   -0.071</td> <td>   -0.036</td>\n",
              "</tr>\n",
              "<tr>\n",
              "  <th>ar.L4</th>  <td>    0.0515</td> <td>    0.010</td> <td>    4.949</td> <td> 0.000</td> <td>    0.031</td> <td>    0.072</td>\n",
              "</tr>\n",
              "<tr>\n",
              "  <th>ar.L5</th>  <td>   -0.0707</td> <td>    0.007</td> <td>   -9.593</td> <td> 0.000</td> <td>   -0.085</td> <td>   -0.056</td>\n",
              "</tr>\n",
              "<tr>\n",
              "  <th>ma.L1</th>  <td>   -0.3389</td> <td>    0.104</td> <td>   -3.267</td> <td> 0.001</td> <td>   -0.542</td> <td>   -0.136</td>\n",
              "</tr>\n",
              "<tr>\n",
              "  <th>sigma2</th> <td>    1.2447</td> <td>    0.012</td> <td>  103.899</td> <td> 0.000</td> <td>    1.221</td> <td>    1.268</td>\n",
              "</tr>\n",
              "</table>\n",
              "<table class=\"simpletable\">\n",
              "<tr>\n",
              "  <th>Ljung-Box (L1) (Q):</th>     <td>0.00</td> <th>  Jarque-Bera (JB):  </th> <td>8547.37</td>\n",
              "</tr>\n",
              "<tr>\n",
              "  <th>Prob(Q):</th>                <td>0.96</td> <th>  Prob(JB):          </th>  <td>0.00</td>  \n",
              "</tr>\n",
              "<tr>\n",
              "  <th>Heteroskedasticity (H):</th> <td>0.89</td> <th>  Skew:              </th>  <td>-0.18</td> \n",
              "</tr>\n",
              "<tr>\n",
              "  <th>Prob(H) (two-sided):</th>    <td>0.01</td> <th>  Kurtosis:          </th>  <td>8.74</td>  \n",
              "</tr>\n",
              "</table><br/><br/>Warnings:<br/>[1] Covariance matrix calculated using the outer product of gradients (complex-step)."
            ],
            "text/latex": "\\begin{center}\n\\begin{tabular}{lclc}\n\\toprule\n\\textbf{Dep. Variable:}          &     returns      & \\textbf{  No. Observations:  } &    6199     \\\\\n\\textbf{Model:}                  &  ARIMA(5, 0, 1)  & \\textbf{  Log Likelihood     } & -9474.591   \\\\\n\\textbf{Date:}                   & Sun, 15 Oct 2023 & \\textbf{  AIC                } & 18965.183   \\\\\n\\textbf{Time:}                   &     03:50:21     & \\textbf{  BIC                } & 19019.040   \\\\\n\\textbf{Sample:}                 &    01-10-1994    & \\textbf{  HQIC               } & 18983.855   \\\\\n\\textbf{}                        &   - 10-12-2017   & \\textbf{                     } &             \\\\\n\\textbf{Covariance Type:}        &       opg        & \\textbf{                     } &             \\\\\n\\bottomrule\n\\end{tabular}\n\\begin{tabular}{lcccccc}\n                & \\textbf{coef} & \\textbf{std err} & \\textbf{z} & \\textbf{P$> |$z$|$} & \\textbf{[0.025} & \\textbf{0.975]}  \\\\\n\\midrule\n\\textbf{const}  &       0.0190  &        0.013     &     1.503  &         0.133        &       -0.006    &        0.044     \\\\\n\\textbf{ar.L1}  &       0.3197  &        0.103     &     3.107  &         0.002        &        0.118    &        0.521     \\\\\n\\textbf{ar.L2}  &      -0.0457  &        0.008     &    -5.566  &         0.000        &       -0.062    &       -0.030     \\\\\n\\textbf{ar.L3}  &      -0.0536  &        0.009     &    -5.884  &         0.000        &       -0.071    &       -0.036     \\\\\n\\textbf{ar.L4}  &       0.0515  &        0.010     &     4.949  &         0.000        &        0.031    &        0.072     \\\\\n\\textbf{ar.L5}  &      -0.0707  &        0.007     &    -9.593  &         0.000        &       -0.085    &       -0.056     \\\\\n\\textbf{ma.L1}  &      -0.3389  &        0.104     &    -3.267  &         0.001        &       -0.542    &       -0.136     \\\\\n\\textbf{sigma2} &       1.2447  &        0.012     &   103.899  &         0.000        &        1.221    &        1.268     \\\\\n\\bottomrule\n\\end{tabular}\n\\begin{tabular}{lclc}\n\\textbf{Ljung-Box (L1) (Q):}     & 0.00 & \\textbf{  Jarque-Bera (JB):  } & 8547.37  \\\\\n\\textbf{Prob(Q):}                & 0.96 & \\textbf{  Prob(JB):          } &   0.00   \\\\\n\\textbf{Heteroskedasticity (H):} & 0.89 & \\textbf{  Skew:              } &  -0.18   \\\\\n\\textbf{Prob(H) (two-sided):}    & 0.01 & \\textbf{  Kurtosis:          } &   8.74   \\\\\n\\bottomrule\n\\end{tabular}\n%\\caption{SARIMAX Results}\n\\end{center}\n\nWarnings: \\newline\n [1] Covariance matrix calculated using the outer product of gradients (complex-step)."
          },
          "metadata": {},
          "execution_count": 40
        }
      ]
    }
  ]
}