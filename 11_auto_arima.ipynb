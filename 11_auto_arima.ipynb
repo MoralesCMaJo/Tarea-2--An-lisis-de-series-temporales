{
  "nbformat": 4,
  "nbformat_minor": 0,
  "metadata": {
    "colab": {
      "provenance": [],
      "authorship_tag": "ABX9TyPupiL2V6aYuee6xpPZn2zW",
      "include_colab_link": true
    },
    "kernelspec": {
      "name": "python3",
      "display_name": "Python 3"
    },
    "language_info": {
      "name": "python"
    }
  },
  "cells": [
    {
      "cell_type": "markdown",
      "metadata": {
        "id": "view-in-github",
        "colab_type": "text"
      },
      "source": [
        "<a href=\"https://colab.research.google.com/github/MoralesCMaJo/Tarea-2--An-lisis-de-series-temporales/blob/main/11_auto_arima.ipynb\" target=\"_parent\"><img src=\"https://colab.research.google.com/assets/colab-badge.svg\" alt=\"Open In Colab\"/></a>"
      ]
    },
    {
      "cell_type": "markdown",
      "source": [
        "Packages"
      ],
      "metadata": {
        "id": "4p2J991X2Qf4"
      }
    },
    {
      "cell_type": "code",
      "source": [
        "!pip install arch\n",
        "import numpy as np\n",
        "import pandas as pd\n",
        "import scipy\n",
        "import statsmodels.api as sm\n",
        "import matplotlib.pyplot as plt\n",
        "import seaborn as sns\n",
        "import sklearn\n",
        "from statsmodels.tsa.arima_model import ARIMA\n",
        "from arch import arch_model\n",
        "import seaborn as sns\n",
        "import yfinance\n",
        "import warnings\n",
        "warnings.filterwarnings(\"ignore\")\n",
        "sns.set()"
      ],
      "metadata": {
        "colab": {
          "base_uri": "https://localhost:8080/"
        },
        "id": "XbyUe5t-2RBb",
        "outputId": "aaf3ed06-a3a4-41bf-cfcf-036a8611e8f7"
      },
      "execution_count": null,
      "outputs": [
        {
          "output_type": "stream",
          "name": "stdout",
          "text": [
            "Collecting arch\n",
            "  Downloading arch-6.2.0-cp310-cp310-manylinux_2_17_x86_64.manylinux2014_x86_64.whl (981 kB)\n",
            "\u001b[?25l     \u001b[90m━━━━━━━━━━━━━━━━━━━━━━━━━━━━━━━━━━━━━━━━\u001b[0m \u001b[32m0.0/981.7 kB\u001b[0m \u001b[31m?\u001b[0m eta \u001b[36m-:--:--\u001b[0m\r\u001b[2K     \u001b[91m━━━━━\u001b[0m\u001b[91m╸\u001b[0m\u001b[90m━━━━━━━━━━━━━━━━━━━━━━━━━━━━━━━━━━\u001b[0m \u001b[32m143.4/981.7 kB\u001b[0m \u001b[31m4.1 MB/s\u001b[0m eta \u001b[36m0:00:01\u001b[0m\r\u001b[2K     \u001b[90m━━━━━━━━━━━━━━━━━━━━━━━━━━━━━━━━━━━━━━━━\u001b[0m \u001b[32m981.7/981.7 kB\u001b[0m \u001b[31m16.7 MB/s\u001b[0m eta \u001b[36m0:00:00\u001b[0m\n",
            "\u001b[?25hRequirement already satisfied: numpy>=1.19 in /usr/local/lib/python3.10/dist-packages (from arch) (1.23.5)\n",
            "Requirement already satisfied: scipy>=1.5 in /usr/local/lib/python3.10/dist-packages (from arch) (1.11.3)\n",
            "Requirement already satisfied: pandas>=1.1 in /usr/local/lib/python3.10/dist-packages (from arch) (1.5.3)\n",
            "Requirement already satisfied: statsmodels>=0.12 in /usr/local/lib/python3.10/dist-packages (from arch) (0.14.0)\n",
            "Requirement already satisfied: python-dateutil>=2.8.1 in /usr/local/lib/python3.10/dist-packages (from pandas>=1.1->arch) (2.8.2)\n",
            "Requirement already satisfied: pytz>=2020.1 in /usr/local/lib/python3.10/dist-packages (from pandas>=1.1->arch) (2023.3.post1)\n",
            "Requirement already satisfied: patsy>=0.5.2 in /usr/local/lib/python3.10/dist-packages (from statsmodels>=0.12->arch) (0.5.3)\n",
            "Requirement already satisfied: packaging>=21.3 in /usr/local/lib/python3.10/dist-packages (from statsmodels>=0.12->arch) (23.2)\n",
            "Requirement already satisfied: six in /usr/local/lib/python3.10/dist-packages (from patsy>=0.5.2->statsmodels>=0.12->arch) (1.16.0)\n",
            "Installing collected packages: arch\n",
            "Successfully installed arch-6.2.0\n"
          ]
        }
      ]
    },
    {
      "cell_type": "markdown",
      "source": [
        "Loading the data"
      ],
      "metadata": {
        "id": "82J_WcYF2qlz"
      }
    },
    {
      "cell_type": "code",
      "source": [
        "raw_data = yfinance.download(tickers=\"^GSPC ^FTSE ^N225 ^GDAXI\", start=\"1994-01-07\", end=\"2023-09-22\", interval=\"1d\", group_by='ticker', auto_adjust=True, threads=True)"
      ],
      "metadata": {
        "colab": {
          "base_uri": "https://localhost:8080/"
        },
        "id": "-sx99qws2reT",
        "outputId": "9a6d62f4-9402-4103-db83-c0facbc290c4"
      },
      "execution_count": null,
      "outputs": [
        {
          "output_type": "stream",
          "name": "stdout",
          "text": [
            "[*********************100%%**********************]  4 of 4 completed\n"
          ]
        }
      ]
    },
    {
      "cell_type": "code",
      "source": [
        "df_comp = raw_data.copy()\n"
      ],
      "metadata": {
        "id": "JiTk7_6I3lVB"
      },
      "execution_count": null,
      "outputs": []
    },
    {
      "cell_type": "code",
      "source": [
        "df_comp['spx'] = df_comp['^GSPC'].Close[:]\n",
        "df_comp['dax'] = df_comp['^GDAXI'].Close[:]\n",
        "df_comp['ftse'] = df_comp['^FTSE'].Close[:]\n",
        "df_comp['nikkei'] = df_comp['^N225'].Close[:]\n",
        "df_comp = df_comp.iloc[1:]\n",
        "del df_comp['^N225']\n",
        "del df_comp['^GSPC']\n",
        "del df_comp['^GDAXI']\n",
        "del df_comp['^FTSE']\n",
        "df_comp=df_comp.asfreq('b')\n",
        "df_comp=df_comp.fillna(method='ffill')"
      ],
      "metadata": {
        "id": "dLJOAXd13mgu"
      },
      "execution_count": null,
      "outputs": []
    },
    {
      "cell_type": "markdown",
      "source": [
        "Creating Returns"
      ],
      "metadata": {
        "id": "HDG5QIMm3uNS"
      }
    },
    {
      "cell_type": "code",
      "source": [
        "df_comp['ret_spx'] = df_comp.spx.pct_change(1)*100\n",
        "df_comp['ret_ftse'] = df_comp.ftse.pct_change(1)*100\n",
        "df_comp['ret_dax'] = df_comp.dax.pct_change(1)*100\n",
        "df_comp['ret_nikkei'] = df_comp.nikkei.pct_change(1)*100"
      ],
      "metadata": {
        "id": "3Yfh1b5j3vA5"
      },
      "execution_count": null,
      "outputs": []
    },
    {
      "cell_type": "markdown",
      "source": [
        "Splitting the Data"
      ],
      "metadata": {
        "id": "uSR7Txnp30cL"
      }
    },
    {
      "cell_type": "code",
      "source": [
        "size = int(len(df_comp)*0.8)\n",
        "df, df_test = df_comp.iloc[:size], df_comp.iloc[size:]"
      ],
      "metadata": {
        "id": "xInUUauy3047"
      },
      "execution_count": null,
      "outputs": []
    },
    {
      "cell_type": "markdown",
      "source": [
        "Fitting a Model"
      ],
      "metadata": {
        "id": "FKnIoEk735Z4"
      }
    },
    {
      "cell_type": "code",
      "source": [
        "!pip install pmdarima\n",
        "from pmdarima.arima import auto_arima\n",
        "model_auto = auto_arima(df.ret_ftse[1:])\n",
        "model_auto"
      ],
      "metadata": {
        "colab": {
          "base_uri": "https://localhost:8080/",
          "height": 421
        },
        "id": "H-yuGUnF37Rk",
        "outputId": "239ca50a-adb3-42e3-8b12-816ac1087242"
      },
      "execution_count": null,
      "outputs": [
        {
          "output_type": "stream",
          "name": "stdout",
          "text": [
            "Collecting pmdarima\n",
            "  Downloading pmdarima-2.0.3-cp310-cp310-manylinux_2_17_x86_64.manylinux2014_x86_64.manylinux_2_28_x86_64.whl (1.8 MB)\n",
            "\u001b[?25l     \u001b[90m━━━━━━━━━━━━━━━━━━━━━━━━━━━━━━━━━━━━━━━━\u001b[0m \u001b[32m0.0/1.8 MB\u001b[0m \u001b[31m?\u001b[0m eta \u001b[36m-:--:--\u001b[0m\r\u001b[2K     \u001b[91m━━━━━━━━━━━━━━━━━━━━━━\u001b[0m\u001b[91m╸\u001b[0m\u001b[90m━━━━━━━━━━━━━━━━━\u001b[0m \u001b[32m1.1/1.8 MB\u001b[0m \u001b[31m31.7 MB/s\u001b[0m eta \u001b[36m0:00:01\u001b[0m\r\u001b[2K     \u001b[90m━━━━━━━━━━━━━━━━━━━━━━━━━━━━━━━━━━━━━━━━\u001b[0m \u001b[32m1.8/1.8 MB\u001b[0m \u001b[31m31.5 MB/s\u001b[0m eta \u001b[36m0:00:00\u001b[0m\n",
            "\u001b[?25hRequirement already satisfied: joblib>=0.11 in /usr/local/lib/python3.10/dist-packages (from pmdarima) (1.3.2)\n",
            "Requirement already satisfied: Cython!=0.29.18,!=0.29.31,>=0.29 in /usr/local/lib/python3.10/dist-packages (from pmdarima) (3.0.3)\n",
            "Requirement already satisfied: numpy>=1.21.2 in /usr/local/lib/python3.10/dist-packages (from pmdarima) (1.23.5)\n",
            "Requirement already satisfied: pandas>=0.19 in /usr/local/lib/python3.10/dist-packages (from pmdarima) (1.5.3)\n",
            "Requirement already satisfied: scikit-learn>=0.22 in /usr/local/lib/python3.10/dist-packages (from pmdarima) (1.2.2)\n",
            "Requirement already satisfied: scipy>=1.3.2 in /usr/local/lib/python3.10/dist-packages (from pmdarima) (1.11.3)\n",
            "Requirement already satisfied: statsmodels>=0.13.2 in /usr/local/lib/python3.10/dist-packages (from pmdarima) (0.14.0)\n",
            "Requirement already satisfied: urllib3 in /usr/local/lib/python3.10/dist-packages (from pmdarima) (2.0.6)\n",
            "Requirement already satisfied: setuptools!=50.0.0,>=38.6.0 in /usr/local/lib/python3.10/dist-packages (from pmdarima) (67.7.2)\n",
            "Requirement already satisfied: python-dateutil>=2.8.1 in /usr/local/lib/python3.10/dist-packages (from pandas>=0.19->pmdarima) (2.8.2)\n",
            "Requirement already satisfied: pytz>=2020.1 in /usr/local/lib/python3.10/dist-packages (from pandas>=0.19->pmdarima) (2023.3.post1)\n",
            "Requirement already satisfied: threadpoolctl>=2.0.0 in /usr/local/lib/python3.10/dist-packages (from scikit-learn>=0.22->pmdarima) (3.2.0)\n",
            "Requirement already satisfied: patsy>=0.5.2 in /usr/local/lib/python3.10/dist-packages (from statsmodels>=0.13.2->pmdarima) (0.5.3)\n",
            "Requirement already satisfied: packaging>=21.3 in /usr/local/lib/python3.10/dist-packages (from statsmodels>=0.13.2->pmdarima) (23.2)\n",
            "Requirement already satisfied: six in /usr/local/lib/python3.10/dist-packages (from patsy>=0.5.2->statsmodels>=0.13.2->pmdarima) (1.16.0)\n",
            "Installing collected packages: pmdarima\n",
            "Successfully installed pmdarima-2.0.3\n"
          ]
        },
        {
          "output_type": "execute_result",
          "data": {
            "text/plain": [
              "ARIMA(order=(4, 0, 5), scoring_args={}, suppress_warnings=True)"
            ],
            "text/html": [
              "<style>#sk-container-id-1 {color: black;background-color: white;}#sk-container-id-1 pre{padding: 0;}#sk-container-id-1 div.sk-toggleable {background-color: white;}#sk-container-id-1 label.sk-toggleable__label {cursor: pointer;display: block;width: 100%;margin-bottom: 0;padding: 0.3em;box-sizing: border-box;text-align: center;}#sk-container-id-1 label.sk-toggleable__label-arrow:before {content: \"▸\";float: left;margin-right: 0.25em;color: #696969;}#sk-container-id-1 label.sk-toggleable__label-arrow:hover:before {color: black;}#sk-container-id-1 div.sk-estimator:hover label.sk-toggleable__label-arrow:before {color: black;}#sk-container-id-1 div.sk-toggleable__content {max-height: 0;max-width: 0;overflow: hidden;text-align: left;background-color: #f0f8ff;}#sk-container-id-1 div.sk-toggleable__content pre {margin: 0.2em;color: black;border-radius: 0.25em;background-color: #f0f8ff;}#sk-container-id-1 input.sk-toggleable__control:checked~div.sk-toggleable__content {max-height: 200px;max-width: 100%;overflow: auto;}#sk-container-id-1 input.sk-toggleable__control:checked~label.sk-toggleable__label-arrow:before {content: \"▾\";}#sk-container-id-1 div.sk-estimator input.sk-toggleable__control:checked~label.sk-toggleable__label {background-color: #d4ebff;}#sk-container-id-1 div.sk-label input.sk-toggleable__control:checked~label.sk-toggleable__label {background-color: #d4ebff;}#sk-container-id-1 input.sk-hidden--visually {border: 0;clip: rect(1px 1px 1px 1px);clip: rect(1px, 1px, 1px, 1px);height: 1px;margin: -1px;overflow: hidden;padding: 0;position: absolute;width: 1px;}#sk-container-id-1 div.sk-estimator {font-family: monospace;background-color: #f0f8ff;border: 1px dotted black;border-radius: 0.25em;box-sizing: border-box;margin-bottom: 0.5em;}#sk-container-id-1 div.sk-estimator:hover {background-color: #d4ebff;}#sk-container-id-1 div.sk-parallel-item::after {content: \"\";width: 100%;border-bottom: 1px solid gray;flex-grow: 1;}#sk-container-id-1 div.sk-label:hover label.sk-toggleable__label {background-color: #d4ebff;}#sk-container-id-1 div.sk-serial::before {content: \"\";position: absolute;border-left: 1px solid gray;box-sizing: border-box;top: 0;bottom: 0;left: 50%;z-index: 0;}#sk-container-id-1 div.sk-serial {display: flex;flex-direction: column;align-items: center;background-color: white;padding-right: 0.2em;padding-left: 0.2em;position: relative;}#sk-container-id-1 div.sk-item {position: relative;z-index: 1;}#sk-container-id-1 div.sk-parallel {display: flex;align-items: stretch;justify-content: center;background-color: white;position: relative;}#sk-container-id-1 div.sk-item::before, #sk-container-id-1 div.sk-parallel-item::before {content: \"\";position: absolute;border-left: 1px solid gray;box-sizing: border-box;top: 0;bottom: 0;left: 50%;z-index: -1;}#sk-container-id-1 div.sk-parallel-item {display: flex;flex-direction: column;z-index: 1;position: relative;background-color: white;}#sk-container-id-1 div.sk-parallel-item:first-child::after {align-self: flex-end;width: 50%;}#sk-container-id-1 div.sk-parallel-item:last-child::after {align-self: flex-start;width: 50%;}#sk-container-id-1 div.sk-parallel-item:only-child::after {width: 0;}#sk-container-id-1 div.sk-dashed-wrapped {border: 1px dashed gray;margin: 0 0.4em 0.5em 0.4em;box-sizing: border-box;padding-bottom: 0.4em;background-color: white;}#sk-container-id-1 div.sk-label label {font-family: monospace;font-weight: bold;display: inline-block;line-height: 1.2em;}#sk-container-id-1 div.sk-label-container {text-align: center;}#sk-container-id-1 div.sk-container {/* jupyter's `normalize.less` sets `[hidden] { display: none; }` but bootstrap.min.css set `[hidden] { display: none !important; }` so we also need the `!important` here to be able to override the default hidden behavior on the sphinx rendered scikit-learn.org. See: https://github.com/scikit-learn/scikit-learn/issues/21755 */display: inline-block !important;position: relative;}#sk-container-id-1 div.sk-text-repr-fallback {display: none;}</style><div id=\"sk-container-id-1\" class=\"sk-top-container\"><div class=\"sk-text-repr-fallback\"><pre> ARIMA(4,0,5)(0,0,0)[0] intercept</pre><b>In a Jupyter environment, please rerun this cell to show the HTML representation or trust the notebook. <br />On GitHub, the HTML representation is unable to render, please try loading this page with nbviewer.org.</b></div><div class=\"sk-container\" hidden><div class=\"sk-item\"><div class=\"sk-estimator sk-toggleable\"><input class=\"sk-toggleable__control sk-hidden--visually\" id=\"sk-estimator-id-1\" type=\"checkbox\" checked><label for=\"sk-estimator-id-1\" class=\"sk-toggleable__label sk-toggleable__label-arrow\">ARIMA</label><div class=\"sk-toggleable__content\"><pre> ARIMA(4,0,5)(0,0,0)[0] intercept</pre></div></div></div></div></div>"
            ]
          },
          "metadata": {},
          "execution_count": 10
        }
      ]
    },
    {
      "cell_type": "code",
      "source": [
        "model_auto.summary()\n"
      ],
      "metadata": {
        "colab": {
          "base_uri": "https://localhost:8080/",
          "height": 590
        },
        "id": "4Yqq-fkS4su_",
        "outputId": "a3d417d8-9590-44e1-dd0d-dea13efc47a1"
      },
      "execution_count": null,
      "outputs": [
        {
          "output_type": "execute_result",
          "data": {
            "text/plain": [
              "<class 'statsmodels.iolib.summary.Summary'>\n",
              "\"\"\"\n",
              "                               SARIMAX Results                                \n",
              "==============================================================================\n",
              "Dep. Variable:                      y   No. Observations:                 6198\n",
              "Model:               SARIMAX(4, 0, 5)   Log Likelihood               -9467.424\n",
              "Date:                Sat, 14 Oct 2023   AIC                          18956.848\n",
              "Time:                        06:32:25   BIC                          19030.900\n",
              "Sample:                    01-11-1994   HQIC                         18982.522\n",
              "                         - 10-12-2017                                         \n",
              "Covariance Type:                  opg                                         \n",
              "==============================================================================\n",
              "                 coef    std err          z      P>|z|      [0.025      0.975]\n",
              "------------------------------------------------------------------------------\n",
              "intercept      0.0266      0.017      1.534      0.125      -0.007       0.061\n",
              "ar.L1          0.0954      0.077      1.232      0.218      -0.056       0.247\n",
              "ar.L2         -0.5629      0.077     -7.287      0.000      -0.714      -0.411\n",
              "ar.L3         -0.1137      0.071     -1.608      0.108      -0.252       0.025\n",
              "ar.L4          0.2900      0.074      3.898      0.000       0.144       0.436\n",
              "ma.L1         -0.1153      0.077     -1.490      0.136      -0.267       0.036\n",
              "ma.L2          0.5215      0.079      6.619      0.000       0.367       0.676\n",
              "ma.L3          0.0358      0.070      0.513      0.608      -0.101       0.173\n",
              "ma.L4         -0.2879      0.075     -3.860      0.000      -0.434      -0.142\n",
              "ma.L5         -0.0897      0.008    -10.589      0.000      -0.106      -0.073\n",
              "sigma2         1.2417      0.012    102.841      0.000       1.218       1.265\n",
              "===================================================================================\n",
              "Ljung-Box (L1) (Q):                   0.00   Jarque-Bera (JB):              8499.29\n",
              "Prob(Q):                              0.99   Prob(JB):                         0.00\n",
              "Heteroskedasticity (H):               0.89   Skew:                            -0.20\n",
              "Prob(H) (two-sided):                  0.01   Kurtosis:                         8.72\n",
              "===================================================================================\n",
              "\n",
              "Warnings:\n",
              "[1] Covariance matrix calculated using the outer product of gradients (complex-step).\n",
              "\"\"\""
            ],
            "text/html": [
              "<table class=\"simpletable\">\n",
              "<caption>SARIMAX Results</caption>\n",
              "<tr>\n",
              "  <th>Dep. Variable:</th>           <td>y</td>        <th>  No. Observations:  </th>   <td>6198</td>   \n",
              "</tr>\n",
              "<tr>\n",
              "  <th>Model:</th>           <td>SARIMAX(4, 0, 5)</td> <th>  Log Likelihood     </th> <td>-9467.424</td>\n",
              "</tr>\n",
              "<tr>\n",
              "  <th>Date:</th>            <td>Sat, 14 Oct 2023</td> <th>  AIC                </th> <td>18956.848</td>\n",
              "</tr>\n",
              "<tr>\n",
              "  <th>Time:</th>                <td>06:32:25</td>     <th>  BIC                </th> <td>19030.900</td>\n",
              "</tr>\n",
              "<tr>\n",
              "  <th>Sample:</th>             <td>01-11-1994</td>    <th>  HQIC               </th> <td>18982.522</td>\n",
              "</tr>\n",
              "<tr>\n",
              "  <th></th>                   <td>- 10-12-2017</td>   <th>                     </th>     <td> </td>    \n",
              "</tr>\n",
              "<tr>\n",
              "  <th>Covariance Type:</th>        <td>opg</td>       <th>                     </th>     <td> </td>    \n",
              "</tr>\n",
              "</table>\n",
              "<table class=\"simpletable\">\n",
              "<tr>\n",
              "      <td></td>         <th>coef</th>     <th>std err</th>      <th>z</th>      <th>P>|z|</th>  <th>[0.025</th>    <th>0.975]</th>  \n",
              "</tr>\n",
              "<tr>\n",
              "  <th>intercept</th> <td>    0.0266</td> <td>    0.017</td> <td>    1.534</td> <td> 0.125</td> <td>   -0.007</td> <td>    0.061</td>\n",
              "</tr>\n",
              "<tr>\n",
              "  <th>ar.L1</th>     <td>    0.0954</td> <td>    0.077</td> <td>    1.232</td> <td> 0.218</td> <td>   -0.056</td> <td>    0.247</td>\n",
              "</tr>\n",
              "<tr>\n",
              "  <th>ar.L2</th>     <td>   -0.5629</td> <td>    0.077</td> <td>   -7.287</td> <td> 0.000</td> <td>   -0.714</td> <td>   -0.411</td>\n",
              "</tr>\n",
              "<tr>\n",
              "  <th>ar.L3</th>     <td>   -0.1137</td> <td>    0.071</td> <td>   -1.608</td> <td> 0.108</td> <td>   -0.252</td> <td>    0.025</td>\n",
              "</tr>\n",
              "<tr>\n",
              "  <th>ar.L4</th>     <td>    0.2900</td> <td>    0.074</td> <td>    3.898</td> <td> 0.000</td> <td>    0.144</td> <td>    0.436</td>\n",
              "</tr>\n",
              "<tr>\n",
              "  <th>ma.L1</th>     <td>   -0.1153</td> <td>    0.077</td> <td>   -1.490</td> <td> 0.136</td> <td>   -0.267</td> <td>    0.036</td>\n",
              "</tr>\n",
              "<tr>\n",
              "  <th>ma.L2</th>     <td>    0.5215</td> <td>    0.079</td> <td>    6.619</td> <td> 0.000</td> <td>    0.367</td> <td>    0.676</td>\n",
              "</tr>\n",
              "<tr>\n",
              "  <th>ma.L3</th>     <td>    0.0358</td> <td>    0.070</td> <td>    0.513</td> <td> 0.608</td> <td>   -0.101</td> <td>    0.173</td>\n",
              "</tr>\n",
              "<tr>\n",
              "  <th>ma.L4</th>     <td>   -0.2879</td> <td>    0.075</td> <td>   -3.860</td> <td> 0.000</td> <td>   -0.434</td> <td>   -0.142</td>\n",
              "</tr>\n",
              "<tr>\n",
              "  <th>ma.L5</th>     <td>   -0.0897</td> <td>    0.008</td> <td>  -10.589</td> <td> 0.000</td> <td>   -0.106</td> <td>   -0.073</td>\n",
              "</tr>\n",
              "<tr>\n",
              "  <th>sigma2</th>    <td>    1.2417</td> <td>    0.012</td> <td>  102.841</td> <td> 0.000</td> <td>    1.218</td> <td>    1.265</td>\n",
              "</tr>\n",
              "</table>\n",
              "<table class=\"simpletable\">\n",
              "<tr>\n",
              "  <th>Ljung-Box (L1) (Q):</th>     <td>0.00</td> <th>  Jarque-Bera (JB):  </th> <td>8499.29</td>\n",
              "</tr>\n",
              "<tr>\n",
              "  <th>Prob(Q):</th>                <td>0.99</td> <th>  Prob(JB):          </th>  <td>0.00</td>  \n",
              "</tr>\n",
              "<tr>\n",
              "  <th>Heteroskedasticity (H):</th> <td>0.89</td> <th>  Skew:              </th>  <td>-0.20</td> \n",
              "</tr>\n",
              "<tr>\n",
              "  <th>Prob(H) (two-sided):</th>    <td>0.01</td> <th>  Kurtosis:          </th>  <td>8.72</td>  \n",
              "</tr>\n",
              "</table><br/><br/>Warnings:<br/>[1] Covariance matrix calculated using the outer product of gradients (complex-step)."
            ],
            "text/latex": "\\begin{center}\n\\begin{tabular}{lclc}\n\\toprule\n\\textbf{Dep. Variable:}          &        y         & \\textbf{  No. Observations:  } &    6198     \\\\\n\\textbf{Model:}                  & SARIMAX(4, 0, 5) & \\textbf{  Log Likelihood     } & -9467.424   \\\\\n\\textbf{Date:}                   & Sat, 14 Oct 2023 & \\textbf{  AIC                } & 18956.848   \\\\\n\\textbf{Time:}                   &     06:32:25     & \\textbf{  BIC                } & 19030.900   \\\\\n\\textbf{Sample:}                 &    01-11-1994    & \\textbf{  HQIC               } & 18982.522   \\\\\n\\textbf{}                        &   - 10-12-2017   & \\textbf{                     } &             \\\\\n\\textbf{Covariance Type:}        &       opg        & \\textbf{                     } &             \\\\\n\\bottomrule\n\\end{tabular}\n\\begin{tabular}{lcccccc}\n                   & \\textbf{coef} & \\textbf{std err} & \\textbf{z} & \\textbf{P$> |$z$|$} & \\textbf{[0.025} & \\textbf{0.975]}  \\\\\n\\midrule\n\\textbf{intercept} &       0.0266  &        0.017     &     1.534  &         0.125        &       -0.007    &        0.061     \\\\\n\\textbf{ar.L1}     &       0.0954  &        0.077     &     1.232  &         0.218        &       -0.056    &        0.247     \\\\\n\\textbf{ar.L2}     &      -0.5629  &        0.077     &    -7.287  &         0.000        &       -0.714    &       -0.411     \\\\\n\\textbf{ar.L3}     &      -0.1137  &        0.071     &    -1.608  &         0.108        &       -0.252    &        0.025     \\\\\n\\textbf{ar.L4}     &       0.2900  &        0.074     &     3.898  &         0.000        &        0.144    &        0.436     \\\\\n\\textbf{ma.L1}     &      -0.1153  &        0.077     &    -1.490  &         0.136        &       -0.267    &        0.036     \\\\\n\\textbf{ma.L2}     &       0.5215  &        0.079     &     6.619  &         0.000        &        0.367    &        0.676     \\\\\n\\textbf{ma.L3}     &       0.0358  &        0.070     &     0.513  &         0.608        &       -0.101    &        0.173     \\\\\n\\textbf{ma.L4}     &      -0.2879  &        0.075     &    -3.860  &         0.000        &       -0.434    &       -0.142     \\\\\n\\textbf{ma.L5}     &      -0.0897  &        0.008     &   -10.589  &         0.000        &       -0.106    &       -0.073     \\\\\n\\textbf{sigma2}    &       1.2417  &        0.012     &   102.841  &         0.000        &        1.218    &        1.265     \\\\\n\\bottomrule\n\\end{tabular}\n\\begin{tabular}{lclc}\n\\textbf{Ljung-Box (L1) (Q):}     & 0.00 & \\textbf{  Jarque-Bera (JB):  } & 8499.29  \\\\\n\\textbf{Prob(Q):}                & 0.99 & \\textbf{  Prob(JB):          } &   0.00   \\\\\n\\textbf{Heteroskedasticity (H):} & 0.89 & \\textbf{  Skew:              } &  -0.20   \\\\\n\\textbf{Prob(H) (two-sided):}    & 0.01 & \\textbf{  Kurtosis:          } &   8.72   \\\\\n\\bottomrule\n\\end{tabular}\n%\\caption{SARIMAX Results}\n\\end{center}\n\nWarnings: \\newline\n [1] Covariance matrix calculated using the outer product of gradients (complex-step)."
          },
          "metadata": {},
          "execution_count": 11
        }
      ]
    },
    {
      "cell_type": "markdown",
      "source": [
        "Important Arguments"
      ],
      "metadata": {
        "id": "mlim614m4x_e"
      }
    },
    {
      "cell_type": "code",
      "source": [
        "model_auto = auto_arima(df_comp.ret_ftse[1:], exogenous = df_comp[['ret_spx', 'ret_dax', 'ret_nikkei']][1:], m = 5,\n",
        "                       max_order = None, max_p = 7, max_q = 7, max_d = 2, max_P = 4, max_Q = 4, max_D = 2,\n",
        "                       maxiter = 50, alpha = 0.05, n_jobs = -1, trend = 'ct', information_criterion = 'oob',\n",
        "                       out_of_sample = int(len(df_comp)*0.2))"
      ],
      "metadata": {
        "id": "57CSbrbW4yvS"
      },
      "execution_count": null,
      "outputs": []
    },
    {
      "cell_type": "code",
      "source": [
        "model_auto.summary()\n"
      ],
      "metadata": {
        "id": "Q4-rgnPF84Y2",
        "outputId": "b5fbb318-0e03-4021-d8b1-02284a2c29ab",
        "colab": {
          "base_uri": "https://localhost:8080/",
          "height": 590
        }
      },
      "execution_count": null,
      "outputs": [
        {
          "output_type": "execute_result",
          "data": {
            "text/plain": [
              "<class 'statsmodels.iolib.summary.Summary'>\n",
              "\"\"\"\n",
              "                                       SARIMAX Results                                        \n",
              "==============================================================================================\n",
              "Dep. Variable:                                      y   No. Observations:                 7748\n",
              "Model:             SARIMAX(3, 0, 3)x(0, 0, [1, 2], 5)   Log Likelihood              -11753.349\n",
              "Date:                                Sat, 14 Oct 2023   AIC                          23528.699\n",
              "Time:                                        06:50:54   BIC                          23605.206\n",
              "Sample:                                    01-11-1994   HQIC                         23554.928\n",
              "                                         - 09-21-2023                                         \n",
              "Covariance Type:                                  opg                                         \n",
              "==============================================================================\n",
              "                 coef    std err          z      P>|z|      [0.025      0.975]\n",
              "------------------------------------------------------------------------------\n",
              "intercept      0.0258      0.027      0.945      0.345      -0.028       0.079\n",
              "drift      -1.871e-06   6.25e-06     -0.300      0.765   -1.41e-05    1.04e-05\n",
              "ar.L1         -0.3021      0.071     -4.235      0.000      -0.442      -0.162\n",
              "ar.L2         -0.2584      0.071     -3.642      0.000      -0.397      -0.119\n",
              "ar.L3          0.3822      0.073      5.270      0.000       0.240       0.524\n",
              "ma.L1          0.2821      0.068      4.128      0.000       0.148       0.416\n",
              "ma.L2          0.2149      0.070      3.090      0.002       0.079       0.351\n",
              "ma.L3         -0.4610      0.070     -6.627      0.000      -0.597      -0.325\n",
              "ma.S.L5       -0.0353      0.007     -4.791      0.000      -0.050      -0.021\n",
              "ma.S.L10      -0.0114      0.007     -1.537      0.124      -0.026       0.003\n",
              "sigma2         1.2196      0.009    129.151      0.000       1.201       1.238\n",
              "===================================================================================\n",
              "Ljung-Box (L1) (Q):                   0.00   Jarque-Bera (JB):             18520.43\n",
              "Prob(Q):                              0.99   Prob(JB):                         0.00\n",
              "Heteroskedasticity (H):               0.76   Skew:                            -0.32\n",
              "Prob(H) (two-sided):                  0.00   Kurtosis:                        10.55\n",
              "===================================================================================\n",
              "\n",
              "Warnings:\n",
              "[1] Covariance matrix calculated using the outer product of gradients (complex-step).\n",
              "\"\"\""
            ],
            "text/html": [
              "<table class=\"simpletable\">\n",
              "<caption>SARIMAX Results</caption>\n",
              "<tr>\n",
              "  <th>Dep. Variable:</th>                    <td>y</td>                 <th>  No. Observations:  </th>    <td>7748</td>   \n",
              "</tr>\n",
              "<tr>\n",
              "  <th>Model:</th>           <td>SARIMAX(3, 0, 3)x(0, 0, [1, 2], 5)</td> <th>  Log Likelihood     </th> <td>-11753.349</td>\n",
              "</tr>\n",
              "<tr>\n",
              "  <th>Date:</th>                     <td>Sat, 14 Oct 2023</td>          <th>  AIC                </th>  <td>23528.699</td>\n",
              "</tr>\n",
              "<tr>\n",
              "  <th>Time:</th>                         <td>06:50:54</td>              <th>  BIC                </th>  <td>23605.206</td>\n",
              "</tr>\n",
              "<tr>\n",
              "  <th>Sample:</th>                      <td>01-11-1994</td>             <th>  HQIC               </th>  <td>23554.928</td>\n",
              "</tr>\n",
              "<tr>\n",
              "  <th></th>                            <td>- 09-21-2023</td>            <th>                     </th>      <td> </td>    \n",
              "</tr>\n",
              "<tr>\n",
              "  <th>Covariance Type:</th>                 <td>opg</td>                <th>                     </th>      <td> </td>    \n",
              "</tr>\n",
              "</table>\n",
              "<table class=\"simpletable\">\n",
              "<tr>\n",
              "      <td></td>         <th>coef</th>     <th>std err</th>      <th>z</th>      <th>P>|z|</th>  <th>[0.025</th>    <th>0.975]</th>  \n",
              "</tr>\n",
              "<tr>\n",
              "  <th>intercept</th> <td>    0.0258</td> <td>    0.027</td> <td>    0.945</td> <td> 0.345</td> <td>   -0.028</td> <td>    0.079</td>\n",
              "</tr>\n",
              "<tr>\n",
              "  <th>drift</th>     <td>-1.871e-06</td> <td> 6.25e-06</td> <td>   -0.300</td> <td> 0.765</td> <td>-1.41e-05</td> <td> 1.04e-05</td>\n",
              "</tr>\n",
              "<tr>\n",
              "  <th>ar.L1</th>     <td>   -0.3021</td> <td>    0.071</td> <td>   -4.235</td> <td> 0.000</td> <td>   -0.442</td> <td>   -0.162</td>\n",
              "</tr>\n",
              "<tr>\n",
              "  <th>ar.L2</th>     <td>   -0.2584</td> <td>    0.071</td> <td>   -3.642</td> <td> 0.000</td> <td>   -0.397</td> <td>   -0.119</td>\n",
              "</tr>\n",
              "<tr>\n",
              "  <th>ar.L3</th>     <td>    0.3822</td> <td>    0.073</td> <td>    5.270</td> <td> 0.000</td> <td>    0.240</td> <td>    0.524</td>\n",
              "</tr>\n",
              "<tr>\n",
              "  <th>ma.L1</th>     <td>    0.2821</td> <td>    0.068</td> <td>    4.128</td> <td> 0.000</td> <td>    0.148</td> <td>    0.416</td>\n",
              "</tr>\n",
              "<tr>\n",
              "  <th>ma.L2</th>     <td>    0.2149</td> <td>    0.070</td> <td>    3.090</td> <td> 0.002</td> <td>    0.079</td> <td>    0.351</td>\n",
              "</tr>\n",
              "<tr>\n",
              "  <th>ma.L3</th>     <td>   -0.4610</td> <td>    0.070</td> <td>   -6.627</td> <td> 0.000</td> <td>   -0.597</td> <td>   -0.325</td>\n",
              "</tr>\n",
              "<tr>\n",
              "  <th>ma.S.L5</th>   <td>   -0.0353</td> <td>    0.007</td> <td>   -4.791</td> <td> 0.000</td> <td>   -0.050</td> <td>   -0.021</td>\n",
              "</tr>\n",
              "<tr>\n",
              "  <th>ma.S.L10</th>  <td>   -0.0114</td> <td>    0.007</td> <td>   -1.537</td> <td> 0.124</td> <td>   -0.026</td> <td>    0.003</td>\n",
              "</tr>\n",
              "<tr>\n",
              "  <th>sigma2</th>    <td>    1.2196</td> <td>    0.009</td> <td>  129.151</td> <td> 0.000</td> <td>    1.201</td> <td>    1.238</td>\n",
              "</tr>\n",
              "</table>\n",
              "<table class=\"simpletable\">\n",
              "<tr>\n",
              "  <th>Ljung-Box (L1) (Q):</th>     <td>0.00</td> <th>  Jarque-Bera (JB):  </th> <td>18520.43</td>\n",
              "</tr>\n",
              "<tr>\n",
              "  <th>Prob(Q):</th>                <td>0.99</td> <th>  Prob(JB):          </th>   <td>0.00</td>  \n",
              "</tr>\n",
              "<tr>\n",
              "  <th>Heteroskedasticity (H):</th> <td>0.76</td> <th>  Skew:              </th>   <td>-0.32</td> \n",
              "</tr>\n",
              "<tr>\n",
              "  <th>Prob(H) (two-sided):</th>    <td>0.00</td> <th>  Kurtosis:          </th>   <td>10.55</td> \n",
              "</tr>\n",
              "</table><br/><br/>Warnings:<br/>[1] Covariance matrix calculated using the outer product of gradients (complex-step)."
            ],
            "text/latex": "\\begin{center}\n\\begin{tabular}{lclc}\n\\toprule\n\\textbf{Dep. Variable:}          &                 y                  & \\textbf{  No. Observations:  } &    7748     \\\\\n\\textbf{Model:}                  & SARIMAX(3, 0, 3)x(0, 0, [1, 2], 5) & \\textbf{  Log Likelihood     } & -11753.349  \\\\\n\\textbf{Date:}                   &          Sat, 14 Oct 2023          & \\textbf{  AIC                } & 23528.699   \\\\\n\\textbf{Time:}                   &              06:50:54              & \\textbf{  BIC                } & 23605.206   \\\\\n\\textbf{Sample:}                 &             01-11-1994             & \\textbf{  HQIC               } & 23554.928   \\\\\n\\textbf{}                        &            - 09-21-2023            & \\textbf{                     } &             \\\\\n\\textbf{Covariance Type:}        &                opg                 & \\textbf{                     } &             \\\\\n\\bottomrule\n\\end{tabular}\n\\begin{tabular}{lcccccc}\n                   & \\textbf{coef} & \\textbf{std err} & \\textbf{z} & \\textbf{P$> |$z$|$} & \\textbf{[0.025} & \\textbf{0.975]}  \\\\\n\\midrule\n\\textbf{intercept} &       0.0258  &        0.027     &     0.945  &         0.345        &       -0.028    &        0.079     \\\\\n\\textbf{drift}     &   -1.871e-06  &     6.25e-06     &    -0.300  &         0.765        &    -1.41e-05    &     1.04e-05     \\\\\n\\textbf{ar.L1}     &      -0.3021  &        0.071     &    -4.235  &         0.000        &       -0.442    &       -0.162     \\\\\n\\textbf{ar.L2}     &      -0.2584  &        0.071     &    -3.642  &         0.000        &       -0.397    &       -0.119     \\\\\n\\textbf{ar.L3}     &       0.3822  &        0.073     &     5.270  &         0.000        &        0.240    &        0.524     \\\\\n\\textbf{ma.L1}     &       0.2821  &        0.068     &     4.128  &         0.000        &        0.148    &        0.416     \\\\\n\\textbf{ma.L2}     &       0.2149  &        0.070     &     3.090  &         0.002        &        0.079    &        0.351     \\\\\n\\textbf{ma.L3}     &      -0.4610  &        0.070     &    -6.627  &         0.000        &       -0.597    &       -0.325     \\\\\n\\textbf{ma.S.L5}   &      -0.0353  &        0.007     &    -4.791  &         0.000        &       -0.050    &       -0.021     \\\\\n\\textbf{ma.S.L10}  &      -0.0114  &        0.007     &    -1.537  &         0.124        &       -0.026    &        0.003     \\\\\n\\textbf{sigma2}    &       1.2196  &        0.009     &   129.151  &         0.000        &        1.201    &        1.238     \\\\\n\\bottomrule\n\\end{tabular}\n\\begin{tabular}{lclc}\n\\textbf{Ljung-Box (L1) (Q):}     & 0.00 & \\textbf{  Jarque-Bera (JB):  } & 18520.43  \\\\\n\\textbf{Prob(Q):}                & 0.99 & \\textbf{  Prob(JB):          } &   0.00    \\\\\n\\textbf{Heteroskedasticity (H):} & 0.76 & \\textbf{  Skew:              } &  -0.32    \\\\\n\\textbf{Prob(H) (two-sided):}    & 0.00 & \\textbf{  Kurtosis:          } &  10.55    \\\\\n\\bottomrule\n\\end{tabular}\n%\\caption{SARIMAX Results}\n\\end{center}\n\nWarnings: \\newline\n [1] Covariance matrix calculated using the outer product of gradients (complex-step)."
          },
          "metadata": {},
          "execution_count": 13
        }
      ]
    }
  ]
}